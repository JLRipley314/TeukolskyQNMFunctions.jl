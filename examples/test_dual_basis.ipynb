{
 "cells": [
  {
   "cell_type": "code",
   "execution_count": 1,
   "id": "a3c04521",
   "metadata": {},
   "outputs": [],
   "source": [
    "## include the source file (if you have not downloaded as a package)\n",
    "\n",
    "include(\"../src/Chebyshev.jl\")\n",
    "import .Chebyshev as CH\n",
    "\n",
    "include(\"../src/Gegenbauer.jl\")\n",
    "import .Gegenbauer as GE\n",
    "\n",
    "include(\"../src/SpectralRadialODE.jl\")\n",
    "import .RadialODE as RODE"
   ]
  },
  {
   "cell_type": "code",
   "execution_count": 2,
   "id": "0ef87605",
   "metadata": {},
   "outputs": [],
   "source": [
    "import Plots\n",
    "using LaTeXStrings\n",
    "using Plots\n",
    "#using PyPlot\n",
    "using LinearAlgebra\n",
    "#using GenericSchur\n",
    "using SparseArrays"
   ]
  },
  {
   "cell_type": "code",
   "execution_count": null,
   "id": "07853661",
   "metadata": {},
   "outputs": [],
   "source": []
  },
  {
   "cell_type": "code",
   "execution_count": 3,
   "id": "eafc573f",
   "metadata": {},
   "outputs": [],
   "source": [
    "T=Float64\n",
    "\n",
    "rmin=T(-1.);\n",
    "rmax=T(1.);\n",
    "nr=20;\n"
   ]
  },
  {
   "cell_type": "code",
   "execution_count": 4,
   "id": "d8b85243",
   "metadata": {},
   "outputs": [],
   "source": [
    "pts = CH.cheb_pts(rmin, rmax, nr);"
   ]
  },
  {
   "cell_type": "code",
   "execution_count": 5,
   "id": "45a7218b",
   "metadata": {},
   "outputs": [],
   "source": [
    "sqr_func = pts.^2;"
   ]
  },
  {
   "cell_type": "code",
   "execution_count": 6,
   "id": "f2d51a39",
   "metadata": {},
   "outputs": [],
   "source": [
    "cube_func = pts.^3;"
   ]
  },
  {
   "cell_type": "code",
   "execution_count": 7,
   "id": "bcf47bd1",
   "metadata": {},
   "outputs": [],
   "source": [
    "sqr_spec = CH.to_cheb(sqr_func);"
   ]
  },
  {
   "cell_type": "code",
   "execution_count": 8,
   "id": "d29ac5bb",
   "metadata": {},
   "outputs": [],
   "source": [
    "pts_spec = CH.to_cheb(pts);"
   ]
  },
  {
   "cell_type": "code",
   "execution_count": 9,
   "id": "3fb6e99a",
   "metadata": {},
   "outputs": [],
   "source": [
    "cube_spec = CH.to_cheb(cube_func);"
   ]
  },
  {
   "cell_type": "code",
   "execution_count": 10,
   "id": "94e51ea8",
   "metadata": {},
   "outputs": [],
   "source": [
    "sin_func = [sin(p) for p in pts];\n",
    "cos_func = [cos(p) for p in pts];\n",
    "sin_sqr_func = [sin(p).^2 for p in pts];"
   ]
  },
  {
   "cell_type": "code",
   "execution_count": 11,
   "id": "acb29644",
   "metadata": {},
   "outputs": [],
   "source": [
    "sin_spec = CH.to_cheb(sin_func);\n",
    "cos_spec = CH.to_cheb(cos_func);\n",
    "sin_sqr_spec = CH.to_cheb(sin_sqr_func);"
   ]
  },
  {
   "cell_type": "code",
   "execution_count": 12,
   "id": "4dc075f1",
   "metadata": {},
   "outputs": [
    {
     "data": {
      "image/svg+xml": [
       "<?xml version=\"1.0\" encoding=\"utf-8\"?>\n",
       "<svg xmlns=\"http://www.w3.org/2000/svg\" xmlns:xlink=\"http://www.w3.org/1999/xlink\" width=\"600\" height=\"400\" viewBox=\"0 0 2400 1600\">\n",
       "<defs>\n",
       "  <clipPath id=\"clip590\">\n",
       "    <rect x=\"0\" y=\"0\" width=\"2400\" height=\"1600\"/>\n",
       "  </clipPath>\n",
       "</defs>\n",
       "<path clip-path=\"url(#clip590)\" d=\"\n",
       "M0 1600 L2400 1600 L2400 0 L0 0  Z\n",
       "  \" fill=\"#ffffff\" fill-rule=\"evenodd\" fill-opacity=\"1\"/>\n",
       "<defs>\n",
       "  <clipPath id=\"clip591\">\n",
       "    <rect x=\"480\" y=\"0\" width=\"1681\" height=\"1600\"/>\n",
       "  </clipPath>\n",
       "</defs>\n",
       "<path clip-path=\"url(#clip590)\" d=\"\n",
       "M192.941 1486.45 L2352.76 1486.45 L2352.76 47.2441 L192.941 47.2441  Z\n",
       "  \" fill=\"#ffffff\" fill-rule=\"evenodd\" fill-opacity=\"1\"/>\n",
       "<defs>\n",
       "  <clipPath id=\"clip592\">\n",
       "    <rect x=\"192\" y=\"47\" width=\"2161\" height=\"1440\"/>\n",
       "  </clipPath>\n",
       "</defs>\n",
       "<polyline clip-path=\"url(#clip592)\" style=\"stroke:#000000; stroke-linecap:round; stroke-linejoin:round; stroke-width:2; stroke-opacity:0.1; fill:none\" points=\"\n",
       "  254.067,1486.45 254.067,47.2441 \n",
       "  \"/>\n",
       "<polyline clip-path=\"url(#clip592)\" style=\"stroke:#000000; stroke-linecap:round; stroke-linejoin:round; stroke-width:2; stroke-opacity:0.1; fill:none\" points=\"\n",
       "  763.458,1486.45 763.458,47.2441 \n",
       "  \"/>\n",
       "<polyline clip-path=\"url(#clip592)\" style=\"stroke:#000000; stroke-linecap:round; stroke-linejoin:round; stroke-width:2; stroke-opacity:0.1; fill:none\" points=\"\n",
       "  1272.85,1486.45 1272.85,47.2441 \n",
       "  \"/>\n",
       "<polyline clip-path=\"url(#clip592)\" style=\"stroke:#000000; stroke-linecap:round; stroke-linejoin:round; stroke-width:2; stroke-opacity:0.1; fill:none\" points=\"\n",
       "  1782.24,1486.45 1782.24,47.2441 \n",
       "  \"/>\n",
       "<polyline clip-path=\"url(#clip592)\" style=\"stroke:#000000; stroke-linecap:round; stroke-linejoin:round; stroke-width:2; stroke-opacity:0.1; fill:none\" points=\"\n",
       "  2291.63,1486.45 2291.63,47.2441 \n",
       "  \"/>\n",
       "<polyline clip-path=\"url(#clip590)\" style=\"stroke:#000000; stroke-linecap:round; stroke-linejoin:round; stroke-width:4; stroke-opacity:1; fill:none\" points=\"\n",
       "  192.941,1486.45 2352.76,1486.45 \n",
       "  \"/>\n",
       "<polyline clip-path=\"url(#clip590)\" style=\"stroke:#000000; stroke-linecap:round; stroke-linejoin:round; stroke-width:4; stroke-opacity:1; fill:none\" points=\"\n",
       "  254.067,1486.45 254.067,1467.55 \n",
       "  \"/>\n",
       "<polyline clip-path=\"url(#clip590)\" style=\"stroke:#000000; stroke-linecap:round; stroke-linejoin:round; stroke-width:4; stroke-opacity:1; fill:none\" points=\"\n",
       "  763.458,1486.45 763.458,1467.55 \n",
       "  \"/>\n",
       "<polyline clip-path=\"url(#clip590)\" style=\"stroke:#000000; stroke-linecap:round; stroke-linejoin:round; stroke-width:4; stroke-opacity:1; fill:none\" points=\"\n",
       "  1272.85,1486.45 1272.85,1467.55 \n",
       "  \"/>\n",
       "<polyline clip-path=\"url(#clip590)\" style=\"stroke:#000000; stroke-linecap:round; stroke-linejoin:round; stroke-width:4; stroke-opacity:1; fill:none\" points=\"\n",
       "  1782.24,1486.45 1782.24,1467.55 \n",
       "  \"/>\n",
       "<polyline clip-path=\"url(#clip590)\" style=\"stroke:#000000; stroke-linecap:round; stroke-linejoin:round; stroke-width:4; stroke-opacity:1; fill:none\" points=\"\n",
       "  2291.63,1486.45 2291.63,1467.55 \n",
       "  \"/>\n",
       "<path clip-path=\"url(#clip590)\" d=\"M200.596 1532.02 L230.271 1532.02 L230.271 1535.95 L200.596 1535.95 L200.596 1532.02 Z\" fill=\"#000000\" fill-rule=\"evenodd\" fill-opacity=\"1\" /><path clip-path=\"url(#clip590)\" d=\"M241.174 1544.91 L248.813 1544.91 L248.813 1518.55 L240.503 1520.21 L240.503 1515.95 L248.767 1514.29 L253.442 1514.29 L253.442 1544.91 L261.081 1544.91 L261.081 1548.85 L241.174 1548.85 L241.174 1544.91 Z\" fill=\"#000000\" fill-rule=\"evenodd\" fill-opacity=\"1\" /><path clip-path=\"url(#clip590)\" d=\"M270.526 1542.97 L275.41 1542.97 L275.41 1548.85 L270.526 1548.85 L270.526 1542.97 Z\" fill=\"#000000\" fill-rule=\"evenodd\" fill-opacity=\"1\" /><path clip-path=\"url(#clip590)\" d=\"M295.595 1517.37 Q291.984 1517.37 290.155 1520.93 Q288.35 1524.47 288.35 1531.6 Q288.35 1538.71 290.155 1542.27 Q291.984 1545.82 295.595 1545.82 Q299.229 1545.82 301.035 1542.27 Q302.864 1538.71 302.864 1531.6 Q302.864 1524.47 301.035 1520.93 Q299.229 1517.37 295.595 1517.37 M295.595 1513.66 Q301.405 1513.66 304.461 1518.27 Q307.539 1522.85 307.539 1531.6 Q307.539 1540.33 304.461 1544.94 Q301.405 1549.52 295.595 1549.52 Q289.785 1549.52 286.706 1544.94 Q283.651 1540.33 283.651 1531.6 Q283.651 1522.85 286.706 1518.27 Q289.785 1513.66 295.595 1513.66 Z\" fill=\"#000000\" fill-rule=\"evenodd\" fill-opacity=\"1\" /><path clip-path=\"url(#clip590)\" d=\"M710.484 1532.02 L740.159 1532.02 L740.159 1535.95 L710.484 1535.95 L710.484 1532.02 Z\" fill=\"#000000\" fill-rule=\"evenodd\" fill-opacity=\"1\" /><path clip-path=\"url(#clip590)\" d=\"M760.252 1517.37 Q756.641 1517.37 754.812 1520.93 Q753.007 1524.47 753.007 1531.6 Q753.007 1538.71 754.812 1542.27 Q756.641 1545.82 760.252 1545.82 Q763.886 1545.82 765.692 1542.27 Q767.52 1538.71 767.52 1531.6 Q767.52 1524.47 765.692 1520.93 Q763.886 1517.37 760.252 1517.37 M760.252 1513.66 Q766.062 1513.66 769.118 1518.27 Q772.196 1522.85 772.196 1531.6 Q772.196 1540.33 769.118 1544.94 Q766.062 1549.52 760.252 1549.52 Q754.442 1549.52 751.363 1544.94 Q748.307 1540.33 748.307 1531.6 Q748.307 1522.85 751.363 1518.27 Q754.442 1513.66 760.252 1513.66 Z\" fill=\"#000000\" fill-rule=\"evenodd\" fill-opacity=\"1\" /><path clip-path=\"url(#clip590)\" d=\"M780.414 1542.97 L785.298 1542.97 L785.298 1548.85 L780.414 1548.85 L780.414 1542.97 Z\" fill=\"#000000\" fill-rule=\"evenodd\" fill-opacity=\"1\" /><path clip-path=\"url(#clip590)\" d=\"M795.529 1514.29 L813.886 1514.29 L813.886 1518.22 L799.812 1518.22 L799.812 1526.7 Q800.83 1526.35 801.849 1526.19 Q802.867 1526 803.886 1526 Q809.673 1526 813.053 1529.17 Q816.432 1532.34 816.432 1537.76 Q816.432 1543.34 812.96 1546.44 Q809.488 1549.52 803.168 1549.52 Q800.992 1549.52 798.724 1549.15 Q796.479 1548.78 794.071 1548.04 L794.071 1543.34 Q796.154 1544.47 798.377 1545.03 Q800.599 1545.58 803.076 1545.58 Q807.08 1545.58 809.418 1543.48 Q811.756 1541.37 811.756 1537.76 Q811.756 1534.15 809.418 1532.04 Q807.08 1529.94 803.076 1529.94 Q801.201 1529.94 799.326 1530.35 Q797.474 1530.77 795.529 1531.65 L795.529 1514.29 Z\" fill=\"#000000\" fill-rule=\"evenodd\" fill-opacity=\"1\" /><path clip-path=\"url(#clip590)\" d=\"M1250.23 1517.37 Q1246.62 1517.37 1244.79 1520.93 Q1242.99 1524.47 1242.99 1531.6 Q1242.99 1538.71 1244.79 1542.27 Q1246.62 1545.82 1250.23 1545.82 Q1253.87 1545.82 1255.67 1542.27 Q1257.5 1538.71 1257.5 1531.6 Q1257.5 1524.47 1255.67 1520.93 Q1253.87 1517.37 1250.23 1517.37 M1250.23 1513.66 Q1256.04 1513.66 1259.1 1518.27 Q1262.18 1522.85 1262.18 1531.6 Q1262.18 1540.33 1259.1 1544.94 Q1256.04 1549.52 1250.23 1549.52 Q1244.42 1549.52 1241.34 1544.94 Q1238.29 1540.33 1238.29 1531.6 Q1238.29 1522.85 1241.34 1518.27 Q1244.42 1513.66 1250.23 1513.66 Z\" fill=\"#000000\" fill-rule=\"evenodd\" fill-opacity=\"1\" /><path clip-path=\"url(#clip590)\" d=\"M1270.39 1542.97 L1275.28 1542.97 L1275.28 1548.85 L1270.39 1548.85 L1270.39 1542.97 Z\" fill=\"#000000\" fill-rule=\"evenodd\" fill-opacity=\"1\" /><path clip-path=\"url(#clip590)\" d=\"M1295.46 1517.37 Q1291.85 1517.37 1290.02 1520.93 Q1288.22 1524.47 1288.22 1531.6 Q1288.22 1538.71 1290.02 1542.27 Q1291.85 1545.82 1295.46 1545.82 Q1299.1 1545.82 1300.9 1542.27 Q1302.73 1538.71 1302.73 1531.6 Q1302.73 1524.47 1300.9 1520.93 Q1299.1 1517.37 1295.46 1517.37 M1295.46 1513.66 Q1301.27 1513.66 1304.33 1518.27 Q1307.41 1522.85 1307.41 1531.6 Q1307.41 1540.33 1304.33 1544.94 Q1301.27 1549.52 1295.46 1549.52 Q1289.65 1549.52 1286.58 1544.94 Q1283.52 1540.33 1283.52 1531.6 Q1283.52 1522.85 1286.58 1518.27 Q1289.65 1513.66 1295.46 1513.66 Z\" fill=\"#000000\" fill-rule=\"evenodd\" fill-opacity=\"1\" /><path clip-path=\"url(#clip590)\" d=\"M1760.12 1517.37 Q1756.51 1517.37 1754.68 1520.93 Q1752.88 1524.47 1752.88 1531.6 Q1752.88 1538.71 1754.68 1542.27 Q1756.51 1545.82 1760.12 1545.82 Q1763.75 1545.82 1765.56 1542.27 Q1767.39 1538.71 1767.39 1531.6 Q1767.39 1524.47 1765.56 1520.93 Q1763.75 1517.37 1760.12 1517.37 M1760.12 1513.66 Q1765.93 1513.66 1768.99 1518.27 Q1772.07 1522.85 1772.07 1531.6 Q1772.07 1540.33 1768.99 1544.94 Q1765.93 1549.52 1760.12 1549.52 Q1754.31 1549.52 1751.23 1544.94 Q1748.18 1540.33 1748.18 1531.6 Q1748.18 1522.85 1751.23 1518.27 Q1754.31 1513.66 1760.12 1513.66 Z\" fill=\"#000000\" fill-rule=\"evenodd\" fill-opacity=\"1\" /><path clip-path=\"url(#clip590)\" d=\"M1780.28 1542.97 L1785.17 1542.97 L1785.17 1548.85 L1780.28 1548.85 L1780.28 1542.97 Z\" fill=\"#000000\" fill-rule=\"evenodd\" fill-opacity=\"1\" /><path clip-path=\"url(#clip590)\" d=\"M1795.4 1514.29 L1813.75 1514.29 L1813.75 1518.22 L1799.68 1518.22 L1799.68 1526.7 Q1800.7 1526.35 1801.72 1526.19 Q1802.74 1526 1803.75 1526 Q1809.54 1526 1812.92 1529.17 Q1816.3 1532.34 1816.3 1537.76 Q1816.3 1543.34 1812.83 1546.44 Q1809.36 1549.52 1803.04 1549.52 Q1800.86 1549.52 1798.59 1549.15 Q1796.35 1548.78 1793.94 1548.04 L1793.94 1543.34 Q1796.02 1544.47 1798.25 1545.03 Q1800.47 1545.58 1802.94 1545.58 Q1806.95 1545.58 1809.29 1543.48 Q1811.63 1541.37 1811.63 1537.76 Q1811.63 1534.15 1809.29 1532.04 Q1806.95 1529.94 1802.94 1529.94 Q1801.07 1529.94 1799.19 1530.35 Q1797.34 1530.77 1795.4 1531.65 L1795.4 1514.29 Z\" fill=\"#000000\" fill-rule=\"evenodd\" fill-opacity=\"1\" /><path clip-path=\"url(#clip590)\" d=\"M2258.78 1544.91 L2266.42 1544.91 L2266.42 1518.55 L2258.11 1520.21 L2258.11 1515.95 L2266.37 1514.29 L2271.05 1514.29 L2271.05 1544.91 L2278.69 1544.91 L2278.69 1548.85 L2258.78 1548.85 L2258.78 1544.91 Z\" fill=\"#000000\" fill-rule=\"evenodd\" fill-opacity=\"1\" /><path clip-path=\"url(#clip590)\" d=\"M2288.13 1542.97 L2293.02 1542.97 L2293.02 1548.85 L2288.13 1548.85 L2288.13 1542.97 Z\" fill=\"#000000\" fill-rule=\"evenodd\" fill-opacity=\"1\" /><path clip-path=\"url(#clip590)\" d=\"M2313.2 1517.37 Q2309.59 1517.37 2307.76 1520.93 Q2305.96 1524.47 2305.96 1531.6 Q2305.96 1538.71 2307.76 1542.27 Q2309.59 1545.82 2313.2 1545.82 Q2316.84 1545.82 2318.64 1542.27 Q2320.47 1538.71 2320.47 1531.6 Q2320.47 1524.47 2318.64 1520.93 Q2316.84 1517.37 2313.2 1517.37 M2313.2 1513.66 Q2319.01 1513.66 2322.07 1518.27 Q2325.15 1522.85 2325.15 1531.6 Q2325.15 1540.33 2322.07 1544.94 Q2319.01 1549.52 2313.2 1549.52 Q2307.39 1549.52 2304.31 1544.94 Q2301.26 1540.33 2301.26 1531.6 Q2301.26 1522.85 2304.31 1518.27 Q2307.39 1513.66 2313.2 1513.66 Z\" fill=\"#000000\" fill-rule=\"evenodd\" fill-opacity=\"1\" /><polyline clip-path=\"url(#clip592)\" style=\"stroke:#000000; stroke-linecap:round; stroke-linejoin:round; stroke-width:2; stroke-opacity:0.1; fill:none\" points=\"\n",
       "  192.941,1193.48 2352.76,1193.48 \n",
       "  \"/>\n",
       "<polyline clip-path=\"url(#clip592)\" style=\"stroke:#000000; stroke-linecap:round; stroke-linejoin:round; stroke-width:2; stroke-opacity:0.1; fill:none\" points=\"\n",
       "  192.941,824.138 2352.76,824.138 \n",
       "  \"/>\n",
       "<polyline clip-path=\"url(#clip592)\" style=\"stroke:#000000; stroke-linecap:round; stroke-linejoin:round; stroke-width:2; stroke-opacity:0.1; fill:none\" points=\"\n",
       "  192.941,454.799 2352.76,454.799 \n",
       "  \"/>\n",
       "<polyline clip-path=\"url(#clip592)\" style=\"stroke:#000000; stroke-linecap:round; stroke-linejoin:round; stroke-width:2; stroke-opacity:0.1; fill:none\" points=\"\n",
       "  192.941,85.4591 2352.76,85.4591 \n",
       "  \"/>\n",
       "<polyline clip-path=\"url(#clip590)\" style=\"stroke:#000000; stroke-linecap:round; stroke-linejoin:round; stroke-width:4; stroke-opacity:1; fill:none\" points=\"\n",
       "  192.941,1486.45 192.941,47.2441 \n",
       "  \"/>\n",
       "<polyline clip-path=\"url(#clip590)\" style=\"stroke:#000000; stroke-linecap:round; stroke-linejoin:round; stroke-width:4; stroke-opacity:1; fill:none\" points=\"\n",
       "  192.941,1193.48 211.838,1193.48 \n",
       "  \"/>\n",
       "<polyline clip-path=\"url(#clip590)\" style=\"stroke:#000000; stroke-linecap:round; stroke-linejoin:round; stroke-width:4; stroke-opacity:1; fill:none\" points=\"\n",
       "  192.941,824.138 211.838,824.138 \n",
       "  \"/>\n",
       "<polyline clip-path=\"url(#clip590)\" style=\"stroke:#000000; stroke-linecap:round; stroke-linejoin:round; stroke-width:4; stroke-opacity:1; fill:none\" points=\"\n",
       "  192.941,454.799 211.838,454.799 \n",
       "  \"/>\n",
       "<polyline clip-path=\"url(#clip590)\" style=\"stroke:#000000; stroke-linecap:round; stroke-linejoin:round; stroke-width:4; stroke-opacity:1; fill:none\" points=\"\n",
       "  192.941,85.4591 211.838,85.4591 \n",
       "  \"/>\n",
       "<path clip-path=\"url(#clip590)\" d=\"M50.9921 1193.93 L80.6679 1193.93 L80.6679 1197.86 L50.9921 1197.86 L50.9921 1193.93 Z\" fill=\"#000000\" fill-rule=\"evenodd\" fill-opacity=\"1\" /><path clip-path=\"url(#clip590)\" d=\"M100.76 1179.28 Q97.1493 1179.28 95.3206 1182.84 Q93.515 1186.38 93.515 1193.51 Q93.515 1200.62 95.3206 1204.18 Q97.1493 1207.73 100.76 1207.73 Q104.395 1207.73 106.2 1204.18 Q108.029 1200.62 108.029 1193.51 Q108.029 1186.38 106.2 1182.84 Q104.395 1179.28 100.76 1179.28 M100.76 1175.57 Q106.571 1175.57 109.626 1180.18 Q112.705 1184.76 112.705 1193.51 Q112.705 1202.24 109.626 1206.85 Q106.571 1211.43 100.76 1211.43 Q94.9502 1211.43 91.8715 1206.85 Q88.816 1202.24 88.816 1193.51 Q88.816 1184.76 91.8715 1180.18 Q94.9502 1175.57 100.76 1175.57 Z\" fill=\"#000000\" fill-rule=\"evenodd\" fill-opacity=\"1\" /><path clip-path=\"url(#clip590)\" d=\"M120.922 1204.88 L125.807 1204.88 L125.807 1210.76 L120.922 1210.76 L120.922 1204.88 Z\" fill=\"#000000\" fill-rule=\"evenodd\" fill-opacity=\"1\" /><path clip-path=\"url(#clip590)\" d=\"M136.038 1176.2 L154.394 1176.2 L154.394 1180.13 L140.32 1180.13 L140.32 1188.61 Q141.339 1188.26 142.357 1188.1 Q143.376 1187.91 144.394 1187.91 Q150.181 1187.91 153.561 1191.08 Q156.941 1194.25 156.941 1199.67 Q156.941 1205.25 153.468 1208.35 Q149.996 1211.43 143.677 1211.43 Q141.501 1211.43 139.232 1211.06 Q136.987 1210.69 134.58 1209.95 L134.58 1205.25 Q136.663 1206.38 138.885 1206.94 Q141.107 1207.49 143.584 1207.49 Q147.589 1207.49 149.927 1205.39 Q152.265 1203.28 152.265 1199.67 Q152.265 1196.06 149.927 1193.95 Q147.589 1191.85 143.584 1191.85 Q141.709 1191.85 139.834 1192.26 Q137.982 1192.68 136.038 1193.56 L136.038 1176.2 Z\" fill=\"#000000\" fill-rule=\"evenodd\" fill-opacity=\"1\" /><path clip-path=\"url(#clip590)\" d=\"M99.765 809.937 Q96.1539 809.937 94.3252 813.502 Q92.5197 817.044 92.5197 824.173 Q92.5197 831.28 94.3252 834.844 Q96.1539 838.386 99.765 838.386 Q103.399 838.386 105.205 834.844 Q107.033 831.28 107.033 824.173 Q107.033 817.044 105.205 813.502 Q103.399 809.937 99.765 809.937 M99.765 806.233 Q105.575 806.233 108.631 810.84 Q111.709 815.423 111.709 824.173 Q111.709 832.9 108.631 837.506 Q105.575 842.09 99.765 842.09 Q93.9549 842.09 90.8762 837.506 Q87.8206 832.9 87.8206 824.173 Q87.8206 815.423 90.8762 810.84 Q93.9549 806.233 99.765 806.233 Z\" fill=\"#000000\" fill-rule=\"evenodd\" fill-opacity=\"1\" /><path clip-path=\"url(#clip590)\" d=\"M119.927 835.539 L124.811 835.539 L124.811 841.418 L119.927 841.418 L119.927 835.539 Z\" fill=\"#000000\" fill-rule=\"evenodd\" fill-opacity=\"1\" /><path clip-path=\"url(#clip590)\" d=\"M144.996 809.937 Q141.385 809.937 139.556 813.502 Q137.751 817.044 137.751 824.173 Q137.751 831.28 139.556 834.844 Q141.385 838.386 144.996 838.386 Q148.63 838.386 150.436 834.844 Q152.265 831.28 152.265 824.173 Q152.265 817.044 150.436 813.502 Q148.63 809.937 144.996 809.937 M144.996 806.233 Q150.806 806.233 153.862 810.84 Q156.941 815.423 156.941 824.173 Q156.941 832.9 153.862 837.506 Q150.806 842.09 144.996 842.09 Q139.186 842.09 136.107 837.506 Q133.052 832.9 133.052 824.173 Q133.052 815.423 136.107 810.84 Q139.186 806.233 144.996 806.233 Z\" fill=\"#000000\" fill-rule=\"evenodd\" fill-opacity=\"1\" /><path clip-path=\"url(#clip590)\" d=\"M100.76 440.597 Q97.1493 440.597 95.3206 444.162 Q93.515 447.704 93.515 454.833 Q93.515 461.94 95.3206 465.505 Q97.1493 469.046 100.76 469.046 Q104.395 469.046 106.2 465.505 Q108.029 461.94 108.029 454.833 Q108.029 447.704 106.2 444.162 Q104.395 440.597 100.76 440.597 M100.76 436.894 Q106.571 436.894 109.626 441.5 Q112.705 446.084 112.705 454.833 Q112.705 463.56 109.626 468.167 Q106.571 472.75 100.76 472.75 Q94.9502 472.75 91.8715 468.167 Q88.816 463.56 88.816 454.833 Q88.816 446.084 91.8715 441.5 Q94.9502 436.894 100.76 436.894 Z\" fill=\"#000000\" fill-rule=\"evenodd\" fill-opacity=\"1\" /><path clip-path=\"url(#clip590)\" d=\"M120.922 466.199 L125.807 466.199 L125.807 472.079 L120.922 472.079 L120.922 466.199 Z\" fill=\"#000000\" fill-rule=\"evenodd\" fill-opacity=\"1\" /><path clip-path=\"url(#clip590)\" d=\"M136.038 437.519 L154.394 437.519 L154.394 441.454 L140.32 441.454 L140.32 449.926 Q141.339 449.579 142.357 449.417 Q143.376 449.232 144.394 449.232 Q150.181 449.232 153.561 452.403 Q156.941 455.574 156.941 460.991 Q156.941 466.57 153.468 469.671 Q149.996 472.75 143.677 472.75 Q141.501 472.75 139.232 472.38 Q136.987 472.009 134.58 471.269 L134.58 466.57 Q136.663 467.704 138.885 468.259 Q141.107 468.815 143.584 468.815 Q147.589 468.815 149.927 466.708 Q152.265 464.602 152.265 460.991 Q152.265 457.38 149.927 455.273 Q147.589 453.167 143.584 453.167 Q141.709 453.167 139.834 453.583 Q137.982 454 136.038 454.88 L136.038 437.519 Z\" fill=\"#000000\" fill-rule=\"evenodd\" fill-opacity=\"1\" /><path clip-path=\"url(#clip590)\" d=\"M90.5752 98.8039 L98.2141 98.8039 L98.2141 72.4383 L89.904 74.1049 L89.904 69.8457 L98.1678 68.1791 L102.844 68.1791 L102.844 98.8039 L110.483 98.8039 L110.483 102.739 L90.5752 102.739 L90.5752 98.8039 Z\" fill=\"#000000\" fill-rule=\"evenodd\" fill-opacity=\"1\" /><path clip-path=\"url(#clip590)\" d=\"M119.927 96.8595 L124.811 96.8595 L124.811 102.739 L119.927 102.739 L119.927 96.8595 Z\" fill=\"#000000\" fill-rule=\"evenodd\" fill-opacity=\"1\" /><path clip-path=\"url(#clip590)\" d=\"M144.996 71.2577 Q141.385 71.2577 139.556 74.8225 Q137.751 78.3642 137.751 85.4938 Q137.751 92.6002 139.556 96.165 Q141.385 99.7067 144.996 99.7067 Q148.63 99.7067 150.436 96.165 Q152.265 92.6002 152.265 85.4938 Q152.265 78.3642 150.436 74.8225 Q148.63 71.2577 144.996 71.2577 M144.996 67.5541 Q150.806 67.5541 153.862 72.1605 Q156.941 76.7438 156.941 85.4938 Q156.941 94.2206 153.862 98.827 Q150.806 103.41 144.996 103.41 Q139.186 103.41 136.107 98.827 Q133.052 94.2206 133.052 85.4938 Q133.052 76.7438 136.107 72.1605 Q139.186 67.5541 144.996 67.5541 Z\" fill=\"#000000\" fill-rule=\"evenodd\" fill-opacity=\"1\" /><polyline clip-path=\"url(#clip592)\" style=\"stroke:#009af9; stroke-linecap:round; stroke-linejoin:round; stroke-width:4; stroke-opacity:1; fill:none\" points=\"\n",
       "  2291.63,202.561 2277.73,208.062 2236.43,225.088 2168.84,255.057 2076.81,299.862 1962.85,361.225 1830.07,439.964 1682.09,535.33 1522.94,644.619 1356.98,763.208 \n",
       "  1188.72,885.069 1022.75,1003.66 863.609,1112.95 715.628,1208.31 582.847,1287.05 468.887,1348.41 376.857,1393.22 309.268,1423.19 267.962,1440.21 254.067,1445.72 \n",
       "  \n",
       "  \"/>\n",
       "<polyline clip-path=\"url(#clip592)\" style=\"stroke:#e26f46; stroke-linecap:round; stroke-linejoin:round; stroke-width:4; stroke-opacity:1; fill:none\" points=\"\n",
       "  2291.63,425.028 2277.73,416.588 2236.43,391.952 2168.84,353.188 2076.81,303.772 1962.85,248.501 1830.07,193.221 1682.09,144.258 1522.94,107.605 1356.98,87.9763 \n",
       "  1188.72,87.9763 1022.75,107.605 863.609,144.258 715.628,193.221 582.847,248.501 468.887,303.772 376.857,353.188 309.268,391.952 267.962,416.588 254.067,425.028 \n",
       "  \n",
       "  \"/>\n",
       "<polyline clip-path=\"url(#clip592)\" style=\"stroke:#3da44d; stroke-linecap:round; stroke-linejoin:round; stroke-width:4; stroke-opacity:1; fill:none\" points=\"\n",
       "  2291.63,301.099 2277.73,310.316 2236.43,338.323 2168.84,385.716 2076.81,452.034 1962.85,534.041 1830.07,624.336 1682.09,711.22 1522.94,780.51 1356.98,819.113 \n",
       "  1188.72,819.113 1022.75,780.51 863.609,711.22 715.628,624.336 582.847,534.041 468.887,452.034 376.857,385.716 309.268,338.323 267.962,310.316 254.067,301.099 \n",
       "  \n",
       "  \"/>\n",
       "<path clip-path=\"url(#clip590)\" d=\"\n",
       "M2011.77 302.578 L2280.76 302.578 L2280.76 95.2176 L2011.77 95.2176  Z\n",
       "  \" fill=\"#ffffff\" fill-rule=\"evenodd\" fill-opacity=\"1\"/>\n",
       "<polyline clip-path=\"url(#clip590)\" style=\"stroke:#000000; stroke-linecap:round; stroke-linejoin:round; stroke-width:4; stroke-opacity:1; fill:none\" points=\"\n",
       "  2011.77,302.578 2280.76,302.578 2280.76,95.2176 2011.77,95.2176 2011.77,302.578 \n",
       "  \"/>\n",
       "<polyline clip-path=\"url(#clip590)\" style=\"stroke:#009af9; stroke-linecap:round; stroke-linejoin:round; stroke-width:4; stroke-opacity:1; fill:none\" points=\"\n",
       "  2035.77,147.058 2179.76,147.058 \n",
       "  \"/>\n",
       "<path clip-path=\"url(#clip590)\" d=\"M2217.6 166.745 Q2215.79 171.375 2214.08 172.787 Q2212.37 174.199 2209.5 174.199 L2206.09 174.199 L2206.09 170.634 L2208.59 170.634 Q2210.35 170.634 2211.32 169.8 Q2212.3 168.967 2213.48 165.865 L2214.24 163.921 L2203.76 138.412 L2208.27 138.412 L2216.37 158.689 L2224.47 138.412 L2228.99 138.412 L2217.6 166.745 Z\" fill=\"#000000\" fill-rule=\"evenodd\" fill-opacity=\"1\" /><path clip-path=\"url(#clip590)\" d=\"M2236.28 160.402 L2243.92 160.402 L2243.92 134.037 L2235.61 135.703 L2235.61 131.444 L2243.87 129.778 L2248.55 129.778 L2248.55 160.402 L2256.19 160.402 L2256.19 164.338 L2236.28 164.338 L2236.28 160.402 Z\" fill=\"#000000\" fill-rule=\"evenodd\" fill-opacity=\"1\" /><polyline clip-path=\"url(#clip590)\" style=\"stroke:#e26f46; stroke-linecap:round; stroke-linejoin:round; stroke-width:4; stroke-opacity:1; fill:none\" points=\"\n",
       "  2035.77,198.898 2179.76,198.898 \n",
       "  \"/>\n",
       "<path clip-path=\"url(#clip590)\" d=\"M2217.6 218.585 Q2215.79 223.215 2214.08 224.627 Q2212.37 226.039 2209.5 226.039 L2206.09 226.039 L2206.09 222.474 L2208.59 222.474 Q2210.35 222.474 2211.32 221.64 Q2212.3 220.807 2213.48 217.705 L2214.24 215.761 L2203.76 190.252 L2208.27 190.252 L2216.37 210.529 L2224.47 190.252 L2228.99 190.252 L2217.6 218.585 Z\" fill=\"#000000\" fill-rule=\"evenodd\" fill-opacity=\"1\" /><path clip-path=\"url(#clip590)\" d=\"M2239.5 212.242 L2255.82 212.242 L2255.82 216.178 L2233.87 216.178 L2233.87 212.242 Q2236.53 209.488 2241.12 204.858 Q2245.72 200.205 2246.9 198.863 Q2249.15 196.34 2250.03 194.604 Q2250.93 192.844 2250.93 191.155 Q2250.93 188.4 2248.99 186.664 Q2247.07 184.928 2243.96 184.928 Q2241.76 184.928 2239.31 185.692 Q2236.88 186.455 2234.1 188.006 L2234.1 183.284 Q2236.93 182.15 2239.38 181.571 Q2241.83 180.993 2243.87 180.993 Q2249.24 180.993 2252.44 183.678 Q2255.63 186.363 2255.63 190.854 Q2255.63 192.983 2254.82 194.905 Q2254.03 196.803 2251.93 199.395 Q2251.35 200.067 2248.25 203.284 Q2245.14 206.479 2239.5 212.242 Z\" fill=\"#000000\" fill-rule=\"evenodd\" fill-opacity=\"1\" /><polyline clip-path=\"url(#clip590)\" style=\"stroke:#3da44d; stroke-linecap:round; stroke-linejoin:round; stroke-width:4; stroke-opacity:1; fill:none\" points=\"\n",
       "  2035.77,250.738 2179.76,250.738 \n",
       "  \"/>\n",
       "<path clip-path=\"url(#clip590)\" d=\"M2217.6 270.425 Q2215.79 275.055 2214.08 276.467 Q2212.37 277.879 2209.5 277.879 L2206.09 277.879 L2206.09 274.314 L2208.59 274.314 Q2210.35 274.314 2211.32 273.48 Q2212.3 272.647 2213.48 269.545 L2214.24 267.601 L2203.76 242.092 L2208.27 242.092 L2216.37 262.369 L2224.47 242.092 L2228.99 242.092 L2217.6 270.425 Z\" fill=\"#000000\" fill-rule=\"evenodd\" fill-opacity=\"1\" /><path clip-path=\"url(#clip590)\" d=\"M2249.63 249.383 Q2252.99 250.101 2254.87 252.369 Q2256.76 254.638 2256.76 257.971 Q2256.76 263.087 2253.25 265.888 Q2249.73 268.689 2243.25 268.689 Q2241.07 268.689 2238.75 268.249 Q2236.46 267.832 2234.01 266.976 L2234.01 262.462 Q2235.95 263.596 2238.27 264.175 Q2240.58 264.754 2243.11 264.754 Q2247.5 264.754 2249.8 263.018 Q2252.11 261.281 2252.11 257.971 Q2252.11 254.916 2249.96 253.203 Q2247.83 251.467 2244.01 251.467 L2239.98 251.467 L2239.98 247.624 L2244.19 247.624 Q2247.64 247.624 2249.47 246.258 Q2251.3 244.87 2251.3 242.277 Q2251.3 239.615 2249.4 238.203 Q2247.53 236.768 2244.01 236.768 Q2242.09 236.768 2239.89 237.184 Q2237.69 237.601 2235.05 238.481 L2235.05 234.314 Q2237.71 233.573 2240.03 233.203 Q2242.37 232.833 2244.43 232.833 Q2249.75 232.833 2252.85 235.263 Q2255.95 237.67 2255.95 241.791 Q2255.95 244.661 2254.31 246.652 Q2252.67 248.62 2249.63 249.383 Z\" fill=\"#000000\" fill-rule=\"evenodd\" fill-opacity=\"1\" /></svg>\n"
      ]
     },
     "execution_count": 12,
     "metadata": {},
     "output_type": "execute_result"
    }
   ],
   "source": [
    "plot(pts,sin_func)\n",
    "plot!(pts,cos_func)\n",
    "plot!(pts,sin_sqr_func)"
   ]
  },
  {
   "cell_type": "markdown",
   "id": "828674bb",
   "metadata": {},
   "source": [
    "# First test multiplication matrix"
   ]
  },
  {
   "cell_type": "code",
   "execution_count": 13,
   "id": "6373014e",
   "metadata": {},
   "outputs": [
    {
     "ename": "LoadError",
     "evalue": "syntax: incomplete: premature end of input",
     "output_type": "error",
     "traceback": [
      "syntax: incomplete: premature end of input",
      "",
      "Stacktrace:",
      " [1] top-level scope",
      "   @ In[13]:1",
      " [2] eval",
      "   @ ./boot.jl:360 [inlined]",
      " [3] include_string(mapexpr::typeof(REPL.softscope), mod::Module, code::String, filename::String)",
      "   @ Base ./loading.jl:1116"
     ]
    }
   ],
   "source": [
    "CH."
   ]
  },
  {
   "cell_type": "code",
   "execution_count": 14,
   "id": "1a349034",
   "metadata": {},
   "outputs": [],
   "source": [
    "M_multiply = CH.mat_C1_X(sin_spec);"
   ]
  },
  {
   "cell_type": "code",
   "execution_count": null,
   "id": "e93f9a41",
   "metadata": {},
   "outputs": [],
   "source": []
  },
  {
   "cell_type": "code",
   "execution_count": 15,
   "id": "4196a317",
   "metadata": {},
   "outputs": [
    {
     "data": {
      "text/plain": [
       "20-element Vector{Float64}:\n",
       " -5.551115123125783e-16\n",
       "  1.1102230246251565e-16\n",
       "  1.4432899320127035e-15\n",
       " -1.6653345369377348e-15\n",
       "  1.1102230246251565e-16\n",
       "  2.220446049250313e-16\n",
       " -7.216449660063518e-16\n",
       "  1.5265566588595902e-15\n",
       " -3.885780586188048e-16\n",
       "  3.2959746043559335e-17\n",
       "  2.194425197110661e-16\n",
       " -4.787836793695988e-16\n",
       " -2.220446049250313e-16\n",
       "  1.3877787807814457e-15\n",
       " -2.3314683517128287e-15\n",
       "  1.5543122344752192e-15\n",
       " -7.771561172376096e-16\n",
       " -1.3322676295501878e-15\n",
       " -8.881784197001252e-16\n",
       "  1.4432899320127035e-15"
      ]
     },
     "execution_count": 15,
     "metadata": {},
     "output_type": "execute_result"
    }
   ],
   "source": [
    "CH.to_real(M_multiply*sin_spec)-sin_sqr_func"
   ]
  },
  {
   "cell_type": "markdown",
   "id": "168f44b2",
   "metadata": {},
   "source": [
    "# Test derivative"
   ]
  },
  {
   "cell_type": "code",
   "execution_count": 16,
   "id": "f525c8c2",
   "metadata": {},
   "outputs": [],
   "source": [
    "D1 = CH.mat_C1_D1(T,nr);"
   ]
  },
  {
   "cell_type": "code",
   "execution_count": 17,
   "id": "fff404a7",
   "metadata": {},
   "outputs": [],
   "source": [
    "D2 = GE.compute_D(T,nr,2);"
   ]
  },
  {
   "cell_type": "code",
   "execution_count": 18,
   "id": "a71efe39",
   "metadata": {},
   "outputs": [],
   "source": [
    "S1 = GE.compute_S(T,nr,1);\n",
    "S0 = GE.compute_S(T,nr,0);"
   ]
  },
  {
   "cell_type": "code",
   "execution_count": 19,
   "id": "60e1543f",
   "metadata": {},
   "outputs": [
    {
     "data": {
      "text/plain": [
       "1.6844226906144652e-14"
      ]
     },
     "execution_count": 19,
     "metadata": {},
     "output_type": "execute_result"
    }
   ],
   "source": [
    "maximum(D2*cos_spec+S1*S0*cos_spec)"
   ]
  },
  {
   "cell_type": "code",
   "execution_count": null,
   "id": "47af878b",
   "metadata": {},
   "outputs": [],
   "source": []
  },
  {
   "cell_type": "code",
   "execution_count": null,
   "id": "656dd722",
   "metadata": {},
   "outputs": [],
   "source": []
  },
  {
   "cell_type": "code",
   "execution_count": 20,
   "id": "8800bf52",
   "metadata": {},
   "outputs": [
    {
     "data": {
      "text/plain": [
       "20-element Vector{Float64}:\n",
       " -1.099120794378905e-14\n",
       " -3.9745984281580604e-14\n",
       "  1.176836406102666e-14\n",
       "  1.9206858326015208e-14\n",
       " -2.6867397195928788e-14\n",
       "  2.1538326677728037e-14\n",
       " -1.84297022087776e-14\n",
       "  3.219646771412954e-15\n",
       "  1.1324274851176597e-14\n",
       " -9.880984919163893e-15\n",
       "  1.2989609388114332e-14\n",
       " -2.6756374893466273e-14\n",
       "  3.4083846855992306e-14\n",
       " -2.7755575615628914e-14\n",
       "  8.770761894538737e-15\n",
       "  1.3100631690576847e-14\n",
       " -2.6756374893466273e-14\n",
       "  4.773959005888173e-15\n",
       "  3.7969627442180354e-14\n",
       "  7.661116740997898e-9"
      ]
     },
     "execution_count": 20,
     "metadata": {},
     "output_type": "execute_result"
    }
   ],
   "source": [
    "CH.C1_to_real(D1*sin_spec)-cos_func"
   ]
  },
  {
   "cell_type": "code",
   "execution_count": 21,
   "id": "15ad6bd6",
   "metadata": {},
   "outputs": [
    {
     "data": {
      "text/plain": [
       "20-element Vector{Float64}:\n",
       " -8.859579736508749e-14\n",
       "  2.7977620220553945e-14\n",
       " -4.6629367034256575e-15\n",
       " -2.9753977059954195e-14\n",
       "  3.397282455352979e-14\n",
       " -2.19824158875781e-14\n",
       "  1.532107773982716e-14\n",
       " -2.6645352591003757e-15\n",
       " -8.992806499463768e-15\n",
       "  4.912736883966318e-15\n",
       " -6.161737786669619e-15\n",
       "  1.8762769116165146e-14\n",
       " -2.55351295663786e-14\n",
       "  1.9095836023552692e-14\n",
       " -8.881784197001252e-16\n",
       " -1.3322676295501878e-14\n",
       "  1.9539925233402755e-14\n",
       " -1.7541523789077473e-14\n",
       "  1.3766765505351941e-14\n",
       " -3.5704772471945034e-13"
      ]
     },
     "execution_count": 21,
     "metadata": {},
     "output_type": "execute_result"
    }
   ],
   "source": [
    "CH.C1_to_real(D1*sqr_spec)-2*pts"
   ]
  },
  {
   "cell_type": "code",
   "execution_count": 22,
   "id": "d30ae01c",
   "metadata": {},
   "outputs": [
    {
     "data": {
      "text/plain": [
       "20-element Vector{Float64}:\n",
       "  9.636735853746359e-14\n",
       " -3.197442310920451e-14\n",
       "  5.773159728050814e-15\n",
       "  2.7977620220553945e-14\n",
       " -3.6415315207705135e-14\n",
       "  2.55351295663786e-14\n",
       " -2.2537527399890678e-14\n",
       "  9.270362255620057e-15\n",
       "  7.105427357601002e-15\n",
       " -6.7931771319251766e-15\n",
       "  8.93729534823251e-15\n",
       " -1.9068080447937064e-14\n",
       "  2.892130979148533e-14\n",
       " -2.8199664825478976e-14\n",
       "  9.547918011776346e-15\n",
       "  9.103828801926284e-15\n",
       " -1.3322676295501878e-14\n",
       "  7.993605777301127e-15\n",
       "  8.43769498715119e-15\n",
       "  5.981881656680343e-13"
      ]
     },
     "execution_count": 22,
     "metadata": {},
     "output_type": "execute_result"
    }
   ],
   "source": [
    "CH.C1_to_real(D1*cube_spec)-3*sqr_func"
   ]
  },
  {
   "cell_type": "code",
   "execution_count": 23,
   "id": "5d70c506",
   "metadata": {},
   "outputs": [
    {
     "data": {
      "image/svg+xml": [
       "<?xml version=\"1.0\" encoding=\"utf-8\"?>\n",
       "<svg xmlns=\"http://www.w3.org/2000/svg\" xmlns:xlink=\"http://www.w3.org/1999/xlink\" width=\"600\" height=\"400\" viewBox=\"0 0 2400 1600\">\n",
       "<defs>\n",
       "  <clipPath id=\"clip630\">\n",
       "    <rect x=\"0\" y=\"0\" width=\"2400\" height=\"1600\"/>\n",
       "  </clipPath>\n",
       "</defs>\n",
       "<path clip-path=\"url(#clip630)\" d=\"\n",
       "M0 1600 L2400 1600 L2400 0 L0 0  Z\n",
       "  \" fill=\"#ffffff\" fill-rule=\"evenodd\" fill-opacity=\"1\"/>\n",
       "<defs>\n",
       "  <clipPath id=\"clip631\">\n",
       "    <rect x=\"480\" y=\"0\" width=\"1681\" height=\"1600\"/>\n",
       "  </clipPath>\n",
       "</defs>\n",
       "<path clip-path=\"url(#clip630)\" d=\"\n",
       "M147.478 1486.45 L2352.76 1486.45 L2352.76 47.2441 L147.478 47.2441  Z\n",
       "  \" fill=\"#ffffff\" fill-rule=\"evenodd\" fill-opacity=\"1\"/>\n",
       "<defs>\n",
       "  <clipPath id=\"clip632\">\n",
       "    <rect x=\"147\" y=\"47\" width=\"2206\" height=\"1440\"/>\n",
       "  </clipPath>\n",
       "</defs>\n",
       "<polyline clip-path=\"url(#clip632)\" style=\"stroke:#000000; stroke-linecap:round; stroke-linejoin:round; stroke-width:2; stroke-opacity:0.1; fill:none\" points=\"\n",
       "  209.891,1486.45 209.891,47.2441 \n",
       "  \"/>\n",
       "<polyline clip-path=\"url(#clip632)\" style=\"stroke:#000000; stroke-linecap:round; stroke-linejoin:round; stroke-width:2; stroke-opacity:0.1; fill:none\" points=\"\n",
       "  730.004,1486.45 730.004,47.2441 \n",
       "  \"/>\n",
       "<polyline clip-path=\"url(#clip632)\" style=\"stroke:#000000; stroke-linecap:round; stroke-linejoin:round; stroke-width:2; stroke-opacity:0.1; fill:none\" points=\"\n",
       "  1250.12,1486.45 1250.12,47.2441 \n",
       "  \"/>\n",
       "<polyline clip-path=\"url(#clip632)\" style=\"stroke:#000000; stroke-linecap:round; stroke-linejoin:round; stroke-width:2; stroke-opacity:0.1; fill:none\" points=\"\n",
       "  1770.23,1486.45 1770.23,47.2441 \n",
       "  \"/>\n",
       "<polyline clip-path=\"url(#clip632)\" style=\"stroke:#000000; stroke-linecap:round; stroke-linejoin:round; stroke-width:2; stroke-opacity:0.1; fill:none\" points=\"\n",
       "  2290.34,1486.45 2290.34,47.2441 \n",
       "  \"/>\n",
       "<polyline clip-path=\"url(#clip630)\" style=\"stroke:#000000; stroke-linecap:round; stroke-linejoin:round; stroke-width:4; stroke-opacity:1; fill:none\" points=\"\n",
       "  147.478,1486.45 2352.76,1486.45 \n",
       "  \"/>\n",
       "<polyline clip-path=\"url(#clip630)\" style=\"stroke:#000000; stroke-linecap:round; stroke-linejoin:round; stroke-width:4; stroke-opacity:1; fill:none\" points=\"\n",
       "  209.891,1486.45 209.891,1467.55 \n",
       "  \"/>\n",
       "<polyline clip-path=\"url(#clip630)\" style=\"stroke:#000000; stroke-linecap:round; stroke-linejoin:round; stroke-width:4; stroke-opacity:1; fill:none\" points=\"\n",
       "  730.004,1486.45 730.004,1467.55 \n",
       "  \"/>\n",
       "<polyline clip-path=\"url(#clip630)\" style=\"stroke:#000000; stroke-linecap:round; stroke-linejoin:round; stroke-width:4; stroke-opacity:1; fill:none\" points=\"\n",
       "  1250.12,1486.45 1250.12,1467.55 \n",
       "  \"/>\n",
       "<polyline clip-path=\"url(#clip630)\" style=\"stroke:#000000; stroke-linecap:round; stroke-linejoin:round; stroke-width:4; stroke-opacity:1; fill:none\" points=\"\n",
       "  1770.23,1486.45 1770.23,1467.55 \n",
       "  \"/>\n",
       "<polyline clip-path=\"url(#clip630)\" style=\"stroke:#000000; stroke-linecap:round; stroke-linejoin:round; stroke-width:4; stroke-opacity:1; fill:none\" points=\"\n",
       "  2290.34,1486.45 2290.34,1467.55 \n",
       "  \"/>\n",
       "<path clip-path=\"url(#clip630)\" d=\"M156.42 1532.02 L186.095 1532.02 L186.095 1535.95 L156.42 1535.95 L156.42 1532.02 Z\" fill=\"#000000\" fill-rule=\"evenodd\" fill-opacity=\"1\" /><path clip-path=\"url(#clip630)\" d=\"M196.998 1544.91 L204.637 1544.91 L204.637 1518.55 L196.327 1520.21 L196.327 1515.95 L204.591 1514.29 L209.266 1514.29 L209.266 1544.91 L216.905 1544.91 L216.905 1548.85 L196.998 1548.85 L196.998 1544.91 Z\" fill=\"#000000\" fill-rule=\"evenodd\" fill-opacity=\"1\" /><path clip-path=\"url(#clip630)\" d=\"M226.35 1542.97 L231.234 1542.97 L231.234 1548.85 L226.35 1548.85 L226.35 1542.97 Z\" fill=\"#000000\" fill-rule=\"evenodd\" fill-opacity=\"1\" /><path clip-path=\"url(#clip630)\" d=\"M251.419 1517.37 Q247.808 1517.37 245.979 1520.93 Q244.174 1524.47 244.174 1531.6 Q244.174 1538.71 245.979 1542.27 Q247.808 1545.82 251.419 1545.82 Q255.053 1545.82 256.859 1542.27 Q258.687 1538.71 258.687 1531.6 Q258.687 1524.47 256.859 1520.93 Q255.053 1517.37 251.419 1517.37 M251.419 1513.66 Q257.229 1513.66 260.285 1518.27 Q263.363 1522.85 263.363 1531.6 Q263.363 1540.33 260.285 1544.94 Q257.229 1549.52 251.419 1549.52 Q245.609 1549.52 242.53 1544.94 Q239.475 1540.33 239.475 1531.6 Q239.475 1522.85 242.53 1518.27 Q245.609 1513.66 251.419 1513.66 Z\" fill=\"#000000\" fill-rule=\"evenodd\" fill-opacity=\"1\" /><path clip-path=\"url(#clip630)\" d=\"M677.03 1532.02 L706.706 1532.02 L706.706 1535.95 L677.03 1535.95 L677.03 1532.02 Z\" fill=\"#000000\" fill-rule=\"evenodd\" fill-opacity=\"1\" /><path clip-path=\"url(#clip630)\" d=\"M726.798 1517.37 Q723.187 1517.37 721.358 1520.93 Q719.553 1524.47 719.553 1531.6 Q719.553 1538.71 721.358 1542.27 Q723.187 1545.82 726.798 1545.82 Q730.432 1545.82 732.238 1542.27 Q734.067 1538.71 734.067 1531.6 Q734.067 1524.47 732.238 1520.93 Q730.432 1517.37 726.798 1517.37 M726.798 1513.66 Q732.608 1513.66 735.664 1518.27 Q738.743 1522.85 738.743 1531.6 Q738.743 1540.33 735.664 1544.94 Q732.608 1549.52 726.798 1549.52 Q720.988 1549.52 717.909 1544.94 Q714.854 1540.33 714.854 1531.6 Q714.854 1522.85 717.909 1518.27 Q720.988 1513.66 726.798 1513.66 Z\" fill=\"#000000\" fill-rule=\"evenodd\" fill-opacity=\"1\" /><path clip-path=\"url(#clip630)\" d=\"M746.96 1542.97 L751.844 1542.97 L751.844 1548.85 L746.96 1548.85 L746.96 1542.97 Z\" fill=\"#000000\" fill-rule=\"evenodd\" fill-opacity=\"1\" /><path clip-path=\"url(#clip630)\" d=\"M762.076 1514.29 L780.432 1514.29 L780.432 1518.22 L766.358 1518.22 L766.358 1526.7 Q767.377 1526.35 768.395 1526.19 Q769.414 1526 770.432 1526 Q776.219 1526 779.599 1529.17 Q782.978 1532.34 782.978 1537.76 Q782.978 1543.34 779.506 1546.44 Q776.034 1549.52 769.715 1549.52 Q767.539 1549.52 765.27 1549.15 Q763.025 1548.78 760.617 1548.04 L760.617 1543.34 Q762.701 1544.47 764.923 1545.03 Q767.145 1545.58 769.622 1545.58 Q773.627 1545.58 775.965 1543.48 Q778.303 1541.37 778.303 1537.76 Q778.303 1534.15 775.965 1532.04 Q773.627 1529.94 769.622 1529.94 Q767.747 1529.94 765.872 1530.35 Q764.02 1530.77 762.076 1531.65 L762.076 1514.29 Z\" fill=\"#000000\" fill-rule=\"evenodd\" fill-opacity=\"1\" /><path clip-path=\"url(#clip630)\" d=\"M1227.5 1517.37 Q1223.89 1517.37 1222.06 1520.93 Q1220.26 1524.47 1220.26 1531.6 Q1220.26 1538.71 1222.06 1542.27 Q1223.89 1545.82 1227.5 1545.82 Q1231.14 1545.82 1232.94 1542.27 Q1234.77 1538.71 1234.77 1531.6 Q1234.77 1524.47 1232.94 1520.93 Q1231.14 1517.37 1227.5 1517.37 M1227.5 1513.66 Q1233.31 1513.66 1236.37 1518.27 Q1239.45 1522.85 1239.45 1531.6 Q1239.45 1540.33 1236.37 1544.94 Q1233.31 1549.52 1227.5 1549.52 Q1221.69 1549.52 1218.61 1544.94 Q1215.56 1540.33 1215.56 1531.6 Q1215.56 1522.85 1218.61 1518.27 Q1221.69 1513.66 1227.5 1513.66 Z\" fill=\"#000000\" fill-rule=\"evenodd\" fill-opacity=\"1\" /><path clip-path=\"url(#clip630)\" d=\"M1247.66 1542.97 L1252.55 1542.97 L1252.55 1548.85 L1247.66 1548.85 L1247.66 1542.97 Z\" fill=\"#000000\" fill-rule=\"evenodd\" fill-opacity=\"1\" /><path clip-path=\"url(#clip630)\" d=\"M1272.73 1517.37 Q1269.12 1517.37 1267.29 1520.93 Q1265.49 1524.47 1265.49 1531.6 Q1265.49 1538.71 1267.29 1542.27 Q1269.12 1545.82 1272.73 1545.82 Q1276.37 1545.82 1278.17 1542.27 Q1280 1538.71 1280 1531.6 Q1280 1524.47 1278.17 1520.93 Q1276.37 1517.37 1272.73 1517.37 M1272.73 1513.66 Q1278.54 1513.66 1281.6 1518.27 Q1284.68 1522.85 1284.68 1531.6 Q1284.68 1540.33 1281.6 1544.94 Q1278.54 1549.52 1272.73 1549.52 Q1266.92 1549.52 1263.84 1544.94 Q1260.79 1540.33 1260.79 1531.6 Q1260.79 1522.85 1263.84 1518.27 Q1266.92 1513.66 1272.73 1513.66 Z\" fill=\"#000000\" fill-rule=\"evenodd\" fill-opacity=\"1\" /><path clip-path=\"url(#clip630)\" d=\"M1748.11 1517.37 Q1744.5 1517.37 1742.67 1520.93 Q1740.87 1524.47 1740.87 1531.6 Q1740.87 1538.71 1742.67 1542.27 Q1744.5 1545.82 1748.11 1545.82 Q1751.75 1545.82 1753.55 1542.27 Q1755.38 1538.71 1755.38 1531.6 Q1755.38 1524.47 1753.55 1520.93 Q1751.75 1517.37 1748.11 1517.37 M1748.11 1513.66 Q1753.92 1513.66 1756.98 1518.27 Q1760.06 1522.85 1760.06 1531.6 Q1760.06 1540.33 1756.98 1544.94 Q1753.92 1549.52 1748.11 1549.52 Q1742.3 1549.52 1739.22 1544.94 Q1736.17 1540.33 1736.17 1531.6 Q1736.17 1522.85 1739.22 1518.27 Q1742.3 1513.66 1748.11 1513.66 Z\" fill=\"#000000\" fill-rule=\"evenodd\" fill-opacity=\"1\" /><path clip-path=\"url(#clip630)\" d=\"M1768.27 1542.97 L1773.16 1542.97 L1773.16 1548.85 L1768.27 1548.85 L1768.27 1542.97 Z\" fill=\"#000000\" fill-rule=\"evenodd\" fill-opacity=\"1\" /><path clip-path=\"url(#clip630)\" d=\"M1783.39 1514.29 L1801.75 1514.29 L1801.75 1518.22 L1787.67 1518.22 L1787.67 1526.7 Q1788.69 1526.35 1789.71 1526.19 Q1790.73 1526 1791.75 1526 Q1797.53 1526 1800.91 1529.17 Q1804.29 1532.34 1804.29 1537.76 Q1804.29 1543.34 1800.82 1546.44 Q1797.35 1549.52 1791.03 1549.52 Q1788.85 1549.52 1786.58 1549.15 Q1784.34 1548.78 1781.93 1548.04 L1781.93 1543.34 Q1784.01 1544.47 1786.24 1545.03 Q1788.46 1545.58 1790.94 1545.58 Q1794.94 1545.58 1797.28 1543.48 Q1799.62 1541.37 1799.62 1537.76 Q1799.62 1534.15 1797.28 1532.04 Q1794.94 1529.94 1790.94 1529.94 Q1789.06 1529.94 1787.19 1530.35 Q1785.33 1530.77 1783.39 1531.65 L1783.39 1514.29 Z\" fill=\"#000000\" fill-rule=\"evenodd\" fill-opacity=\"1\" /><path clip-path=\"url(#clip630)\" d=\"M2257.5 1544.91 L2265.13 1544.91 L2265.13 1518.55 L2256.82 1520.21 L2256.82 1515.95 L2265.09 1514.29 L2269.76 1514.29 L2269.76 1544.91 L2277.4 1544.91 L2277.4 1548.85 L2257.5 1548.85 L2257.5 1544.91 Z\" fill=\"#000000\" fill-rule=\"evenodd\" fill-opacity=\"1\" /><path clip-path=\"url(#clip630)\" d=\"M2286.85 1542.97 L2291.73 1542.97 L2291.73 1548.85 L2286.85 1548.85 L2286.85 1542.97 Z\" fill=\"#000000\" fill-rule=\"evenodd\" fill-opacity=\"1\" /><path clip-path=\"url(#clip630)\" d=\"M2311.92 1517.37 Q2308.31 1517.37 2306.48 1520.93 Q2304.67 1524.47 2304.67 1531.6 Q2304.67 1538.71 2306.48 1542.27 Q2308.31 1545.82 2311.92 1545.82 Q2315.55 1545.82 2317.36 1542.27 Q2319.18 1538.71 2319.18 1531.6 Q2319.18 1524.47 2317.36 1520.93 Q2315.55 1517.37 2311.92 1517.37 M2311.92 1513.66 Q2317.73 1513.66 2320.78 1518.27 Q2323.86 1522.85 2323.86 1531.6 Q2323.86 1540.33 2320.78 1544.94 Q2317.73 1549.52 2311.92 1549.52 Q2306.11 1549.52 2303.03 1544.94 Q2299.97 1540.33 2299.97 1531.6 Q2299.97 1522.85 2303.03 1518.27 Q2306.11 1513.66 2311.92 1513.66 Z\" fill=\"#000000\" fill-rule=\"evenodd\" fill-opacity=\"1\" /><polyline clip-path=\"url(#clip632)\" style=\"stroke:#000000; stroke-linecap:round; stroke-linejoin:round; stroke-width:2; stroke-opacity:0.1; fill:none\" points=\"\n",
       "  147.478,1445.72 2352.76,1445.72 \n",
       "  \"/>\n",
       "<polyline clip-path=\"url(#clip632)\" style=\"stroke:#000000; stroke-linecap:round; stroke-linejoin:round; stroke-width:2; stroke-opacity:0.1; fill:none\" points=\"\n",
       "  147.478,1174.17 2352.76,1174.17 \n",
       "  \"/>\n",
       "<polyline clip-path=\"url(#clip632)\" style=\"stroke:#000000; stroke-linecap:round; stroke-linejoin:round; stroke-width:2; stroke-opacity:0.1; fill:none\" points=\"\n",
       "  147.478,902.62 2352.76,902.62 \n",
       "  \"/>\n",
       "<polyline clip-path=\"url(#clip632)\" style=\"stroke:#000000; stroke-linecap:round; stroke-linejoin:round; stroke-width:2; stroke-opacity:0.1; fill:none\" points=\"\n",
       "  147.478,631.072 2352.76,631.072 \n",
       "  \"/>\n",
       "<polyline clip-path=\"url(#clip632)\" style=\"stroke:#000000; stroke-linecap:round; stroke-linejoin:round; stroke-width:2; stroke-opacity:0.1; fill:none\" points=\"\n",
       "  147.478,359.524 2352.76,359.524 \n",
       "  \"/>\n",
       "<polyline clip-path=\"url(#clip632)\" style=\"stroke:#000000; stroke-linecap:round; stroke-linejoin:round; stroke-width:2; stroke-opacity:0.1; fill:none\" points=\"\n",
       "  147.478,87.9763 2352.76,87.9763 \n",
       "  \"/>\n",
       "<polyline clip-path=\"url(#clip630)\" style=\"stroke:#000000; stroke-linecap:round; stroke-linejoin:round; stroke-width:4; stroke-opacity:1; fill:none\" points=\"\n",
       "  147.478,1486.45 147.478,47.2441 \n",
       "  \"/>\n",
       "<polyline clip-path=\"url(#clip630)\" style=\"stroke:#000000; stroke-linecap:round; stroke-linejoin:round; stroke-width:4; stroke-opacity:1; fill:none\" points=\"\n",
       "  147.478,1445.72 166.376,1445.72 \n",
       "  \"/>\n",
       "<polyline clip-path=\"url(#clip630)\" style=\"stroke:#000000; stroke-linecap:round; stroke-linejoin:round; stroke-width:4; stroke-opacity:1; fill:none\" points=\"\n",
       "  147.478,1174.17 166.376,1174.17 \n",
       "  \"/>\n",
       "<polyline clip-path=\"url(#clip630)\" style=\"stroke:#000000; stroke-linecap:round; stroke-linejoin:round; stroke-width:4; stroke-opacity:1; fill:none\" points=\"\n",
       "  147.478,902.62 166.376,902.62 \n",
       "  \"/>\n",
       "<polyline clip-path=\"url(#clip630)\" style=\"stroke:#000000; stroke-linecap:round; stroke-linejoin:round; stroke-width:4; stroke-opacity:1; fill:none\" points=\"\n",
       "  147.478,631.072 166.376,631.072 \n",
       "  \"/>\n",
       "<polyline clip-path=\"url(#clip630)\" style=\"stroke:#000000; stroke-linecap:round; stroke-linejoin:round; stroke-width:4; stroke-opacity:1; fill:none\" points=\"\n",
       "  147.478,359.524 166.376,359.524 \n",
       "  \"/>\n",
       "<polyline clip-path=\"url(#clip630)\" style=\"stroke:#000000; stroke-linecap:round; stroke-linejoin:round; stroke-width:4; stroke-opacity:1; fill:none\" points=\"\n",
       "  147.478,87.9763 166.376,87.9763 \n",
       "  \"/>\n",
       "<path clip-path=\"url(#clip630)\" d=\"M51.3625 1446.17 L81.0383 1446.17 L81.0383 1450.1 L51.3625 1450.1 L51.3625 1446.17 Z\" fill=\"#000000\" fill-rule=\"evenodd\" fill-opacity=\"1\" /><path clip-path=\"url(#clip630)\" d=\"M95.1586 1459.06 L111.478 1459.06 L111.478 1463 L89.5336 1463 L89.5336 1459.06 Q92.1956 1456.31 96.7789 1451.68 Q101.385 1447.02 102.566 1445.68 Q104.811 1443.16 105.691 1441.42 Q106.594 1439.66 106.594 1437.97 Q106.594 1435.22 104.649 1433.48 Q102.728 1431.75 99.6261 1431.75 Q97.4271 1431.75 94.9734 1432.51 Q92.5428 1433.27 89.7651 1434.82 L89.7651 1430.1 Q92.5891 1428.97 95.0428 1428.39 Q97.4965 1427.81 99.5335 1427.81 Q104.904 1427.81 108.098 1430.5 Q111.293 1433.18 111.293 1437.67 Q111.293 1439.8 110.483 1441.72 Q109.696 1443.62 107.589 1446.21 Q107.01 1446.88 103.909 1450.1 Q100.807 1453.3 95.1586 1459.06 Z\" fill=\"#000000\" fill-rule=\"evenodd\" fill-opacity=\"1\" /><path clip-path=\"url(#clip630)\" d=\"M50.9921 1174.62 L80.6679 1174.62 L80.6679 1178.55 L50.9921 1178.55 L50.9921 1174.62 Z\" fill=\"#000000\" fill-rule=\"evenodd\" fill-opacity=\"1\" /><path clip-path=\"url(#clip630)\" d=\"M91.5706 1187.51 L99.2095 1187.51 L99.2095 1161.15 L90.8993 1162.81 L90.8993 1158.55 L99.1632 1156.89 L103.839 1156.89 L103.839 1187.51 L111.478 1187.51 L111.478 1191.45 L91.5706 1191.45 L91.5706 1187.51 Z\" fill=\"#000000\" fill-rule=\"evenodd\" fill-opacity=\"1\" /><path clip-path=\"url(#clip630)\" d=\"M99.5335 888.419 Q95.9224 888.419 94.0937 891.983 Q92.2882 895.525 92.2882 902.655 Q92.2882 909.761 94.0937 913.326 Q95.9224 916.868 99.5335 916.868 Q103.168 916.868 104.973 913.326 Q106.802 909.761 106.802 902.655 Q106.802 895.525 104.973 891.983 Q103.168 888.419 99.5335 888.419 M99.5335 884.715 Q105.344 884.715 108.399 889.321 Q111.478 893.905 111.478 902.655 Q111.478 911.381 108.399 915.988 Q105.344 920.571 99.5335 920.571 Q93.7234 920.571 90.6447 915.988 Q87.5892 911.381 87.5892 902.655 Q87.5892 893.905 90.6447 889.321 Q93.7234 884.715 99.5335 884.715 Z\" fill=\"#000000\" fill-rule=\"evenodd\" fill-opacity=\"1\" /><path clip-path=\"url(#clip630)\" d=\"M91.5706 644.417 L99.2095 644.417 L99.2095 618.051 L90.8993 619.718 L90.8993 615.459 L99.1632 613.792 L103.839 613.792 L103.839 644.417 L111.478 644.417 L111.478 648.352 L91.5706 648.352 L91.5706 644.417 Z\" fill=\"#000000\" fill-rule=\"evenodd\" fill-opacity=\"1\" /><path clip-path=\"url(#clip630)\" d=\"M95.1586 372.869 L111.478 372.869 L111.478 376.804 L89.5336 376.804 L89.5336 372.869 Q92.1956 370.114 96.7789 365.485 Q101.385 360.832 102.566 359.489 Q104.811 356.966 105.691 355.23 Q106.594 353.471 106.594 351.781 Q106.594 349.027 104.649 347.29 Q102.728 345.554 99.6261 345.554 Q97.4271 345.554 94.9734 346.318 Q92.5428 347.082 89.7651 348.633 L89.7651 343.911 Q92.5891 342.777 95.0428 342.198 Q97.4965 341.619 99.5335 341.619 Q104.904 341.619 108.098 344.304 Q111.293 346.99 111.293 351.48 Q111.293 353.61 110.483 355.531 Q109.696 357.429 107.589 360.022 Q107.01 360.693 103.909 363.911 Q100.807 367.105 95.1586 372.869 Z\" fill=\"#000000\" fill-rule=\"evenodd\" fill-opacity=\"1\" /><path clip-path=\"url(#clip630)\" d=\"M104.348 86.6221 Q107.705 87.3397 109.58 89.6082 Q111.478 91.8767 111.478 95.21 Q111.478 100.326 107.959 103.127 Q104.441 105.928 97.9595 105.928 Q95.7836 105.928 93.4688 105.488 Q91.1771 105.071 88.7234 104.215 L88.7234 99.7008 Q90.6678 100.835 92.9826 101.414 Q95.2974 101.992 97.8206 101.992 Q102.219 101.992 104.51 100.256 Q106.825 98.5202 106.825 95.21 Q106.825 92.1545 104.672 90.4415 Q102.543 88.7054 98.7234 88.7054 L94.6956 88.7054 L94.6956 84.8629 L98.9085 84.8629 Q102.358 84.8629 104.186 83.4971 Q106.015 82.1083 106.015 79.5157 Q106.015 76.8537 104.117 75.4416 Q102.242 74.0064 98.7234 74.0064 Q96.8021 74.0064 94.603 74.4231 Q92.4039 74.8398 89.7651 75.7194 L89.7651 71.5528 Q92.4271 70.812 94.7419 70.4416 Q97.0798 70.0713 99.14 70.0713 Q104.464 70.0713 107.566 72.5018 Q110.668 74.9092 110.668 79.0296 Q110.668 81.8999 109.024 83.8907 Q107.381 85.8582 104.348 86.6221 Z\" fill=\"#000000\" fill-rule=\"evenodd\" fill-opacity=\"1\" /><polyline clip-path=\"url(#clip632)\" style=\"stroke:#009af9; stroke-linecap:round; stroke-linejoin:round; stroke-width:4; stroke-opacity:1; fill:none\" points=\"\n",
       "  2290.34,359.524 2276.16,366.931 2233.98,388.951 2164.97,424.981 2071,474.041 1954.64,534.791 1819.07,605.575 1667.97,684.461 1505.48,769.298 1336.02,857.771 \n",
       "  1164.22,947.468 994.757,1035.94 832.263,1120.78 681.168,1199.67 545.591,1270.45 429.233,1331.2 335.266,1380.26 266.254,1416.29 224.079,1438.31 209.891,1445.72 \n",
       "  \n",
       "  \"/>\n",
       "<polyline clip-path=\"url(#clip632)\" style=\"stroke:#e26f46; stroke-linecap:round; stroke-linejoin:round; stroke-width:4; stroke-opacity:1; fill:none\" points=\"\n",
       "  2290.34,87.9763 2276.16,110.046 2233.98,173.864 2164.97,272.514 2071,395.307 1954.64,528.934 1819.07,658.917 1667.97,771.17 1505.48,853.527 1336.02,897.065 \n",
       "  1164.22,897.065 994.757,853.527 832.263,771.17 681.168,658.917 545.591,528.934 429.233,395.307 335.266,272.514 266.254,173.864 224.079,110.046 209.891,87.9763 \n",
       "  \n",
       "  \"/>\n",
       "<path clip-path=\"url(#clip630)\" d=\"\n",
       "M2006.29 250.738 L2279.25 250.738 L2279.25 95.2176 L2006.29 95.2176  Z\n",
       "  \" fill=\"#ffffff\" fill-rule=\"evenodd\" fill-opacity=\"1\"/>\n",
       "<polyline clip-path=\"url(#clip630)\" style=\"stroke:#000000; stroke-linecap:round; stroke-linejoin:round; stroke-width:4; stroke-opacity:1; fill:none\" points=\"\n",
       "  2006.29,250.738 2279.25,250.738 2279.25,95.2176 2006.29,95.2176 2006.29,250.738 \n",
       "  \"/>\n",
       "<polyline clip-path=\"url(#clip630)\" style=\"stroke:#009af9; stroke-linecap:round; stroke-linejoin:round; stroke-width:4; stroke-opacity:1; fill:none\" points=\"\n",
       "  2030.79,147.058 2177.81,147.058 \n",
       "  \"/>\n",
       "<path clip-path=\"url(#clip630)\" d=\"M2216.16 166.745 Q2214.35 171.375 2212.64 172.787 Q2210.92 174.199 2208.05 174.199 L2204.65 174.199 L2204.65 170.634 L2207.15 170.634 Q2208.91 170.634 2209.88 169.8 Q2210.85 168.967 2212.04 165.865 L2212.8 163.921 L2202.31 138.412 L2206.83 138.412 L2214.93 158.689 L2223.03 138.412 L2227.54 138.412 L2216.16 166.745 Z\" fill=\"#000000\" fill-rule=\"evenodd\" fill-opacity=\"1\" /><path clip-path=\"url(#clip630)\" d=\"M2234.84 160.402 L2242.48 160.402 L2242.48 134.037 L2234.16 135.703 L2234.16 131.444 L2242.43 129.778 L2247.1 129.778 L2247.1 160.402 L2254.74 160.402 L2254.74 164.338 L2234.84 164.338 L2234.84 160.402 Z\" fill=\"#000000\" fill-rule=\"evenodd\" fill-opacity=\"1\" /><polyline clip-path=\"url(#clip630)\" style=\"stroke:#e26f46; stroke-linecap:round; stroke-linejoin:round; stroke-width:4; stroke-opacity:1; fill:none\" points=\"\n",
       "  2030.79,198.898 2177.81,198.898 \n",
       "  \"/>\n",
       "<path clip-path=\"url(#clip630)\" d=\"M2216.16 218.585 Q2214.35 223.215 2212.64 224.627 Q2210.92 226.039 2208.05 226.039 L2204.65 226.039 L2204.65 222.474 L2207.15 222.474 Q2208.91 222.474 2209.88 221.64 Q2210.85 220.807 2212.04 217.705 L2212.8 215.761 L2202.31 190.252 L2206.83 190.252 L2214.93 210.529 L2223.03 190.252 L2227.54 190.252 L2216.16 218.585 Z\" fill=\"#000000\" fill-rule=\"evenodd\" fill-opacity=\"1\" /><path clip-path=\"url(#clip630)\" d=\"M2238.05 212.242 L2254.37 212.242 L2254.37 216.178 L2232.43 216.178 L2232.43 212.242 Q2235.09 209.488 2239.67 204.858 Q2244.28 200.205 2245.46 198.863 Q2247.71 196.34 2248.59 194.604 Q2249.49 192.844 2249.49 191.155 Q2249.49 188.4 2247.54 186.664 Q2245.62 184.928 2242.52 184.928 Q2240.32 184.928 2237.87 185.692 Q2235.44 186.455 2232.66 188.006 L2232.66 183.284 Q2235.48 182.15 2237.94 181.571 Q2240.39 180.993 2242.43 180.993 Q2247.8 180.993 2250.99 183.678 Q2254.19 186.363 2254.19 190.854 Q2254.19 192.983 2253.38 194.905 Q2252.59 196.803 2250.48 199.395 Q2249.91 200.067 2246.8 203.284 Q2243.7 206.479 2238.05 212.242 Z\" fill=\"#000000\" fill-rule=\"evenodd\" fill-opacity=\"1\" /></svg>\n"
      ]
     },
     "execution_count": 23,
     "metadata": {},
     "output_type": "execute_result"
    }
   ],
   "source": [
    "plot(pts,CH.C1_to_real(D1*sqr_spec))\n",
    "plot!(pts,CH.C1_to_real(D1*cube_spec))\n"
   ]
  },
  {
   "cell_type": "markdown",
   "id": "f282d465",
   "metadata": {},
   "source": [
    "# Teukolsky Radial ODE"
   ]
  },
  {
   "cell_type": "code",
   "execution_count": 135,
   "id": "aceccb23",
   "metadata": {},
   "outputs": [
    {
     "data": {
      "text/plain": [
       "1.0"
      ]
     },
     "execution_count": 135,
     "metadata": {},
     "output_type": "execute_result"
    }
   ],
   "source": [
    "T=Float64\n",
    "\n",
    "nr=200  # number of radial points\n",
    "nl=3  # number of angular points\n",
    "s=-2   # field spin\n",
    "m=2    # m angular value\n",
    "l=2    # l angular value\n",
    "a=T(0.0)  # dimensionless black hole spin \n",
    "## QNM value near n=0,l=2,m=2, s=-2 for dimensionless spin a=0.7\n",
    "\n",
    "omega_0= T(0.34671099687916285)-T(0.27391487529123504)*im\n",
    "gamma = T(4)-T(0)*im\n",
    "bhm = T(1)\n",
    "rmin = T(0)\n",
    "rmax = T(bhm)"
   ]
  },
  {
   "cell_type": "code",
   "execution_count": 136,
   "id": "bc84f9c0",
   "metadata": {},
   "outputs": [],
   "source": [
    "rs = CH.cheb_pts(rmin, rmax, nr);"
   ]
  },
  {
   "cell_type": "code",
   "execution_count": 137,
   "id": "dac473b2",
   "metadata": {},
   "outputs": [],
   "source": [
    "S1 = GE.compute_S(T,nr,1);\n",
    "S0 = GE.compute_S(T,nr,0);"
   ]
  },
  {
   "cell_type": "code",
   "execution_count": 138,
   "id": "2d433712",
   "metadata": {},
   "outputs": [
    {
     "data": {
      "text/plain": [
       "200×200 SparseMatrixCSC{ComplexF64, Integer} with 1775 stored entries:\n",
       "⠻⣿⣦⡀⠀⠀⠀⠀⠀⠀⠀⠀⠀⠀⠀⠀⠀⠀⠀⠀⠀⠀⠀⠀⠀⠀⠀⠀⠀⠀⠀⠀⠀⠀⠀⠀⠀⠀⠀⠀\n",
       "⠀⠈⠻⣿⣦⡀⠀⠀⠀⠀⠀⠀⠀⠀⠀⠀⠀⠀⠀⠀⠀⠀⠀⠀⠀⠀⠀⠀⠀⠀⠀⠀⠀⠀⠀⠀⠀⠀⠀⠀\n",
       "⠀⠀⠀⠈⠻⣿⣦⠀⠀⠀⠀⠀⠀⠀⠀⠀⠀⠀⠀⠀⠀⠀⠀⠀⠀⠀⠀⠀⠀⠀⠀⠀⠀⠀⠀⠀⠀⠀⠀⠀\n",
       "⠀⠀⠀⠀⠀⠈⠻⣿⣦⡀⠀⠀⠀⠀⠀⠀⠀⠀⠀⠀⠀⠀⠀⠀⠀⠀⠀⠀⠀⠀⠀⠀⠀⠀⠀⠀⠀⠀⠀⠀\n",
       "⠀⠀⠀⠀⠀⠀⠀⠈⠻⣿⣦⡀⠀⠀⠀⠀⠀⠀⠀⠀⠀⠀⠀⠀⠀⠀⠀⠀⠀⠀⠀⠀⠀⠀⠀⠀⠀⠀⠀⠀\n",
       "⠀⠀⠀⠀⠀⠀⠀⠀⠀⠈⠻⣿⣦⡀⠀⠀⠀⠀⠀⠀⠀⠀⠀⠀⠀⠀⠀⠀⠀⠀⠀⠀⠀⠀⠀⠀⠀⠀⠀⠀\n",
       "⠀⠀⠀⠀⠀⠀⠀⠀⠀⠀⠀⠈⠻⣿⣦⡀⠀⠀⠀⠀⠀⠀⠀⠀⠀⠀⠀⠀⠀⠀⠀⠀⠀⠀⠀⠀⠀⠀⠀⠀\n",
       "⠀⠀⠀⠀⠀⠀⠀⠀⠀⠀⠀⠀⠀⠈⠻⣿⣦⡀⠀⠀⠀⠀⠀⠀⠀⠀⠀⠀⠀⠀⠀⠀⠀⠀⠀⠀⠀⠀⠀⠀\n",
       "⠀⠀⠀⠀⠀⠀⠀⠀⠀⠀⠀⠀⠀⠀⠀⠈⠻⣿⣦⡀⠀⠀⠀⠀⠀⠀⠀⠀⠀⠀⠀⠀⠀⠀⠀⠀⠀⠀⠀⠀\n",
       "⠀⠀⠀⠀⠀⠀⠀⠀⠀⠀⠀⠀⠀⠀⠀⠀⠀⠈⠻⣿⣆⡀⠀⠀⠀⠀⠀⠀⠀⠀⠀⠀⠀⠀⠀⠀⠀⠀⠀⠀\n",
       "⠀⠀⠀⠀⠀⠀⠀⠀⠀⠀⠀⠀⠀⠀⠀⠀⠀⠀⠀⠈⠻⣿⣦⡀⠀⠀⠀⠀⠀⠀⠀⠀⠀⠀⠀⠀⠀⠀⠀⠀\n",
       "⠀⠀⠀⠀⠀⠀⠀⠀⠀⠀⠀⠀⠀⠀⠀⠀⠀⠀⠀⠀⠀⠈⠻⣿⣦⡀⠀⠀⠀⠀⠀⠀⠀⠀⠀⠀⠀⠀⠀⠀\n",
       "⠀⠀⠀⠀⠀⠀⠀⠀⠀⠀⠀⠀⠀⠀⠀⠀⠀⠀⠀⠀⠀⠀⠀⠈⠻⣿⣦⡀⠀⠀⠀⠀⠀⠀⠀⠀⠀⠀⠀⠀\n",
       "⠀⠀⠀⠀⠀⠀⠀⠀⠀⠀⠀⠀⠀⠀⠀⠀⠀⠀⠀⠀⠀⠀⠀⠀⠀⠈⠻⣿⣦⡀⠀⠀⠀⠀⠀⠀⠀⠀⠀⠀\n",
       "⠀⠀⠀⠀⠀⠀⠀⠀⠀⠀⠀⠀⠀⠀⠀⠀⠀⠀⠀⠀⠀⠀⠀⠀⠀⠀⠀⠈⠻⣿⣦⡀⠀⠀⠀⠀⠀⠀⠀⠀\n",
       "⠀⠀⠀⠀⠀⠀⠀⠀⠀⠀⠀⠀⠀⠀⠀⠀⠀⠀⠀⠀⠀⠀⠀⠀⠀⠀⠀⠀⠀⠈⠻⣿⣦⡀⠀⠀⠀⠀⠀⠀\n",
       "⠀⠀⠀⠀⠀⠀⠀⠀⠀⠀⠀⠀⠀⠀⠀⠀⠀⠀⠀⠀⠀⠀⠀⠀⠀⠀⠀⠀⠀⠀⠀⠈⠻⣿⣤⡀⠀⠀⠀⠀\n",
       "⠀⠀⠀⠀⠀⠀⠀⠀⠀⠀⠀⠀⠀⠀⠀⠀⠀⠀⠀⠀⠀⠀⠀⠀⠀⠀⠀⠀⠀⠀⠀⠀⠀⠈⠻⣿⣦⡀⠀⠀\n",
       "⠀⠀⠀⠀⠀⠀⠀⠀⠀⠀⠀⠀⠀⠀⠀⠀⠀⠀⠀⠀⠀⠀⠀⠀⠀⠀⠀⠀⠀⠀⠀⠀⠀⠀⠀⠈⠻⣿⣦⡀\n",
       "⠀⠀⠀⠀⠀⠀⠀⠀⠀⠀⠀⠀⠀⠀⠀⠀⠀⠀⠀⠀⠀⠀⠀⠀⠀⠀⠀⠀⠀⠀⠀⠀⠀⠀⠀⠀⠀⠈⠻⣿"
      ]
     },
     "execution_count": 138,
     "metadata": {},
     "output_type": "execute_result"
    }
   ],
   "source": [
    "radial_mat = RODE.radial_discretized_eqn_c(nr,s,m,a,bhm,omega_0,gamma,rmin,rmax)"
   ]
  },
  {
   "cell_type": "code",
   "execution_count": 139,
   "id": "b04dc983",
   "metadata": {},
   "outputs": [],
   "source": [
    "mat = Matrix(radial_mat);"
   ]
  },
  {
   "cell_type": "code",
   "execution_count": 140,
   "id": "d61c2525",
   "metadata": {},
   "outputs": [],
   "source": [
    "nulls = nullspace(mat,rtol=1e-6);"
   ]
  },
  {
   "cell_type": "code",
   "execution_count": 141,
   "id": "082070f5",
   "metadata": {},
   "outputs": [
    {
     "data": {
      "text/plain": [
       "200×2 Matrix{ComplexF64}:\n",
       "          0.0-0.0im             -0.953101-0.0im\n",
       "     0.318986-0.940289im       -0.0177276-0.0100949im\n",
       "     0.050768+0.0548063im       -0.277019+0.00496217im\n",
       "   0.00193198-0.0825963im       0.0497555-0.103349im\n",
       "     0.028729+0.0255842im       0.0139455+0.0315731im\n",
       "   -0.0140183+0.00200536im    -0.00736389+0.000672408im\n",
       "  0.000444047-0.00356599im    -0.00230395-0.00135402im\n",
       "    0.0012199-0.000612453im    0.00146758-0.00195876im\n",
       "  0.000523204+0.00100042im    0.000816804+0.00120295im\n",
       " -0.000672124+0.000159575im   -0.00066658+0.000275054im\n",
       "  -2.28963e-5-0.000370292im  -0.000128979-0.000354639im\n",
       "  0.000206196-2.36987e-7im    0.000211568-6.96086e-5im\n",
       "  -6.92402e-6+0.000123203im    3.21076e-5+0.000132023im\n",
       "             ⋮               \n",
       "  6.28434e-16+2.42972e-16im   2.74094e-17+5.61798e-17im\n",
       " -4.84671e-16+1.97148e-16im  -2.32199e-17-5.23612e-17im\n",
       "  5.30889e-16-2.43145e-16im   2.38286e-17+4.86375e-17im\n",
       " -5.23198e-16+1.14967e-17im  -1.56269e-17-3.58309e-17im\n",
       "  5.55366e-16+2.10027e-16im   5.84774e-18+5.4035e-18im\n",
       " -5.48081e-16-3.64259e-16im  -4.12298e-18+8.55949e-18im\n",
       "  7.87596e-16+4.71853e-16im   6.28716e-18-8.67542e-18im\n",
       " -7.14695e-16-6.24499e-16im  -8.34882e-18+1.21425e-17im\n",
       "  5.72462e-16+5.82867e-16im   1.36608e-17-3.90329e-18im\n",
       "  -4.3021e-16-4.23273e-16im   -1.7781e-17-2.16888e-19im\n",
       "  3.26128e-16+1.73472e-16im   6.50519e-18-5.42102e-18im\n",
       " -1.11022e-16+6.93887e-18im   3.46944e-18+3.46944e-18im"
      ]
     },
     "execution_count": 141,
     "metadata": {},
     "output_type": "execute_result"
    }
   ],
   "source": [
    "nulls"
   ]
  },
  {
   "cell_type": "code",
   "execution_count": 146,
   "id": "02575c44",
   "metadata": {},
   "outputs": [],
   "source": [
    "nulls_re = CH.to_real(nulls[:,2]);"
   ]
  },
  {
   "cell_type": "code",
   "execution_count": 147,
   "id": "e399238d",
   "metadata": {},
   "outputs": [
    {
     "data": {
      "image/svg+xml": [
       "<?xml version=\"1.0\" encoding=\"utf-8\"?>\n",
       "<svg xmlns=\"http://www.w3.org/2000/svg\" xmlns:xlink=\"http://www.w3.org/1999/xlink\" width=\"600\" height=\"400\" viewBox=\"0 0 2400 1600\">\n",
       "<defs>\n",
       "  <clipPath id=\"clip390\">\n",
       "    <rect x=\"0\" y=\"0\" width=\"2400\" height=\"1600\"/>\n",
       "  </clipPath>\n",
       "</defs>\n",
       "<path clip-path=\"url(#clip390)\" d=\"\n",
       "M0 1600 L2400 1600 L2400 0 L0 0  Z\n",
       "  \" fill=\"#ffffff\" fill-rule=\"evenodd\" fill-opacity=\"1\"/>\n",
       "<defs>\n",
       "  <clipPath id=\"clip391\">\n",
       "    <rect x=\"480\" y=\"0\" width=\"1681\" height=\"1600\"/>\n",
       "  </clipPath>\n",
       "</defs>\n",
       "<path clip-path=\"url(#clip390)\" d=\"\n",
       "M193.936 1486.45 L2352.76 1486.45 L2352.76 47.2441 L193.936 47.2441  Z\n",
       "  \" fill=\"#ffffff\" fill-rule=\"evenodd\" fill-opacity=\"1\"/>\n",
       "<defs>\n",
       "  <clipPath id=\"clip392\">\n",
       "    <rect x=\"193\" y=\"47\" width=\"2160\" height=\"1440\"/>\n",
       "  </clipPath>\n",
       "</defs>\n",
       "<polyline clip-path=\"url(#clip392)\" style=\"stroke:#000000; stroke-linecap:round; stroke-linejoin:round; stroke-width:2; stroke-opacity:0.1; fill:none\" points=\"\n",
       "  255.035,1486.45 255.035,47.2441 \n",
       "  \"/>\n",
       "<polyline clip-path=\"url(#clip392)\" style=\"stroke:#000000; stroke-linecap:round; stroke-linejoin:round; stroke-width:2; stroke-opacity:0.1; fill:none\" points=\"\n",
       "  764.19,1486.45 764.19,47.2441 \n",
       "  \"/>\n",
       "<polyline clip-path=\"url(#clip392)\" style=\"stroke:#000000; stroke-linecap:round; stroke-linejoin:round; stroke-width:2; stroke-opacity:0.1; fill:none\" points=\"\n",
       "  1273.35,1486.45 1273.35,47.2441 \n",
       "  \"/>\n",
       "<polyline clip-path=\"url(#clip392)\" style=\"stroke:#000000; stroke-linecap:round; stroke-linejoin:round; stroke-width:2; stroke-opacity:0.1; fill:none\" points=\"\n",
       "  1782.5,1486.45 1782.5,47.2441 \n",
       "  \"/>\n",
       "<polyline clip-path=\"url(#clip392)\" style=\"stroke:#000000; stroke-linecap:round; stroke-linejoin:round; stroke-width:2; stroke-opacity:0.1; fill:none\" points=\"\n",
       "  2291.66,1486.45 2291.66,47.2441 \n",
       "  \"/>\n",
       "<polyline clip-path=\"url(#clip390)\" style=\"stroke:#000000; stroke-linecap:round; stroke-linejoin:round; stroke-width:4; stroke-opacity:1; fill:none\" points=\"\n",
       "  193.936,1486.45 2352.76,1486.45 \n",
       "  \"/>\n",
       "<polyline clip-path=\"url(#clip390)\" style=\"stroke:#000000; stroke-linecap:round; stroke-linejoin:round; stroke-width:4; stroke-opacity:1; fill:none\" points=\"\n",
       "  255.035,1486.45 255.035,1467.55 \n",
       "  \"/>\n",
       "<polyline clip-path=\"url(#clip390)\" style=\"stroke:#000000; stroke-linecap:round; stroke-linejoin:round; stroke-width:4; stroke-opacity:1; fill:none\" points=\"\n",
       "  764.19,1486.45 764.19,1467.55 \n",
       "  \"/>\n",
       "<polyline clip-path=\"url(#clip390)\" style=\"stroke:#000000; stroke-linecap:round; stroke-linejoin:round; stroke-width:4; stroke-opacity:1; fill:none\" points=\"\n",
       "  1273.35,1486.45 1273.35,1467.55 \n",
       "  \"/>\n",
       "<polyline clip-path=\"url(#clip390)\" style=\"stroke:#000000; stroke-linecap:round; stroke-linejoin:round; stroke-width:4; stroke-opacity:1; fill:none\" points=\"\n",
       "  1782.5,1486.45 1782.5,1467.55 \n",
       "  \"/>\n",
       "<polyline clip-path=\"url(#clip390)\" style=\"stroke:#000000; stroke-linecap:round; stroke-linejoin:round; stroke-width:4; stroke-opacity:1; fill:none\" points=\"\n",
       "  2291.66,1486.45 2291.66,1467.55 \n",
       "  \"/>\n",
       "<path clip-path=\"url(#clip390)\" d=\"M217.338 1517.37 Q213.727 1517.37 211.898 1520.93 Q210.093 1524.47 210.093 1531.6 Q210.093 1538.71 211.898 1542.27 Q213.727 1545.82 217.338 1545.82 Q220.972 1545.82 222.778 1542.27 Q224.607 1538.71 224.607 1531.6 Q224.607 1524.47 222.778 1520.93 Q220.972 1517.37 217.338 1517.37 M217.338 1513.66 Q223.148 1513.66 226.204 1518.27 Q229.282 1522.85 229.282 1531.6 Q229.282 1540.33 226.204 1544.94 Q223.148 1549.52 217.338 1549.52 Q211.528 1549.52 208.449 1544.94 Q205.394 1540.33 205.394 1531.6 Q205.394 1522.85 208.449 1518.27 Q211.528 1513.66 217.338 1513.66 Z\" fill=\"#000000\" fill-rule=\"evenodd\" fill-opacity=\"1\" /><path clip-path=\"url(#clip390)\" d=\"M237.5 1542.97 L242.384 1542.97 L242.384 1548.85 L237.5 1548.85 L237.5 1542.97 Z\" fill=\"#000000\" fill-rule=\"evenodd\" fill-opacity=\"1\" /><path clip-path=\"url(#clip390)\" d=\"M262.569 1517.37 Q258.958 1517.37 257.13 1520.93 Q255.324 1524.47 255.324 1531.6 Q255.324 1538.71 257.13 1542.27 Q258.958 1545.82 262.569 1545.82 Q266.204 1545.82 268.009 1542.27 Q269.838 1538.71 269.838 1531.6 Q269.838 1524.47 268.009 1520.93 Q266.204 1517.37 262.569 1517.37 M262.569 1513.66 Q268.38 1513.66 271.435 1518.27 Q274.514 1522.85 274.514 1531.6 Q274.514 1540.33 271.435 1544.94 Q268.38 1549.52 262.569 1549.52 Q256.759 1549.52 253.681 1544.94 Q250.625 1540.33 250.625 1531.6 Q250.625 1522.85 253.681 1518.27 Q256.759 1513.66 262.569 1513.66 Z\" fill=\"#000000\" fill-rule=\"evenodd\" fill-opacity=\"1\" /><path clip-path=\"url(#clip390)\" d=\"M292.731 1517.37 Q289.12 1517.37 287.291 1520.93 Q285.486 1524.47 285.486 1531.6 Q285.486 1538.71 287.291 1542.27 Q289.12 1545.82 292.731 1545.82 Q296.365 1545.82 298.171 1542.27 Q300 1538.71 300 1531.6 Q300 1524.47 298.171 1520.93 Q296.365 1517.37 292.731 1517.37 M292.731 1513.66 Q298.541 1513.66 301.597 1518.27 Q304.676 1522.85 304.676 1531.6 Q304.676 1540.33 301.597 1544.94 Q298.541 1549.52 292.731 1549.52 Q286.921 1549.52 283.842 1544.94 Q280.787 1540.33 280.787 1531.6 Q280.787 1522.85 283.842 1518.27 Q286.921 1513.66 292.731 1513.66 Z\" fill=\"#000000\" fill-rule=\"evenodd\" fill-opacity=\"1\" /><path clip-path=\"url(#clip390)\" d=\"M726.991 1517.37 Q723.38 1517.37 721.552 1520.93 Q719.746 1524.47 719.746 1531.6 Q719.746 1538.71 721.552 1542.27 Q723.38 1545.82 726.991 1545.82 Q730.626 1545.82 732.431 1542.27 Q734.26 1538.71 734.26 1531.6 Q734.26 1524.47 732.431 1520.93 Q730.626 1517.37 726.991 1517.37 M726.991 1513.66 Q732.802 1513.66 735.857 1518.27 Q738.936 1522.85 738.936 1531.6 Q738.936 1540.33 735.857 1544.94 Q732.802 1549.52 726.991 1549.52 Q721.181 1549.52 718.103 1544.94 Q715.047 1540.33 715.047 1531.6 Q715.047 1522.85 718.103 1518.27 Q721.181 1513.66 726.991 1513.66 Z\" fill=\"#000000\" fill-rule=\"evenodd\" fill-opacity=\"1\" /><path clip-path=\"url(#clip390)\" d=\"M747.153 1542.97 L752.038 1542.97 L752.038 1548.85 L747.153 1548.85 L747.153 1542.97 Z\" fill=\"#000000\" fill-rule=\"evenodd\" fill-opacity=\"1\" /><path clip-path=\"url(#clip390)\" d=\"M766.25 1544.91 L782.57 1544.91 L782.57 1548.85 L760.626 1548.85 L760.626 1544.91 Q763.288 1542.16 767.871 1537.53 Q772.477 1532.88 773.658 1531.53 Q775.903 1529.01 776.783 1527.27 Q777.686 1525.51 777.686 1523.82 Q777.686 1521.07 775.741 1519.33 Q773.82 1517.6 770.718 1517.6 Q768.519 1517.6 766.065 1518.36 Q763.635 1519.13 760.857 1520.68 L760.857 1515.95 Q763.681 1514.82 766.135 1514.24 Q768.588 1513.66 770.625 1513.66 Q775.996 1513.66 779.19 1516.35 Q782.385 1519.03 782.385 1523.52 Q782.385 1525.65 781.574 1527.57 Q780.787 1529.47 778.681 1532.07 Q778.102 1532.74 775 1535.95 Q771.899 1539.15 766.25 1544.91 Z\" fill=\"#000000\" fill-rule=\"evenodd\" fill-opacity=\"1\" /><path clip-path=\"url(#clip390)\" d=\"M792.431 1514.29 L810.787 1514.29 L810.787 1518.22 L796.713 1518.22 L796.713 1526.7 Q797.732 1526.35 798.75 1526.19 Q799.769 1526 800.787 1526 Q806.574 1526 809.954 1529.17 Q813.334 1532.34 813.334 1537.76 Q813.334 1543.34 809.861 1546.44 Q806.389 1549.52 800.07 1549.52 Q797.894 1549.52 795.625 1549.15 Q793.38 1548.78 790.973 1548.04 L790.973 1543.34 Q793.056 1544.47 795.278 1545.03 Q797.5 1545.58 799.977 1545.58 Q803.982 1545.58 806.32 1543.48 Q808.658 1541.37 808.658 1537.76 Q808.658 1534.15 806.32 1532.04 Q803.982 1529.94 799.977 1529.94 Q798.102 1529.94 796.227 1530.35 Q794.375 1530.77 792.431 1531.65 L792.431 1514.29 Z\" fill=\"#000000\" fill-rule=\"evenodd\" fill-opacity=\"1\" /><path clip-path=\"url(#clip390)\" d=\"M1235.65 1517.37 Q1232.04 1517.37 1230.21 1520.93 Q1228.4 1524.47 1228.4 1531.6 Q1228.4 1538.71 1230.21 1542.27 Q1232.04 1545.82 1235.65 1545.82 Q1239.28 1545.82 1241.09 1542.27 Q1242.92 1538.71 1242.92 1531.6 Q1242.92 1524.47 1241.09 1520.93 Q1239.28 1517.37 1235.65 1517.37 M1235.65 1513.66 Q1241.46 1513.66 1244.52 1518.27 Q1247.59 1522.85 1247.59 1531.6 Q1247.59 1540.33 1244.52 1544.94 Q1241.46 1549.52 1235.65 1549.52 Q1229.84 1549.52 1226.76 1544.94 Q1223.71 1540.33 1223.71 1531.6 Q1223.71 1522.85 1226.76 1518.27 Q1229.84 1513.66 1235.65 1513.66 Z\" fill=\"#000000\" fill-rule=\"evenodd\" fill-opacity=\"1\" /><path clip-path=\"url(#clip390)\" d=\"M1255.81 1542.97 L1260.7 1542.97 L1260.7 1548.85 L1255.81 1548.85 L1255.81 1542.97 Z\" fill=\"#000000\" fill-rule=\"evenodd\" fill-opacity=\"1\" /><path clip-path=\"url(#clip390)\" d=\"M1270.93 1514.29 L1289.28 1514.29 L1289.28 1518.22 L1275.21 1518.22 L1275.21 1526.7 Q1276.23 1526.35 1277.25 1526.19 Q1278.26 1526 1279.28 1526 Q1285.07 1526 1288.45 1529.17 Q1291.83 1532.34 1291.83 1537.76 Q1291.83 1543.34 1288.36 1546.44 Q1284.89 1549.52 1278.57 1549.52 Q1276.39 1549.52 1274.12 1549.15 Q1271.88 1548.78 1269.47 1548.04 L1269.47 1543.34 Q1271.55 1544.47 1273.77 1545.03 Q1276 1545.58 1278.47 1545.58 Q1282.48 1545.58 1284.82 1543.48 Q1287.15 1541.37 1287.15 1537.76 Q1287.15 1534.15 1284.82 1532.04 Q1282.48 1529.94 1278.47 1529.94 Q1276.6 1529.94 1274.72 1530.35 Q1272.87 1530.77 1270.93 1531.65 L1270.93 1514.29 Z\" fill=\"#000000\" fill-rule=\"evenodd\" fill-opacity=\"1\" /><path clip-path=\"url(#clip390)\" d=\"M1311.04 1517.37 Q1307.43 1517.37 1305.6 1520.93 Q1303.8 1524.47 1303.8 1531.6 Q1303.8 1538.71 1305.6 1542.27 Q1307.43 1545.82 1311.04 1545.82 Q1314.68 1545.82 1316.48 1542.27 Q1318.31 1538.71 1318.31 1531.6 Q1318.31 1524.47 1316.48 1520.93 Q1314.68 1517.37 1311.04 1517.37 M1311.04 1513.66 Q1316.85 1513.66 1319.91 1518.27 Q1322.99 1522.85 1322.99 1531.6 Q1322.99 1540.33 1319.91 1544.94 Q1316.85 1549.52 1311.04 1549.52 Q1305.23 1549.52 1302.15 1544.94 Q1299.1 1540.33 1299.1 1531.6 Q1299.1 1522.85 1302.15 1518.27 Q1305.23 1513.66 1311.04 1513.66 Z\" fill=\"#000000\" fill-rule=\"evenodd\" fill-opacity=\"1\" /><path clip-path=\"url(#clip390)\" d=\"M1745.3 1517.37 Q1741.69 1517.37 1739.86 1520.93 Q1738.06 1524.47 1738.06 1531.6 Q1738.06 1538.71 1739.86 1542.27 Q1741.69 1545.82 1745.3 1545.82 Q1748.94 1545.82 1750.74 1542.27 Q1752.57 1538.71 1752.57 1531.6 Q1752.57 1524.47 1750.74 1520.93 Q1748.94 1517.37 1745.3 1517.37 M1745.3 1513.66 Q1751.11 1513.66 1754.17 1518.27 Q1757.25 1522.85 1757.25 1531.6 Q1757.25 1540.33 1754.17 1544.94 Q1751.11 1549.52 1745.3 1549.52 Q1739.49 1549.52 1736.41 1544.94 Q1733.36 1540.33 1733.36 1531.6 Q1733.36 1522.85 1736.41 1518.27 Q1739.49 1513.66 1745.3 1513.66 Z\" fill=\"#000000\" fill-rule=\"evenodd\" fill-opacity=\"1\" /><path clip-path=\"url(#clip390)\" d=\"M1765.46 1542.97 L1770.35 1542.97 L1770.35 1548.85 L1765.46 1548.85 L1765.46 1542.97 Z\" fill=\"#000000\" fill-rule=\"evenodd\" fill-opacity=\"1\" /><path clip-path=\"url(#clip390)\" d=\"M1779.35 1514.29 L1801.58 1514.29 L1801.58 1516.28 L1789.03 1548.85 L1784.15 1548.85 L1795.95 1518.22 L1779.35 1518.22 L1779.35 1514.29 Z\" fill=\"#000000\" fill-rule=\"evenodd\" fill-opacity=\"1\" /><path clip-path=\"url(#clip390)\" d=\"M1810.74 1514.29 L1829.1 1514.29 L1829.1 1518.22 L1815.02 1518.22 L1815.02 1526.7 Q1816.04 1526.35 1817.06 1526.19 Q1818.08 1526 1819.1 1526 Q1824.89 1526 1828.27 1529.17 Q1831.64 1532.34 1831.64 1537.76 Q1831.64 1543.34 1828.17 1546.44 Q1824.7 1549.52 1818.38 1549.52 Q1816.21 1549.52 1813.94 1549.15 Q1811.69 1548.78 1809.28 1548.04 L1809.28 1543.34 Q1811.37 1544.47 1813.59 1545.03 Q1815.81 1545.58 1818.29 1545.58 Q1822.29 1545.58 1824.63 1543.48 Q1826.97 1541.37 1826.97 1537.76 Q1826.97 1534.15 1824.63 1532.04 Q1822.29 1529.94 1818.29 1529.94 Q1816.41 1529.94 1814.54 1530.35 Q1812.69 1530.77 1810.74 1531.65 L1810.74 1514.29 Z\" fill=\"#000000\" fill-rule=\"evenodd\" fill-opacity=\"1\" /><path clip-path=\"url(#clip390)\" d=\"M2243.73 1544.91 L2251.37 1544.91 L2251.37 1518.55 L2243.06 1520.21 L2243.06 1515.95 L2251.32 1514.29 L2256 1514.29 L2256 1544.91 L2263.64 1544.91 L2263.64 1548.85 L2243.73 1548.85 L2243.73 1544.91 Z\" fill=\"#000000\" fill-rule=\"evenodd\" fill-opacity=\"1\" /><path clip-path=\"url(#clip390)\" d=\"M2273.08 1542.97 L2277.97 1542.97 L2277.97 1548.85 L2273.08 1548.85 L2273.08 1542.97 Z\" fill=\"#000000\" fill-rule=\"evenodd\" fill-opacity=\"1\" /><path clip-path=\"url(#clip390)\" d=\"M2298.15 1517.37 Q2294.54 1517.37 2292.71 1520.93 Q2290.9 1524.47 2290.9 1531.6 Q2290.9 1538.71 2292.71 1542.27 Q2294.54 1545.82 2298.15 1545.82 Q2301.78 1545.82 2303.59 1542.27 Q2305.42 1538.71 2305.42 1531.6 Q2305.42 1524.47 2303.59 1520.93 Q2301.78 1517.37 2298.15 1517.37 M2298.15 1513.66 Q2303.96 1513.66 2307.02 1518.27 Q2310.09 1522.85 2310.09 1531.6 Q2310.09 1540.33 2307.02 1544.94 Q2303.96 1549.52 2298.15 1549.52 Q2292.34 1549.52 2289.26 1544.94 Q2286.21 1540.33 2286.21 1531.6 Q2286.21 1522.85 2289.26 1518.27 Q2292.34 1513.66 2298.15 1513.66 Z\" fill=\"#000000\" fill-rule=\"evenodd\" fill-opacity=\"1\" /><path clip-path=\"url(#clip390)\" d=\"M2328.31 1517.37 Q2324.7 1517.37 2322.87 1520.93 Q2321.07 1524.47 2321.07 1531.6 Q2321.07 1538.71 2322.87 1542.27 Q2324.7 1545.82 2328.31 1545.82 Q2331.95 1545.82 2333.75 1542.27 Q2335.58 1538.71 2335.58 1531.6 Q2335.58 1524.47 2333.75 1520.93 Q2331.95 1517.37 2328.31 1517.37 M2328.31 1513.66 Q2334.12 1513.66 2337.18 1518.27 Q2340.26 1522.85 2340.26 1531.6 Q2340.26 1540.33 2337.18 1544.94 Q2334.12 1549.52 2328.31 1549.52 Q2322.5 1549.52 2319.42 1544.94 Q2316.37 1540.33 2316.37 1531.6 Q2316.37 1522.85 2319.42 1518.27 Q2322.5 1513.66 2328.31 1513.66 Z\" fill=\"#000000\" fill-rule=\"evenodd\" fill-opacity=\"1\" /><polyline clip-path=\"url(#clip392)\" style=\"stroke:#000000; stroke-linecap:round; stroke-linejoin:round; stroke-width:2; stroke-opacity:0.1; fill:none\" points=\"\n",
       "  193.936,1313.32 2352.76,1313.32 \n",
       "  \"/>\n",
       "<polyline clip-path=\"url(#clip392)\" style=\"stroke:#000000; stroke-linecap:round; stroke-linejoin:round; stroke-width:2; stroke-opacity:0.1; fill:none\" points=\"\n",
       "  193.936,1041.32 2352.76,1041.32 \n",
       "  \"/>\n",
       "<polyline clip-path=\"url(#clip392)\" style=\"stroke:#000000; stroke-linecap:round; stroke-linejoin:round; stroke-width:2; stroke-opacity:0.1; fill:none\" points=\"\n",
       "  193.936,769.319 2352.76,769.319 \n",
       "  \"/>\n",
       "<polyline clip-path=\"url(#clip392)\" style=\"stroke:#000000; stroke-linecap:round; stroke-linejoin:round; stroke-width:2; stroke-opacity:0.1; fill:none\" points=\"\n",
       "  193.936,497.32 2352.76,497.32 \n",
       "  \"/>\n",
       "<polyline clip-path=\"url(#clip392)\" style=\"stroke:#000000; stroke-linecap:round; stroke-linejoin:round; stroke-width:2; stroke-opacity:0.1; fill:none\" points=\"\n",
       "  193.936,225.321 2352.76,225.321 \n",
       "  \"/>\n",
       "<polyline clip-path=\"url(#clip390)\" style=\"stroke:#000000; stroke-linecap:round; stroke-linejoin:round; stroke-width:4; stroke-opacity:1; fill:none\" points=\"\n",
       "  193.936,1486.45 193.936,47.2441 \n",
       "  \"/>\n",
       "<polyline clip-path=\"url(#clip390)\" style=\"stroke:#000000; stroke-linecap:round; stroke-linejoin:round; stroke-width:4; stroke-opacity:1; fill:none\" points=\"\n",
       "  193.936,1313.32 212.834,1313.32 \n",
       "  \"/>\n",
       "<polyline clip-path=\"url(#clip390)\" style=\"stroke:#000000; stroke-linecap:round; stroke-linejoin:round; stroke-width:4; stroke-opacity:1; fill:none\" points=\"\n",
       "  193.936,1041.32 212.834,1041.32 \n",
       "  \"/>\n",
       "<polyline clip-path=\"url(#clip390)\" style=\"stroke:#000000; stroke-linecap:round; stroke-linejoin:round; stroke-width:4; stroke-opacity:1; fill:none\" points=\"\n",
       "  193.936,769.319 212.834,769.319 \n",
       "  \"/>\n",
       "<polyline clip-path=\"url(#clip390)\" style=\"stroke:#000000; stroke-linecap:round; stroke-linejoin:round; stroke-width:4; stroke-opacity:1; fill:none\" points=\"\n",
       "  193.936,497.32 212.834,497.32 \n",
       "  \"/>\n",
       "<polyline clip-path=\"url(#clip390)\" style=\"stroke:#000000; stroke-linecap:round; stroke-linejoin:round; stroke-width:4; stroke-opacity:1; fill:none\" points=\"\n",
       "  193.936,225.321 212.834,225.321 \n",
       "  \"/>\n",
       "<path clip-path=\"url(#clip390)\" d=\"M50.9921 1313.77 L80.6679 1313.77 L80.6679 1317.7 L50.9921 1317.7 L50.9921 1313.77 Z\" fill=\"#000000\" fill-rule=\"evenodd\" fill-opacity=\"1\" /><path clip-path=\"url(#clip390)\" d=\"M91.5706 1326.66 L99.2095 1326.66 L99.2095 1300.3 L90.8993 1301.96 L90.8993 1297.7 L99.1632 1296.04 L103.839 1296.04 L103.839 1326.66 L111.478 1326.66 L111.478 1330.6 L91.5706 1330.6 L91.5706 1326.66 Z\" fill=\"#000000\" fill-rule=\"evenodd\" fill-opacity=\"1\" /><path clip-path=\"url(#clip390)\" d=\"M120.922 1324.72 L125.807 1324.72 L125.807 1330.6 L120.922 1330.6 L120.922 1324.72 Z\" fill=\"#000000\" fill-rule=\"evenodd\" fill-opacity=\"1\" /><path clip-path=\"url(#clip390)\" d=\"M145.992 1299.12 Q142.381 1299.12 140.552 1302.68 Q138.746 1306.22 138.746 1313.35 Q138.746 1320.46 140.552 1324.02 Q142.381 1327.56 145.992 1327.56 Q149.626 1327.56 151.431 1324.02 Q153.26 1320.46 153.26 1313.35 Q153.26 1306.22 151.431 1302.68 Q149.626 1299.12 145.992 1299.12 M145.992 1295.41 Q151.802 1295.41 154.857 1300.02 Q157.936 1304.6 157.936 1313.35 Q157.936 1322.08 154.857 1326.69 Q151.802 1331.27 145.992 1331.27 Q140.181 1331.27 137.103 1326.69 Q134.047 1322.08 134.047 1313.35 Q134.047 1304.6 137.103 1300.02 Q140.181 1295.41 145.992 1295.41 Z\" fill=\"#000000\" fill-rule=\"evenodd\" fill-opacity=\"1\" /><path clip-path=\"url(#clip390)\" d=\"M51.9875 1041.77 L81.6633 1041.77 L81.6633 1045.7 L51.9875 1045.7 L51.9875 1041.77 Z\" fill=\"#000000\" fill-rule=\"evenodd\" fill-opacity=\"1\" /><path clip-path=\"url(#clip390)\" d=\"M101.756 1027.12 Q98.1447 1027.12 96.316 1030.68 Q94.5104 1034.22 94.5104 1041.35 Q94.5104 1048.46 96.316 1052.02 Q98.1447 1055.57 101.756 1055.57 Q105.39 1055.57 107.196 1052.02 Q109.024 1048.46 109.024 1041.35 Q109.024 1034.22 107.196 1030.68 Q105.39 1027.12 101.756 1027.12 M101.756 1023.41 Q107.566 1023.41 110.621 1028.02 Q113.7 1032.6 113.7 1041.35 Q113.7 1050.08 110.621 1054.69 Q107.566 1059.27 101.756 1059.27 Q95.9456 1059.27 92.8669 1054.69 Q89.8114 1050.08 89.8114 1041.35 Q89.8114 1032.6 92.8669 1028.02 Q95.9456 1023.41 101.756 1023.41 Z\" fill=\"#000000\" fill-rule=\"evenodd\" fill-opacity=\"1\" /><path clip-path=\"url(#clip390)\" d=\"M121.918 1052.72 L126.802 1052.72 L126.802 1058.6 L121.918 1058.6 L121.918 1052.72 Z\" fill=\"#000000\" fill-rule=\"evenodd\" fill-opacity=\"1\" /><path clip-path=\"url(#clip390)\" d=\"M137.033 1024.04 L155.39 1024.04 L155.39 1027.97 L141.316 1027.97 L141.316 1036.45 Q142.334 1036.1 143.353 1035.94 Q144.371 1035.75 145.39 1035.75 Q151.177 1035.75 154.556 1038.92 Q157.936 1042.09 157.936 1047.51 Q157.936 1053.09 154.464 1056.19 Q150.992 1059.27 144.672 1059.27 Q142.496 1059.27 140.228 1058.9 Q137.982 1058.53 135.575 1057.79 L135.575 1053.09 Q137.658 1054.22 139.881 1054.78 Q142.103 1055.33 144.58 1055.33 Q148.584 1055.33 150.922 1053.23 Q153.26 1051.12 153.26 1047.51 Q153.26 1043.9 150.922 1041.79 Q148.584 1039.69 144.58 1039.69 Q142.705 1039.69 140.83 1040.1 Q138.978 1040.52 137.033 1041.4 L137.033 1024.04 Z\" fill=\"#000000\" fill-rule=\"evenodd\" fill-opacity=\"1\" /><path clip-path=\"url(#clip390)\" d=\"M100.76 755.118 Q97.1493 755.118 95.3206 758.682 Q93.515 762.224 93.515 769.354 Q93.515 776.46 95.3206 780.025 Q97.1493 783.567 100.76 783.567 Q104.395 783.567 106.2 780.025 Q108.029 776.46 108.029 769.354 Q108.029 762.224 106.2 758.682 Q104.395 755.118 100.76 755.118 M100.76 751.414 Q106.571 751.414 109.626 756.02 Q112.705 760.604 112.705 769.354 Q112.705 778.08 109.626 782.687 Q106.571 787.27 100.76 787.27 Q94.9502 787.27 91.8715 782.687 Q88.816 778.08 88.816 769.354 Q88.816 760.604 91.8715 756.02 Q94.9502 751.414 100.76 751.414 Z\" fill=\"#000000\" fill-rule=\"evenodd\" fill-opacity=\"1\" /><path clip-path=\"url(#clip390)\" d=\"M120.922 780.719 L125.807 780.719 L125.807 786.599 L120.922 786.599 L120.922 780.719 Z\" fill=\"#000000\" fill-rule=\"evenodd\" fill-opacity=\"1\" /><path clip-path=\"url(#clip390)\" d=\"M145.992 755.118 Q142.381 755.118 140.552 758.682 Q138.746 762.224 138.746 769.354 Q138.746 776.46 140.552 780.025 Q142.381 783.567 145.992 783.567 Q149.626 783.567 151.431 780.025 Q153.26 776.46 153.26 769.354 Q153.26 762.224 151.431 758.682 Q149.626 755.118 145.992 755.118 M145.992 751.414 Q151.802 751.414 154.857 756.02 Q157.936 760.604 157.936 769.354 Q157.936 778.08 154.857 782.687 Q151.802 787.27 145.992 787.27 Q140.181 787.27 137.103 782.687 Q134.047 778.08 134.047 769.354 Q134.047 760.604 137.103 756.02 Q140.181 751.414 145.992 751.414 Z\" fill=\"#000000\" fill-rule=\"evenodd\" fill-opacity=\"1\" /><path clip-path=\"url(#clip390)\" d=\"M101.756 483.119 Q98.1447 483.119 96.316 486.683 Q94.5104 490.225 94.5104 497.355 Q94.5104 504.461 96.316 508.026 Q98.1447 511.567 101.756 511.567 Q105.39 511.567 107.196 508.026 Q109.024 504.461 109.024 497.355 Q109.024 490.225 107.196 486.683 Q105.39 483.119 101.756 483.119 M101.756 479.415 Q107.566 479.415 110.621 484.021 Q113.7 488.605 113.7 497.355 Q113.7 506.081 110.621 510.688 Q107.566 515.271 101.756 515.271 Q95.9456 515.271 92.8669 510.688 Q89.8114 506.081 89.8114 497.355 Q89.8114 488.605 92.8669 484.021 Q95.9456 479.415 101.756 479.415 Z\" fill=\"#000000\" fill-rule=\"evenodd\" fill-opacity=\"1\" /><path clip-path=\"url(#clip390)\" d=\"M121.918 508.72 L126.802 508.72 L126.802 514.6 L121.918 514.6 L121.918 508.72 Z\" fill=\"#000000\" fill-rule=\"evenodd\" fill-opacity=\"1\" /><path clip-path=\"url(#clip390)\" d=\"M137.033 480.04 L155.39 480.04 L155.39 483.975 L141.316 483.975 L141.316 492.447 Q142.334 492.1 143.353 491.938 Q144.371 491.753 145.39 491.753 Q151.177 491.753 154.556 494.924 Q157.936 498.095 157.936 503.512 Q157.936 509.091 154.464 512.192 Q150.992 515.271 144.672 515.271 Q142.496 515.271 140.228 514.901 Q137.982 514.53 135.575 513.79 L135.575 509.091 Q137.658 510.225 139.881 510.78 Q142.103 511.336 144.58 511.336 Q148.584 511.336 150.922 509.23 Q153.26 507.123 153.26 503.512 Q153.26 499.901 150.922 497.794 Q148.584 495.688 144.58 495.688 Q142.705 495.688 140.83 496.105 Q138.978 496.521 137.033 497.401 L137.033 480.04 Z\" fill=\"#000000\" fill-rule=\"evenodd\" fill-opacity=\"1\" /><path clip-path=\"url(#clip390)\" d=\"M91.5706 238.666 L99.2095 238.666 L99.2095 212.3 L90.8993 213.967 L90.8993 209.707 L99.1632 208.041 L103.839 208.041 L103.839 238.666 L111.478 238.666 L111.478 242.601 L91.5706 242.601 L91.5706 238.666 Z\" fill=\"#000000\" fill-rule=\"evenodd\" fill-opacity=\"1\" /><path clip-path=\"url(#clip390)\" d=\"M120.922 236.721 L125.807 236.721 L125.807 242.601 L120.922 242.601 L120.922 236.721 Z\" fill=\"#000000\" fill-rule=\"evenodd\" fill-opacity=\"1\" /><path clip-path=\"url(#clip390)\" d=\"M145.992 211.119 Q142.381 211.119 140.552 214.684 Q138.746 218.226 138.746 225.355 Q138.746 232.462 140.552 236.027 Q142.381 239.568 145.992 239.568 Q149.626 239.568 151.431 236.027 Q153.26 232.462 153.26 225.355 Q153.26 218.226 151.431 214.684 Q149.626 211.119 145.992 211.119 M145.992 207.416 Q151.802 207.416 154.857 212.022 Q157.936 216.606 157.936 225.355 Q157.936 234.082 154.857 238.689 Q151.802 243.272 145.992 243.272 Q140.181 243.272 137.103 238.689 Q134.047 234.082 134.047 225.355 Q134.047 216.606 137.103 212.022 Q140.181 207.416 145.992 207.416 Z\" fill=\"#000000\" fill-rule=\"evenodd\" fill-opacity=\"1\" /><polyline clip-path=\"url(#clip392)\" style=\"stroke:#009af9; stroke-linecap:round; stroke-linejoin:round; stroke-width:4; stroke-opacity:1; fill:none\" points=\"\n",
       "  2291.66,811.962 2291.53,811.93 2291.15,811.833 2290.52,811.673 2289.63,811.449 2288.49,811.161 2287.09,810.81 2285.45,810.397 2283.55,809.921 2281.4,809.383 \n",
       "  2278.99,808.784 2276.34,808.124 2273.44,807.405 2270.29,806.627 2266.89,805.791 2263.24,804.898 2259.34,803.949 2255.2,802.946 2250.82,801.889 2246.19,800.78 \n",
       "  2241.32,799.62 2236.21,798.41 2230.85,797.153 2225.26,795.849 2219.44,794.5 2213.37,793.108 2207.07,791.675 2200.54,790.202 2193.78,788.692 2186.79,787.146 \n",
       "  2179.57,785.566 2172.13,783.955 2164.46,782.314 2156.57,780.645 2148.45,778.952 2140.13,777.236 2131.58,775.499 2122.82,773.744 2113.85,771.974 2104.67,770.191 \n",
       "  2095.28,768.397 2085.69,766.595 2075.9,764.788 2065.9,762.979 2055.71,761.17 2045.32,759.364 2034.74,757.564 2023.97,755.773 2013.02,753.993 2001.88,752.229 \n",
       "  1990.55,750.482 1979.05,748.755 1967.38,747.053 1955.53,745.377 1943.51,743.732 1931.32,742.12 1918.97,740.544 1906.46,739.008 1893.79,737.515 1880.96,736.068 \n",
       "  1867.99,734.671 1854.86,733.327 1841.59,732.038 1828.18,730.81 1814.63,729.644 1800.95,728.544 1787.14,727.514 1773.19,726.558 1759.12,725.677 1744.94,724.877 \n",
       "  1730.63,724.159 1716.21,723.529 1701.68,722.988 1687.04,722.54 1672.3,722.189 1657.46,721.938 1642.52,721.79 1627.5,721.748 1612.38,721.816 1597.18,721.995 \n",
       "  1581.9,722.29 1566.54,722.702 1551.11,723.235 1535.61,723.89 1520.04,724.67 1504.42,725.578 1488.73,726.613 1472.99,727.779 1457.21,729.076 1441.37,730.504 \n",
       "  1425.5,732.064 1409.58,733.756 1393.63,735.579 1377.66,737.53 1361.65,739.609 1345.63,741.811 1329.58,744.134 1313.53,746.573 1297.46,749.123 1281.38,751.776 \n",
       "  1265.31,754.527 1249.23,757.366 1233.17,760.286 1217.11,763.275 1201.06,766.323 1185.04,769.42 1169.04,772.553 1153.06,775.711 1137.11,778.881 1121.2,782.052 \n",
       "  1105.32,785.21 1089.49,788.344 1073.7,791.442 1057.96,794.494 1042.27,797.487 1026.65,800.413 1011.08,803.261 995.582,806.022 980.15,808.688 964.792,811.252 \n",
       "  949.511,813.705 934.311,816.042 919.195,818.256 904.167,820.342 889.231,822.295 874.392,824.111 859.651,825.785 845.014,827.314 830.483,828.695 816.063,829.925 \n",
       "  801.756,831.002 787.568,831.923 773.5,832.688 759.557,833.294 745.742,833.741 732.058,834.027 718.509,834.153 705.099,834.118 691.83,833.922 678.706,833.564 \n",
       "  665.73,833.047 652.906,832.37 640.236,831.534 627.725,830.541 615.374,829.393 603.187,828.09 591.167,826.635 579.317,825.031 567.64,823.28 556.139,821.385 \n",
       "  544.816,819.348 533.675,817.175 522.719,814.867 511.95,812.43 501.37,809.868 490.983,807.185 480.79,804.387 470.796,801.479 461.001,798.466 451.409,795.356 \n",
       "  442.021,792.153 432.841,788.865 423.87,785.5 415.111,782.063 406.566,778.564 398.237,775.01 390.126,771.409 382.235,767.77 374.566,764.102 367.121,760.414 \n",
       "  359.902,756.715 352.911,753.015 346.149,749.324 339.618,745.651 333.32,742.006 327.256,738.4 321.428,734.842 315.837,731.343 310.485,727.913 305.372,724.562 \n",
       "  300.501,721.3 295.873,718.136 291.488,715.081 287.347,712.143 283.453,709.333 279.805,706.658 276.405,704.127 273.253,701.749 270.35,699.531 267.698,697.481 \n",
       "  265.296,695.604 263.145,693.908 261.246,692.397 259.599,691.078 258.205,689.953 257.064,689.028 256.177,688.306 255.542,687.788 255.162,687.476 255.035,687.372 \n",
       "  \n",
       "  \"/>\n",
       "<polyline clip-path=\"url(#clip392)\" style=\"stroke:#e26f46; stroke-linecap:round; stroke-linejoin:round; stroke-width:4; stroke-opacity:1; fill:none\" points=\"\n",
       "  2291.66,1417.84 2291.53,1417.8 2291.15,1417.67 2290.52,1417.45 2289.63,1417.15 2288.49,1416.75 2287.09,1416.27 2285.45,1415.71 2283.55,1415.05 2281.4,1414.31 \n",
       "  2278.99,1413.49 2276.34,1412.58 2273.44,1411.58 2270.29,1410.5 2266.89,1409.34 2263.24,1408.09 2259.34,1406.75 2255.2,1405.34 2250.82,1403.84 2246.19,1402.26 \n",
       "  2241.32,1400.59 2236.21,1398.85 2230.85,1397.03 2225.26,1395.12 2219.44,1393.14 2213.37,1391.08 2207.07,1388.95 2200.54,1386.73 2193.78,1384.44 2186.79,1382.08 \n",
       "  2179.57,1379.64 2172.13,1377.13 2164.46,1374.55 2156.57,1371.89 2148.45,1369.17 2140.13,1366.37 2131.58,1363.51 2122.82,1360.58 2113.85,1357.58 2104.67,1354.52 \n",
       "  2095.28,1351.4 2085.69,1348.21 2075.9,1344.96 2065.9,1341.65 2055.71,1338.28 2045.32,1334.85 2034.74,1331.37 2023.97,1327.83 2013.02,1324.24 2001.88,1320.59 \n",
       "  1990.55,1316.9 1979.05,1313.15 1967.38,1309.36 1955.53,1305.52 1943.51,1301.63 1931.32,1297.7 1918.97,1293.73 1906.46,1289.72 1893.79,1285.68 1880.96,1281.59 \n",
       "  1867.99,1277.48 1854.86,1273.33 1841.59,1269.16 1828.18,1264.95 1814.63,1260.73 1800.95,1256.48 1787.14,1252.21 1773.19,1247.92 1759.12,1243.63 1744.94,1239.32 \n",
       "  1730.63,1235 1716.21,1230.68 1701.68,1226.36 1687.04,1222.04 1672.3,1217.73 1657.46,1213.43 1642.52,1209.15 1627.5,1204.88 1612.38,1200.64 1597.18,1196.43 \n",
       "  1581.9,1192.26 1566.54,1188.12 1551.11,1184.04 1535.61,1180 1520.04,1176.02 1504.42,1172.11 1488.73,1168.27 1472.99,1164.51 1457.21,1160.84 1441.37,1157.26 \n",
       "  1425.5,1153.79 1409.58,1150.43 1393.63,1147.2 1377.66,1144.09 1361.65,1141.12 1345.63,1138.31 1329.58,1135.65 1313.53,1133.16 1297.46,1130.85 1281.38,1128.72 \n",
       "  1265.31,1126.8 1249.23,1125.08 1233.17,1123.57 1217.11,1122.28 1201.06,1121.22 1185.04,1120.39 1169.04,1119.8 1153.06,1119.44 1137.11,1119.33 1121.2,1119.47 \n",
       "  1105.32,1119.84 1089.49,1120.46 1073.7,1121.33 1057.96,1122.43 1042.27,1123.76 1026.65,1125.33 1011.08,1127.12 995.582,1129.13 980.15,1131.36 964.792,1133.8 \n",
       "  949.511,1136.44 934.311,1139.27 919.195,1142.3 904.167,1145.51 889.231,1148.89 874.392,1152.45 859.651,1156.16 845.014,1160.03 830.483,1164.05 816.063,1168.21 \n",
       "  801.756,1172.5 787.568,1176.92 773.5,1181.47 759.557,1186.12 745.742,1190.88 732.058,1195.74 718.509,1200.7 705.099,1205.74 691.83,1210.87 678.706,1216.06 \n",
       "  665.73,1221.33 652.906,1226.65 640.236,1232.04 627.725,1237.47 615.374,1242.94 603.187,1248.45 591.167,1253.98 579.317,1259.54 567.64,1265.12 556.139,1270.71 \n",
       "  544.816,1276.3 533.675,1281.88 522.719,1287.46 511.95,1293.03 501.37,1298.57 490.983,1304.09 480.79,1309.57 470.796,1315.01 461.001,1320.41 451.409,1325.75 \n",
       "  442.021,1331.04 432.841,1336.26 423.87,1341.41 415.111,1346.49 406.566,1351.49 398.237,1356.4 390.126,1361.22 382.235,1365.95 374.566,1370.57 367.121,1375.08 \n",
       "  359.902,1379.49 352.911,1383.78 346.149,1387.95 339.618,1392 333.32,1395.92 327.256,1399.71 321.428,1403.37 315.837,1406.89 310.485,1410.27 305.372,1413.5 \n",
       "  300.501,1416.6 295.873,1419.54 291.488,1422.33 287.347,1424.98 283.453,1427.47 279.805,1429.8 276.405,1431.98 273.253,1434 270.35,1435.87 267.698,1437.57 \n",
       "  265.296,1439.11 263.145,1440.5 261.246,1441.72 259.599,1442.78 258.205,1443.67 257.064,1444.41 256.177,1444.98 255.542,1445.39 255.162,1445.63 255.035,1445.72 \n",
       "  \n",
       "  \"/>\n",
       "<polyline clip-path=\"url(#clip392)\" style=\"stroke:#3da44d; stroke-linecap:round; stroke-linejoin:round; stroke-width:4; stroke-opacity:1; fill:none\" points=\"\n",
       "  2291.66,119.394 2291.53,119.439 2291.15,119.576 2290.52,119.805 2289.63,120.124 2288.49,120.535 2287.09,121.036 2285.45,121.627 2283.55,122.309 2281.4,123.08 \n",
       "  2278.99,123.94 2276.34,124.889 2273.44,125.927 2270.29,127.051 2266.89,128.263 2263.24,129.561 2259.34,130.944 2255.2,132.413 2250.82,133.965 2246.19,135.6 \n",
       "  2241.32,137.317 2236.21,139.115 2230.85,140.993 2225.26,142.951 2219.44,144.987 2213.37,147.1 2207.07,149.288 2200.54,151.552 2193.78,153.889 2186.79,156.299 \n",
       "  2179.57,158.78 2172.13,161.332 2164.46,163.952 2156.57,166.639 2148.45,169.393 2140.13,172.213 2131.58,175.096 2122.82,178.041 2113.85,181.048 2104.67,184.114 \n",
       "  2095.28,187.239 2085.69,190.421 2075.9,193.659 2065.9,196.952 2055.71,200.298 2045.32,203.696 2034.74,207.145 2023.97,210.642 2013.02,214.188 2001.88,217.78 \n",
       "  1990.55,221.418 1979.05,225.099 1967.38,228.823 1955.53,232.588 1943.51,236.393 1931.32,240.236 1918.97,244.117 1906.46,248.032 1893.79,251.982 1880.96,255.965 \n",
       "  1867.99,259.979 1854.86,264.022 1841.59,268.093 1828.18,272.191 1814.63,276.313 1800.95,280.458 1787.14,284.623 1773.19,288.808 1759.12,293.009 1744.94,297.225 \n",
       "  1730.63,301.453 1716.21,305.692 1701.68,309.937 1687.04,314.187 1672.3,318.438 1657.46,322.687 1642.52,326.931 1627.5,331.165 1612.38,335.387 1597.18,339.591 \n",
       "  1581.9,343.773 1566.54,347.928 1551.11,352.05 1535.61,356.134 1520.04,360.172 1504.42,364.159 1488.73,368.087 1472.99,371.949 1457.21,375.735 1441.37,379.436 \n",
       "  1425.5,383.044 1409.58,386.549 1393.63,389.939 1377.66,393.203 1361.65,396.33 1345.63,399.309 1329.58,402.126 1313.53,404.769 1297.46,407.227 1281.38,409.486 \n",
       "  1265.31,411.534 1249.23,413.361 1233.17,414.955 1217.11,416.306 1201.06,417.407 1185.04,418.249 1169.04,418.827 1153.06,419.136 1137.11,419.174 1121.2,418.939 \n",
       "  1105.32,418.434 1089.49,417.658 1073.7,416.617 1057.96,415.316 1042.27,413.759 1026.65,411.956 1011.08,409.913 995.582,407.639 980.15,405.143 964.792,402.436 \n",
       "  949.511,399.527 934.311,396.425 919.195,393.141 904.167,389.684 889.231,386.065 874.392,382.292 859.651,378.376 845.014,374.324 830.483,370.146 816.063,365.85 \n",
       "  801.756,361.443 787.568,356.934 773.5,352.33 759.557,347.637 745.742,342.863 732.058,338.013 718.509,333.094 705.099,328.112 691.83,323.072 678.706,317.979 \n",
       "  665.73,312.839 652.906,307.657 640.236,302.438 627.725,297.186 615.374,291.905 603.187,286.601 591.167,281.278 579.317,275.94 567.64,270.592 556.139,265.237 \n",
       "  544.816,259.88 533.675,254.525 522.719,249.177 511.95,243.839 501.37,238.516 490.983,233.212 480.79,227.932 470.796,222.68 461.001,217.461 451.409,212.278 \n",
       "  442.021,207.136 432.841,202.04 423.87,196.995 415.111,192.005 406.566,187.075 398.237,182.209 390.126,177.412 382.235,172.69 374.566,168.047 367.121,163.488 \n",
       "  359.902,159.018 352.911,154.641 346.149,150.363 339.618,146.188 333.32,142.122 327.256,138.168 321.428,134.333 315.837,130.62 310.485,127.034 305.372,123.581 \n",
       "  300.501,120.263 295.873,117.087 291.488,114.055 287.347,111.172 283.453,108.443 279.805,105.87 276.405,103.458 273.253,101.209 270.35,99.1284 267.698,97.2177 \n",
       "  265.296,95.4801 263.145,93.9182 261.246,92.5343 259.599,91.3307 258.205,90.309 257.064,89.471 256.177,88.8178 255.542,88.3505 255.162,88.0699 255.035,87.9763 \n",
       "  \n",
       "  \"/>\n",
       "<path clip-path=\"url(#clip390)\" d=\"\n",
       "M1719.29 302.578 L2280.8 302.578 L2280.8 95.2176 L1719.29 95.2176  Z\n",
       "  \" fill=\"#ffffff\" fill-rule=\"evenodd\" fill-opacity=\"1\"/>\n",
       "<polyline clip-path=\"url(#clip390)\" style=\"stroke:#000000; stroke-linecap:round; stroke-linejoin:round; stroke-width:4; stroke-opacity:1; fill:none\" points=\"\n",
       "  1719.29,302.578 2280.8,302.578 2280.8,95.2176 1719.29,95.2176 1719.29,302.578 \n",
       "  \"/>\n",
       "<polyline clip-path=\"url(#clip390)\" style=\"stroke:#009af9; stroke-linecap:round; stroke-linejoin:round; stroke-width:4; stroke-opacity:1; fill:none\" points=\"\n",
       "  1743.28,147.058 1887.2,147.058 \n",
       "  \"/>\n",
       "<path clip-path=\"url(#clip390)\" d=\"M1911.19 129.778 L1915.86 129.778 L1915.86 164.338 L1911.19 164.338 L1911.19 129.778 Z\" fill=\"#000000\" fill-rule=\"evenodd\" fill-opacity=\"1\" /><path clip-path=\"url(#clip390)\" d=\"M1945.17 143.389 Q1946.76 140.518 1948.99 139.153 Q1951.21 137.787 1954.22 137.787 Q1958.27 137.787 1960.47 140.634 Q1962.67 143.458 1962.67 148.689 L1962.67 164.338 L1958.38 164.338 L1958.38 148.828 Q1958.38 145.102 1957.06 143.296 Q1955.75 141.49 1953.04 141.49 Q1949.73 141.49 1947.81 143.69 Q1945.88 145.889 1945.88 149.685 L1945.88 164.338 L1941.6 164.338 L1941.6 148.828 Q1941.6 145.078 1940.28 143.296 Q1938.96 141.49 1936.21 141.49 Q1932.94 141.49 1931.02 143.713 Q1929.1 145.912 1929.1 149.685 L1929.1 164.338 L1924.82 164.338 L1924.82 138.412 L1929.1 138.412 L1929.1 142.44 Q1930.56 140.055 1932.6 138.921 Q1934.63 137.787 1937.44 137.787 Q1940.26 137.787 1942.23 139.222 Q1944.22 140.657 1945.17 143.389 Z\" fill=\"#000000\" fill-rule=\"evenodd\" fill-opacity=\"1\" /><path clip-path=\"url(#clip390)\" d=\"M1982.94 151.305 Q1977.78 151.305 1975.79 152.486 Q1973.8 153.666 1973.8 156.514 Q1973.8 158.782 1975.28 160.125 Q1976.79 161.444 1979.36 161.444 Q1982.9 161.444 1985.03 158.944 Q1987.18 156.421 1987.18 152.254 L1987.18 151.305 L1982.94 151.305 M1991.44 149.546 L1991.44 164.338 L1987.18 164.338 L1987.18 160.402 Q1985.72 162.763 1983.55 163.898 Q1981.37 165.009 1978.22 165.009 Q1974.24 165.009 1971.88 162.787 Q1969.54 160.541 1969.54 156.791 Q1969.54 152.416 1972.46 150.194 Q1975.4 147.972 1981.21 147.972 L1987.18 147.972 L1987.18 147.555 Q1987.18 144.615 1985.24 143.018 Q1983.31 141.398 1979.82 141.398 Q1977.6 141.398 1975.49 141.93 Q1973.38 142.463 1971.44 143.527 L1971.44 139.592 Q1973.78 138.69 1975.98 138.25 Q1978.18 137.787 1980.26 137.787 Q1985.88 137.787 1988.66 140.703 Q1991.44 143.62 1991.44 149.546 Z\" fill=\"#000000\" fill-rule=\"evenodd\" fill-opacity=\"1\" /><path clip-path=\"url(#clip390)\" d=\"M2017.27 151.074 Q2017.27 146.444 2015.35 143.898 Q2013.45 141.352 2010 141.352 Q2006.58 141.352 2004.66 143.898 Q2002.76 146.444 2002.76 151.074 Q2002.76 155.68 2004.66 158.226 Q2006.58 160.773 2010 160.773 Q2013.45 160.773 2015.35 158.226 Q2017.27 155.68 2017.27 151.074 M2021.53 161.12 Q2021.53 167.74 2018.59 170.958 Q2015.65 174.199 2009.59 174.199 Q2007.34 174.199 2005.35 173.851 Q2003.36 173.527 2001.49 172.833 L2001.49 168.689 Q2003.36 169.708 2005.19 170.194 Q2007.02 170.68 2008.92 170.68 Q2013.11 170.68 2015.19 168.481 Q2017.27 166.305 2017.27 161.884 L2017.27 159.777 Q2015.95 162.069 2013.89 163.203 Q2011.83 164.338 2008.96 164.338 Q2004.19 164.338 2001.28 160.703 Q1998.36 157.069 1998.36 151.074 Q1998.36 145.055 2001.28 141.421 Q2004.19 137.787 2008.96 137.787 Q2011.83 137.787 2013.89 138.921 Q2015.95 140.055 2017.27 142.347 L2017.27 138.412 L2021.53 138.412 L2021.53 161.12 Z\" fill=\"#000000\" fill-rule=\"evenodd\" fill-opacity=\"1\" /><path clip-path=\"url(#clip390)\" d=\"M2030.3 138.412 L2034.56 138.412 L2034.56 164.338 L2030.3 164.338 L2030.3 138.412 M2030.3 128.319 L2034.56 128.319 L2034.56 133.713 L2030.3 133.713 L2030.3 128.319 Z\" fill=\"#000000\" fill-rule=\"evenodd\" fill-opacity=\"1\" /><path clip-path=\"url(#clip390)\" d=\"M2065.03 148.689 L2065.03 164.338 L2060.77 164.338 L2060.77 148.828 Q2060.77 145.148 2059.33 143.319 Q2057.9 141.49 2055.03 141.49 Q2051.58 141.49 2049.59 143.69 Q2047.6 145.889 2047.6 149.685 L2047.6 164.338 L2043.31 164.338 L2043.31 138.412 L2047.6 138.412 L2047.6 142.44 Q2049.12 140.102 2051.18 138.944 Q2053.27 137.787 2055.98 137.787 Q2060.44 137.787 2062.74 140.565 Q2065.03 143.319 2065.03 148.689 Z\" fill=\"#000000\" fill-rule=\"evenodd\" fill-opacity=\"1\" /><path clip-path=\"url(#clip390)\" d=\"M2085.3 151.305 Q2080.14 151.305 2078.15 152.486 Q2076.16 153.666 2076.16 156.514 Q2076.16 158.782 2077.64 160.125 Q2079.15 161.444 2081.72 161.444 Q2085.26 161.444 2087.39 158.944 Q2089.54 156.421 2089.54 152.254 L2089.54 151.305 L2085.3 151.305 M2093.8 149.546 L2093.8 164.338 L2089.54 164.338 L2089.54 160.402 Q2088.08 162.763 2085.91 163.898 Q2083.73 165.009 2080.58 165.009 Q2076.6 165.009 2074.24 162.787 Q2071.9 160.541 2071.9 156.791 Q2071.9 152.416 2074.82 150.194 Q2077.76 147.972 2083.57 147.972 L2089.54 147.972 L2089.54 147.555 Q2089.54 144.615 2087.6 143.018 Q2085.68 141.398 2082.18 141.398 Q2079.96 141.398 2077.85 141.93 Q2075.74 142.463 2073.8 143.527 L2073.8 139.592 Q2076.14 138.69 2078.34 138.25 Q2080.54 137.787 2082.62 137.787 Q2088.24 137.787 2091.02 140.703 Q2093.8 143.62 2093.8 149.546 Z\" fill=\"#000000\" fill-rule=\"evenodd\" fill-opacity=\"1\" /><path clip-path=\"url(#clip390)\" d=\"M2117.6 142.393 Q2116.88 141.977 2116.02 141.791 Q2115.19 141.583 2114.17 141.583 Q2110.56 141.583 2108.61 143.944 Q2106.69 146.282 2106.69 150.68 L2106.69 164.338 L2102.41 164.338 L2102.41 138.412 L2106.69 138.412 L2106.69 142.44 Q2108.04 140.078 2110.19 138.944 Q2112.34 137.787 2115.42 137.787 Q2115.86 137.787 2116.39 137.856 Q2116.92 137.903 2117.57 138.018 L2117.6 142.393 Z\" fill=\"#000000\" fill-rule=\"evenodd\" fill-opacity=\"1\" /><path clip-path=\"url(#clip390)\" d=\"M2132.85 166.745 Q2131.05 171.375 2129.33 172.787 Q2127.62 174.199 2124.75 174.199 L2121.35 174.199 L2121.35 170.634 L2123.85 170.634 Q2125.61 170.634 2126.58 169.8 Q2127.55 168.967 2128.73 165.865 L2129.49 163.921 L2119.01 138.412 L2123.52 138.412 L2131.62 158.689 L2139.73 138.412 L2144.24 138.412 L2132.85 166.745 Z\" fill=\"#000000\" fill-rule=\"evenodd\" fill-opacity=\"1\" /><path clip-path=\"url(#clip390)\" d=\"M2169.31 160.449 L2169.31 174.199 L2165.03 174.199 L2165.03 138.412 L2169.31 138.412 L2169.31 142.347 Q2170.65 140.032 2172.69 138.921 Q2174.75 137.787 2177.6 137.787 Q2182.32 137.787 2185.26 141.537 Q2188.22 145.287 2188.22 151.398 Q2188.22 157.509 2185.26 161.259 Q2182.32 165.009 2177.6 165.009 Q2174.75 165.009 2172.69 163.898 Q2170.65 162.763 2169.31 160.449 M2183.8 151.398 Q2183.8 146.699 2181.86 144.037 Q2179.93 141.352 2176.55 141.352 Q2173.17 141.352 2171.23 144.037 Q2169.31 146.699 2169.31 151.398 Q2169.31 156.097 2171.23 158.782 Q2173.17 161.444 2176.55 161.444 Q2179.93 161.444 2181.86 158.782 Q2183.8 156.097 2183.8 151.398 Z\" fill=\"#000000\" fill-rule=\"evenodd\" fill-opacity=\"1\" /><path clip-path=\"url(#clip390)\" d=\"M2207.06 151.305 Q2201.9 151.305 2199.91 152.486 Q2197.92 153.666 2197.92 156.514 Q2197.92 158.782 2199.4 160.125 Q2200.91 161.444 2203.48 161.444 Q2207.02 161.444 2209.15 158.944 Q2211.3 156.421 2211.3 152.254 L2211.3 151.305 L2207.06 151.305 M2215.56 149.546 L2215.56 164.338 L2211.3 164.338 L2211.3 160.402 Q2209.84 162.763 2207.67 163.898 Q2205.49 165.009 2202.34 165.009 Q2198.36 165.009 2196 162.787 Q2193.66 160.541 2193.66 156.791 Q2193.66 152.416 2196.58 150.194 Q2199.52 147.972 2205.33 147.972 L2211.3 147.972 L2211.3 147.555 Q2211.3 144.615 2209.35 143.018 Q2207.43 141.398 2203.94 141.398 Q2201.72 141.398 2199.61 141.93 Q2197.5 142.463 2195.56 143.527 L2195.56 139.592 Q2197.9 138.69 2200.1 138.25 Q2202.29 137.787 2204.38 137.787 Q2210 137.787 2212.78 140.703 Q2215.56 143.62 2215.56 149.546 Z\" fill=\"#000000\" fill-rule=\"evenodd\" fill-opacity=\"1\" /><path clip-path=\"url(#clip390)\" d=\"M2239.35 142.393 Q2238.64 141.977 2237.78 141.791 Q2236.95 141.583 2235.93 141.583 Q2232.32 141.583 2230.37 143.944 Q2228.45 146.282 2228.45 150.68 L2228.45 164.338 L2224.17 164.338 L2224.17 138.412 L2228.45 138.412 L2228.45 142.44 Q2229.79 140.078 2231.95 138.944 Q2234.1 137.787 2237.18 137.787 Q2237.62 137.787 2238.15 137.856 Q2238.68 137.903 2239.33 138.018 L2239.35 142.393 Z\" fill=\"#000000\" fill-rule=\"evenodd\" fill-opacity=\"1\" /><path clip-path=\"url(#clip390)\" d=\"M2248.04 131.051 L2248.04 138.412 L2256.81 138.412 L2256.81 141.722 L2248.04 141.722 L2248.04 155.796 Q2248.04 158.967 2248.89 159.87 Q2249.77 160.773 2252.43 160.773 L2256.81 160.773 L2256.81 164.338 L2252.43 164.338 Q2247.5 164.338 2245.63 162.509 Q2243.75 160.657 2243.75 155.796 L2243.75 141.722 L2240.63 141.722 L2240.63 138.412 L2243.75 138.412 L2243.75 131.051 L2248.04 131.051 Z\" fill=\"#000000\" fill-rule=\"evenodd\" fill-opacity=\"1\" /><polyline clip-path=\"url(#clip390)\" style=\"stroke:#e26f46; stroke-linecap:round; stroke-linejoin:round; stroke-width:4; stroke-opacity:1; fill:none\" points=\"\n",
       "  1743.28,198.898 1887.2,198.898 \n",
       "  \"/>\n",
       "<path clip-path=\"url(#clip390)\" d=\"M1927.57 199.974 Q1929.08 200.483 1930.49 202.15 Q1931.93 203.817 1933.36 206.733 L1938.11 216.178 L1933.08 216.178 L1928.66 207.312 Q1926.95 203.84 1925.33 202.705 Q1923.73 201.571 1920.95 201.571 L1915.86 201.571 L1915.86 216.178 L1911.19 216.178 L1911.19 181.618 L1921.74 181.618 Q1927.67 181.618 1930.58 184.094 Q1933.5 186.571 1933.5 191.571 Q1933.5 194.835 1931.97 196.988 Q1930.47 199.141 1927.57 199.974 M1915.86 185.46 L1915.86 197.729 L1921.74 197.729 Q1925.12 197.729 1926.83 196.178 Q1928.57 194.604 1928.57 191.571 Q1928.57 188.539 1926.83 187.011 Q1925.12 185.46 1921.74 185.46 L1915.86 185.46 Z\" fill=\"#000000\" fill-rule=\"evenodd\" fill-opacity=\"1\" /><path clip-path=\"url(#clip390)\" d=\"M1963.99 202.15 L1963.99 204.233 L1944.4 204.233 Q1944.68 208.631 1947.04 210.946 Q1949.43 213.238 1953.66 213.238 Q1956.12 213.238 1958.41 212.636 Q1960.72 212.034 1962.99 210.83 L1962.99 214.858 Q1960.7 215.83 1958.29 216.34 Q1955.88 216.849 1953.41 216.849 Q1947.2 216.849 1943.57 213.238 Q1939.96 209.627 1939.96 203.469 Q1939.96 197.104 1943.38 193.377 Q1946.83 189.627 1952.67 189.627 Q1957.9 189.627 1960.93 193.006 Q1963.99 196.363 1963.99 202.15 M1959.73 200.9 Q1959.68 197.405 1957.76 195.321 Q1955.86 193.238 1952.71 193.238 Q1949.15 193.238 1947 195.252 Q1944.87 197.266 1944.54 200.923 L1959.73 200.9 Z\" fill=\"#000000\" fill-rule=\"evenodd\" fill-opacity=\"1\" /><path clip-path=\"url(#clip390)\" d=\"M1982.76 203.145 Q1977.6 203.145 1975.61 204.326 Q1973.62 205.506 1973.62 208.354 Q1973.62 210.622 1975.1 211.965 Q1976.6 213.284 1979.17 213.284 Q1982.71 213.284 1984.84 210.784 Q1986.99 208.261 1986.99 204.094 L1986.99 203.145 L1982.76 203.145 M1991.25 201.386 L1991.25 216.178 L1986.99 216.178 L1986.99 212.242 Q1985.54 214.603 1983.36 215.738 Q1981.18 216.849 1978.04 216.849 Q1974.06 216.849 1971.69 214.627 Q1969.36 212.381 1969.36 208.631 Q1969.36 204.256 1972.27 202.034 Q1975.21 199.812 1981.02 199.812 L1986.99 199.812 L1986.99 199.395 Q1986.99 196.455 1985.05 194.858 Q1983.13 193.238 1979.63 193.238 Q1977.41 193.238 1975.31 193.77 Q1973.2 194.303 1971.25 195.367 L1971.25 191.432 Q1973.59 190.53 1975.79 190.09 Q1977.99 189.627 1980.07 189.627 Q1985.7 189.627 1988.48 192.543 Q1991.25 195.46 1991.25 201.386 Z\" fill=\"#000000\" fill-rule=\"evenodd\" fill-opacity=\"1\" /><path clip-path=\"url(#clip390)\" d=\"M2000.03 180.159 L2004.29 180.159 L2004.29 216.178 L2000.03 216.178 L2000.03 180.159 Z\" fill=\"#000000\" fill-rule=\"evenodd\" fill-opacity=\"1\" /><path clip-path=\"url(#clip390)\" d=\"M2032.39 212.289 L2032.39 226.039 L2028.11 226.039 L2028.11 190.252 L2032.39 190.252 L2032.39 194.187 Q2033.73 191.872 2035.77 190.761 Q2037.83 189.627 2040.68 189.627 Q2045.4 189.627 2048.34 193.377 Q2051.3 197.127 2051.3 203.238 Q2051.3 209.349 2048.34 213.099 Q2045.4 216.849 2040.68 216.849 Q2037.83 216.849 2035.77 215.738 Q2033.73 214.603 2032.39 212.289 M2046.88 203.238 Q2046.88 198.539 2044.93 195.877 Q2043.01 193.192 2039.63 193.192 Q2036.25 193.192 2034.31 195.877 Q2032.39 198.539 2032.39 203.238 Q2032.39 207.937 2034.31 210.622 Q2036.25 213.284 2039.63 213.284 Q2043.01 213.284 2044.93 210.622 Q2046.88 207.937 2046.88 203.238 Z\" fill=\"#000000\" fill-rule=\"evenodd\" fill-opacity=\"1\" /><path clip-path=\"url(#clip390)\" d=\"M2070.14 203.145 Q2064.98 203.145 2062.99 204.326 Q2061 205.506 2061 208.354 Q2061 210.622 2062.48 211.965 Q2063.99 213.284 2066.55 213.284 Q2070.1 213.284 2072.23 210.784 Q2074.38 208.261 2074.38 204.094 L2074.38 203.145 L2070.14 203.145 M2078.64 201.386 L2078.64 216.178 L2074.38 216.178 L2074.38 212.242 Q2072.92 214.603 2070.74 215.738 Q2068.57 216.849 2065.42 216.849 Q2061.44 216.849 2059.08 214.627 Q2056.74 212.381 2056.74 208.631 Q2056.74 204.256 2059.66 202.034 Q2062.6 199.812 2068.41 199.812 L2074.38 199.812 L2074.38 199.395 Q2074.38 196.455 2072.43 194.858 Q2070.51 193.238 2067.02 193.238 Q2064.8 193.238 2062.69 193.77 Q2060.58 194.303 2058.64 195.367 L2058.64 191.432 Q2060.98 190.53 2063.18 190.09 Q2065.37 189.627 2067.46 189.627 Q2073.08 189.627 2075.86 192.543 Q2078.64 195.46 2078.64 201.386 Z\" fill=\"#000000\" fill-rule=\"evenodd\" fill-opacity=\"1\" /><path clip-path=\"url(#clip390)\" d=\"M2102.43 194.233 Q2101.72 193.817 2100.86 193.631 Q2100.03 193.423 2099.01 193.423 Q2095.4 193.423 2093.45 195.784 Q2091.53 198.122 2091.53 202.52 L2091.53 216.178 L2087.25 216.178 L2087.25 190.252 L2091.53 190.252 L2091.53 194.28 Q2092.87 191.918 2095.03 190.784 Q2097.18 189.627 2100.26 189.627 Q2100.7 189.627 2101.23 189.696 Q2101.76 189.743 2102.41 189.858 L2102.43 194.233 Z\" fill=\"#000000\" fill-rule=\"evenodd\" fill-opacity=\"1\" /><path clip-path=\"url(#clip390)\" d=\"M2111.11 182.891 L2111.11 190.252 L2119.89 190.252 L2119.89 193.562 L2111.11 193.562 L2111.11 207.636 Q2111.11 210.807 2111.97 211.71 Q2112.85 212.613 2115.51 212.613 L2119.89 212.613 L2119.89 216.178 L2115.51 216.178 Q2110.58 216.178 2108.71 214.349 Q2106.83 212.497 2106.83 207.636 L2106.83 193.562 L2103.71 193.562 L2103.71 190.252 L2106.83 190.252 L2106.83 182.891 L2111.11 182.891 Z\" fill=\"#000000\" fill-rule=\"evenodd\" fill-opacity=\"1\" /><polyline clip-path=\"url(#clip390)\" style=\"stroke:#3da44d; stroke-linecap:round; stroke-linejoin:round; stroke-width:4; stroke-opacity:1; fill:none\" points=\"\n",
       "  1743.28,250.738 1887.2,250.738 \n",
       "  \"/>\n",
       "<path clip-path=\"url(#clip390)\" d=\"M1924.59 254.985 Q1919.43 254.985 1917.44 256.166 Q1915.44 257.346 1915.44 260.194 Q1915.44 262.462 1916.93 263.805 Q1918.43 265.124 1921 265.124 Q1924.54 265.124 1926.67 262.624 Q1928.82 260.101 1928.82 255.934 L1928.82 254.985 L1924.59 254.985 M1933.08 253.226 L1933.08 268.018 L1928.82 268.018 L1928.82 264.082 Q1927.37 266.443 1925.19 267.578 Q1923.01 268.689 1919.87 268.689 Q1915.88 268.689 1913.52 266.467 Q1911.19 264.221 1911.19 260.471 Q1911.19 256.096 1914.1 253.874 Q1917.04 251.652 1922.85 251.652 L1928.82 251.652 L1928.82 251.235 Q1928.82 248.295 1926.88 246.698 Q1924.96 245.078 1921.46 245.078 Q1919.24 245.078 1917.13 245.61 Q1915.03 246.143 1913.08 247.207 L1913.08 243.272 Q1915.42 242.37 1917.62 241.93 Q1919.82 241.467 1921.9 241.467 Q1927.53 241.467 1930.31 244.383 Q1933.08 247.3 1933.08 253.226 Z\" fill=\"#000000\" fill-rule=\"evenodd\" fill-opacity=\"1\" /><path clip-path=\"url(#clip390)\" d=\"M1962.04 247.069 Q1963.64 244.198 1965.86 242.833 Q1968.08 241.467 1971.09 241.467 Q1975.14 241.467 1977.34 244.314 Q1979.54 247.138 1979.54 252.369 L1979.54 268.018 L1975.26 268.018 L1975.26 252.508 Q1975.26 248.782 1973.94 246.976 Q1972.62 245.17 1969.91 245.17 Q1966.6 245.17 1964.68 247.37 Q1962.76 249.569 1962.76 253.365 L1962.76 268.018 L1958.48 268.018 L1958.48 252.508 Q1958.48 248.758 1957.16 246.976 Q1955.84 245.17 1953.08 245.17 Q1949.82 245.17 1947.9 247.393 Q1945.98 249.592 1945.98 253.365 L1945.98 268.018 L1941.69 268.018 L1941.69 242.092 L1945.98 242.092 L1945.98 246.12 Q1947.44 243.735 1949.47 242.601 Q1951.51 241.467 1954.31 241.467 Q1957.13 241.467 1959.1 242.902 Q1961.09 244.337 1962.04 247.069 Z\" fill=\"#000000\" fill-rule=\"evenodd\" fill-opacity=\"1\" /><path clip-path=\"url(#clip390)\" d=\"M1992.16 264.129 L1992.16 277.879 L1987.87 277.879 L1987.87 242.092 L1992.16 242.092 L1992.16 246.027 Q1993.5 243.712 1995.54 242.601 Q1997.6 241.467 2000.44 241.467 Q2005.17 241.467 2008.11 245.217 Q2011.07 248.967 2011.07 255.078 Q2011.07 261.189 2008.11 264.939 Q2005.17 268.689 2000.44 268.689 Q1997.6 268.689 1995.54 267.578 Q1993.5 266.443 1992.16 264.129 M2006.65 255.078 Q2006.65 250.379 2004.7 247.717 Q2002.78 245.032 1999.4 245.032 Q1996.02 245.032 1994.08 247.717 Q1992.16 250.379 1992.16 255.078 Q1992.16 259.777 1994.08 262.462 Q1996.02 265.124 1999.4 265.124 Q2002.78 265.124 2004.7 262.462 Q2006.65 259.777 2006.65 255.078 Z\" fill=\"#000000\" fill-rule=\"evenodd\" fill-opacity=\"1\" /><path clip-path=\"url(#clip390)\" d=\"M2018.13 231.999 L2022.39 231.999 L2022.39 268.018 L2018.13 268.018 L2018.13 231.999 Z\" fill=\"#000000\" fill-rule=\"evenodd\" fill-opacity=\"1\" /><path clip-path=\"url(#clip390)\" d=\"M2031.3 242.092 L2035.56 242.092 L2035.56 268.018 L2031.3 268.018 L2031.3 242.092 M2031.3 231.999 L2035.56 231.999 L2035.56 237.393 L2031.3 237.393 L2031.3 231.999 Z\" fill=\"#000000\" fill-rule=\"evenodd\" fill-opacity=\"1\" /><path clip-path=\"url(#clip390)\" d=\"M2048.68 234.731 L2048.68 242.092 L2057.46 242.092 L2057.46 245.402 L2048.68 245.402 L2048.68 259.476 Q2048.68 262.647 2049.54 263.55 Q2050.42 264.453 2053.08 264.453 L2057.46 264.453 L2057.46 268.018 L2053.08 268.018 Q2048.15 268.018 2046.28 266.189 Q2044.4 264.337 2044.4 259.476 L2044.4 245.402 L2041.28 245.402 L2041.28 242.092 L2044.4 242.092 L2044.4 234.731 L2048.68 234.731 Z\" fill=\"#000000\" fill-rule=\"evenodd\" fill-opacity=\"1\" /><path clip-path=\"url(#clip390)\" d=\"M2062.62 257.786 L2062.62 242.092 L2066.88 242.092 L2066.88 257.624 Q2066.88 261.305 2068.31 263.156 Q2069.75 264.985 2072.62 264.985 Q2076.07 264.985 2078.06 262.786 Q2080.07 260.587 2080.07 256.791 L2080.07 242.092 L2084.33 242.092 L2084.33 268.018 L2080.07 268.018 L2080.07 264.036 Q2078.52 266.397 2076.46 267.555 Q2074.43 268.689 2071.72 268.689 Q2067.25 268.689 2064.93 265.911 Q2062.62 263.133 2062.62 257.786 M2073.34 241.467 L2073.34 241.467 Z\" fill=\"#000000\" fill-rule=\"evenodd\" fill-opacity=\"1\" /><path clip-path=\"url(#clip390)\" d=\"M2110.17 246.027 L2110.17 231.999 L2114.42 231.999 L2114.42 268.018 L2110.17 268.018 L2110.17 264.129 Q2108.82 266.443 2106.76 267.578 Q2104.73 268.689 2101.86 268.689 Q2097.16 268.689 2094.19 264.939 Q2091.25 261.189 2091.25 255.078 Q2091.25 248.967 2094.19 245.217 Q2097.16 241.467 2101.86 241.467 Q2104.73 241.467 2106.76 242.601 Q2108.82 243.712 2110.17 246.027 M2095.65 255.078 Q2095.65 259.777 2097.57 262.462 Q2099.52 265.124 2102.9 265.124 Q2106.28 265.124 2108.22 262.462 Q2110.17 259.777 2110.17 255.078 Q2110.17 250.379 2108.22 247.717 Q2106.28 245.032 2102.9 245.032 Q2099.52 245.032 2097.57 247.717 Q2095.65 250.379 2095.65 255.078 Z\" fill=\"#000000\" fill-rule=\"evenodd\" fill-opacity=\"1\" /><path clip-path=\"url(#clip390)\" d=\"M2145.37 253.99 L2145.37 256.073 L2125.79 256.073 Q2126.07 260.471 2128.43 262.786 Q2130.81 265.078 2135.05 265.078 Q2137.5 265.078 2139.8 264.476 Q2142.11 263.874 2144.38 262.67 L2144.38 266.698 Q2142.09 267.67 2139.68 268.18 Q2137.27 268.689 2134.8 268.689 Q2128.59 268.689 2124.96 265.078 Q2121.35 261.467 2121.35 255.309 Q2121.35 248.944 2124.77 245.217 Q2128.22 241.467 2134.05 241.467 Q2139.29 241.467 2142.32 244.846 Q2145.37 248.203 2145.37 253.99 M2141.11 252.74 Q2141.07 249.245 2139.15 247.161 Q2137.25 245.078 2134.1 245.078 Q2130.54 245.078 2128.38 247.092 Q2126.25 249.106 2125.93 252.763 L2141.11 252.74 Z\" fill=\"#000000\" fill-rule=\"evenodd\" fill-opacity=\"1\" /></svg>\n"
      ]
     },
     "execution_count": 147,
     "metadata": {},
     "output_type": "execute_result"
    }
   ],
   "source": [
    "Plots.plot(rs,[v.im for v in nulls_re],label=\"Imaginary part\")\n",
    "Plots.plot!(rs,[v.re for v in nulls_re],label=\"Real part\")\n",
    "Plots.plot!(rs,[abs(v) for v in nulls_re],label=\"amplitude\")\n"
   ]
  },
  {
   "cell_type": "markdown",
   "id": "becff8dd",
   "metadata": {},
   "source": [
    "# An easy application"
   ]
  },
  {
   "cell_type": "code",
   "execution_count": null,
   "id": "4965eca6",
   "metadata": {},
   "outputs": [],
   "source": [
    "heatmap(I, color=:grays, aspect_ratio=1)"
   ]
  },
  {
   "cell_type": "code",
   "execution_count": null,
   "id": "a88afef6",
   "metadata": {},
   "outputs": [],
   "source": []
  }
 ],
 "metadata": {
  "kernelspec": {
   "display_name": "Julia 1.6.3",
   "language": "julia",
   "name": "julia-1.6"
  },
  "language_info": {
   "file_extension": ".jl",
   "mimetype": "application/julia",
   "name": "julia",
   "version": "1.6.3"
  }
 },
 "nbformat": 4,
 "nbformat_minor": 5
}

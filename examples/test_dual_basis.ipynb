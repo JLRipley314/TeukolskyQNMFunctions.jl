{
 "cells": [
  {
   "cell_type": "code",
   "execution_count": 1,
   "id": "a3c04521",
   "metadata": {},
   "outputs": [],
   "source": [
    "## include the source file (if you have not downloaded as a package)\n",
    "\n",
    "include(\"../src/Chebyshev.jl\")\n",
    "import .Chebyshev as CH\n",
    "\n",
    "include(\"../src/Gegenbauer.jl\")\n",
    "import .Gegenbauer as GE\n",
    "\n",
    "include(\"../src/SpectralRadialODE.jl\")\n",
    "import .RadialODE as RODE"
   ]
  },
  {
   "cell_type": "code",
   "execution_count": 64,
   "id": "0ef87605",
   "metadata": {},
   "outputs": [],
   "source": [
    "import Plots\n",
    "using LaTeXStrings\n",
    "using Plots\n",
    "#using PyPlot\n",
    "using LinearAlgebra\n",
    "#using GenericSchur\n",
    "using SparseArrays"
   ]
  },
  {
   "cell_type": "code",
   "execution_count": null,
   "id": "07853661",
   "metadata": {},
   "outputs": [],
   "source": []
  },
  {
   "cell_type": "code",
   "execution_count": 3,
   "id": "eafc573f",
   "metadata": {},
   "outputs": [],
   "source": [
    "T=Float64\n",
    "\n",
    "rmin=T(-1.);\n",
    "rmax=T(1.);\n",
    "nr=20;\n"
   ]
  },
  {
   "cell_type": "code",
   "execution_count": 4,
   "id": "d8b85243",
   "metadata": {},
   "outputs": [],
   "source": [
    "pts = CH.cheb_pts(rmin, rmax, nr);"
   ]
  },
  {
   "cell_type": "code",
   "execution_count": 5,
   "id": "45a7218b",
   "metadata": {},
   "outputs": [],
   "source": [
    "sqr_func = pts.^2;"
   ]
  },
  {
   "cell_type": "code",
   "execution_count": 6,
   "id": "f2d51a39",
   "metadata": {},
   "outputs": [],
   "source": [
    "cube_func = pts.^3;"
   ]
  },
  {
   "cell_type": "code",
   "execution_count": 7,
   "id": "bcf47bd1",
   "metadata": {},
   "outputs": [],
   "source": [
    "sqr_spec = CH.to_cheb(sqr_func);"
   ]
  },
  {
   "cell_type": "code",
   "execution_count": 8,
   "id": "d29ac5bb",
   "metadata": {},
   "outputs": [],
   "source": [
    "pts_spec = CH.to_cheb(pts);"
   ]
  },
  {
   "cell_type": "code",
   "execution_count": 9,
   "id": "3fb6e99a",
   "metadata": {},
   "outputs": [],
   "source": [
    "cube_spec = CH.to_cheb(cube_func);"
   ]
  },
  {
   "cell_type": "code",
   "execution_count": 10,
   "id": "94e51ea8",
   "metadata": {},
   "outputs": [],
   "source": [
    "sin_func = [sin(p) for p in pts];\n",
    "cos_func = [cos(p) for p in pts];\n",
    "sin_sqr_func = [sin(p).^2 for p in pts];"
   ]
  },
  {
   "cell_type": "code",
   "execution_count": 11,
   "id": "acb29644",
   "metadata": {},
   "outputs": [],
   "source": [
    "sin_spec = CH.to_cheb(sin_func);\n",
    "cos_spec = CH.to_cheb(cos_func);\n",
    "sin_sqr_spec = CH.to_cheb(sin_sqr_func);"
   ]
  },
  {
   "cell_type": "code",
   "execution_count": 12,
   "id": "4dc075f1",
   "metadata": {},
   "outputs": [
    {
     "data": {
      "image/svg+xml": [
       "<?xml version=\"1.0\" encoding=\"utf-8\"?>\n",
       "<svg xmlns=\"http://www.w3.org/2000/svg\" xmlns:xlink=\"http://www.w3.org/1999/xlink\" width=\"600\" height=\"400\" viewBox=\"0 0 2400 1600\">\n",
       "<defs>\n",
       "  <clipPath id=\"clip430\">\n",
       "    <rect x=\"0\" y=\"0\" width=\"2400\" height=\"1600\"/>\n",
       "  </clipPath>\n",
       "</defs>\n",
       "<path clip-path=\"url(#clip430)\" d=\"\n",
       "M0 1600 L2400 1600 L2400 0 L0 0  Z\n",
       "  \" fill=\"#ffffff\" fill-rule=\"evenodd\" fill-opacity=\"1\"/>\n",
       "<defs>\n",
       "  <clipPath id=\"clip431\">\n",
       "    <rect x=\"480\" y=\"0\" width=\"1681\" height=\"1600\"/>\n",
       "  </clipPath>\n",
       "</defs>\n",
       "<path clip-path=\"url(#clip430)\" d=\"\n",
       "M192.941 1486.45 L2352.76 1486.45 L2352.76 47.2441 L192.941 47.2441  Z\n",
       "  \" fill=\"#ffffff\" fill-rule=\"evenodd\" fill-opacity=\"1\"/>\n",
       "<defs>\n",
       "  <clipPath id=\"clip432\">\n",
       "    <rect x=\"192\" y=\"47\" width=\"2161\" height=\"1440\"/>\n",
       "  </clipPath>\n",
       "</defs>\n",
       "<polyline clip-path=\"url(#clip432)\" style=\"stroke:#000000; stroke-linecap:round; stroke-linejoin:round; stroke-width:2; stroke-opacity:0.1; fill:none\" points=\"\n",
       "  254.067,1486.45 254.067,47.2441 \n",
       "  \"/>\n",
       "<polyline clip-path=\"url(#clip432)\" style=\"stroke:#000000; stroke-linecap:round; stroke-linejoin:round; stroke-width:2; stroke-opacity:0.1; fill:none\" points=\"\n",
       "  763.458,1486.45 763.458,47.2441 \n",
       "  \"/>\n",
       "<polyline clip-path=\"url(#clip432)\" style=\"stroke:#000000; stroke-linecap:round; stroke-linejoin:round; stroke-width:2; stroke-opacity:0.1; fill:none\" points=\"\n",
       "  1272.85,1486.45 1272.85,47.2441 \n",
       "  \"/>\n",
       "<polyline clip-path=\"url(#clip432)\" style=\"stroke:#000000; stroke-linecap:round; stroke-linejoin:round; stroke-width:2; stroke-opacity:0.1; fill:none\" points=\"\n",
       "  1782.24,1486.45 1782.24,47.2441 \n",
       "  \"/>\n",
       "<polyline clip-path=\"url(#clip432)\" style=\"stroke:#000000; stroke-linecap:round; stroke-linejoin:round; stroke-width:2; stroke-opacity:0.1; fill:none\" points=\"\n",
       "  2291.63,1486.45 2291.63,47.2441 \n",
       "  \"/>\n",
       "<polyline clip-path=\"url(#clip430)\" style=\"stroke:#000000; stroke-linecap:round; stroke-linejoin:round; stroke-width:4; stroke-opacity:1; fill:none\" points=\"\n",
       "  192.941,1486.45 2352.76,1486.45 \n",
       "  \"/>\n",
       "<polyline clip-path=\"url(#clip430)\" style=\"stroke:#000000; stroke-linecap:round; stroke-linejoin:round; stroke-width:4; stroke-opacity:1; fill:none\" points=\"\n",
       "  254.067,1486.45 254.067,1467.55 \n",
       "  \"/>\n",
       "<polyline clip-path=\"url(#clip430)\" style=\"stroke:#000000; stroke-linecap:round; stroke-linejoin:round; stroke-width:4; stroke-opacity:1; fill:none\" points=\"\n",
       "  763.458,1486.45 763.458,1467.55 \n",
       "  \"/>\n",
       "<polyline clip-path=\"url(#clip430)\" style=\"stroke:#000000; stroke-linecap:round; stroke-linejoin:round; stroke-width:4; stroke-opacity:1; fill:none\" points=\"\n",
       "  1272.85,1486.45 1272.85,1467.55 \n",
       "  \"/>\n",
       "<polyline clip-path=\"url(#clip430)\" style=\"stroke:#000000; stroke-linecap:round; stroke-linejoin:round; stroke-width:4; stroke-opacity:1; fill:none\" points=\"\n",
       "  1782.24,1486.45 1782.24,1467.55 \n",
       "  \"/>\n",
       "<polyline clip-path=\"url(#clip430)\" style=\"stroke:#000000; stroke-linecap:round; stroke-linejoin:round; stroke-width:4; stroke-opacity:1; fill:none\" points=\"\n",
       "  2291.63,1486.45 2291.63,1467.55 \n",
       "  \"/>\n",
       "<path clip-path=\"url(#clip430)\" d=\"M200.596 1532.02 L230.271 1532.02 L230.271 1535.95 L200.596 1535.95 L200.596 1532.02 Z\" fill=\"#000000\" fill-rule=\"evenodd\" fill-opacity=\"1\" /><path clip-path=\"url(#clip430)\" d=\"M241.174 1544.91 L248.813 1544.91 L248.813 1518.55 L240.503 1520.21 L240.503 1515.95 L248.767 1514.29 L253.442 1514.29 L253.442 1544.91 L261.081 1544.91 L261.081 1548.85 L241.174 1548.85 L241.174 1544.91 Z\" fill=\"#000000\" fill-rule=\"evenodd\" fill-opacity=\"1\" /><path clip-path=\"url(#clip430)\" d=\"M270.526 1542.97 L275.41 1542.97 L275.41 1548.85 L270.526 1548.85 L270.526 1542.97 Z\" fill=\"#000000\" fill-rule=\"evenodd\" fill-opacity=\"1\" /><path clip-path=\"url(#clip430)\" d=\"M295.595 1517.37 Q291.984 1517.37 290.155 1520.93 Q288.35 1524.47 288.35 1531.6 Q288.35 1538.71 290.155 1542.27 Q291.984 1545.82 295.595 1545.82 Q299.229 1545.82 301.035 1542.27 Q302.864 1538.71 302.864 1531.6 Q302.864 1524.47 301.035 1520.93 Q299.229 1517.37 295.595 1517.37 M295.595 1513.66 Q301.405 1513.66 304.461 1518.27 Q307.539 1522.85 307.539 1531.6 Q307.539 1540.33 304.461 1544.94 Q301.405 1549.52 295.595 1549.52 Q289.785 1549.52 286.706 1544.94 Q283.651 1540.33 283.651 1531.6 Q283.651 1522.85 286.706 1518.27 Q289.785 1513.66 295.595 1513.66 Z\" fill=\"#000000\" fill-rule=\"evenodd\" fill-opacity=\"1\" /><path clip-path=\"url(#clip430)\" d=\"M710.484 1532.02 L740.159 1532.02 L740.159 1535.95 L710.484 1535.95 L710.484 1532.02 Z\" fill=\"#000000\" fill-rule=\"evenodd\" fill-opacity=\"1\" /><path clip-path=\"url(#clip430)\" d=\"M760.252 1517.37 Q756.641 1517.37 754.812 1520.93 Q753.007 1524.47 753.007 1531.6 Q753.007 1538.71 754.812 1542.27 Q756.641 1545.82 760.252 1545.82 Q763.886 1545.82 765.692 1542.27 Q767.52 1538.71 767.52 1531.6 Q767.52 1524.47 765.692 1520.93 Q763.886 1517.37 760.252 1517.37 M760.252 1513.66 Q766.062 1513.66 769.118 1518.27 Q772.196 1522.85 772.196 1531.6 Q772.196 1540.33 769.118 1544.94 Q766.062 1549.52 760.252 1549.52 Q754.442 1549.52 751.363 1544.94 Q748.307 1540.33 748.307 1531.6 Q748.307 1522.85 751.363 1518.27 Q754.442 1513.66 760.252 1513.66 Z\" fill=\"#000000\" fill-rule=\"evenodd\" fill-opacity=\"1\" /><path clip-path=\"url(#clip430)\" d=\"M780.414 1542.97 L785.298 1542.97 L785.298 1548.85 L780.414 1548.85 L780.414 1542.97 Z\" fill=\"#000000\" fill-rule=\"evenodd\" fill-opacity=\"1\" /><path clip-path=\"url(#clip430)\" d=\"M795.529 1514.29 L813.886 1514.29 L813.886 1518.22 L799.812 1518.22 L799.812 1526.7 Q800.83 1526.35 801.849 1526.19 Q802.867 1526 803.886 1526 Q809.673 1526 813.053 1529.17 Q816.432 1532.34 816.432 1537.76 Q816.432 1543.34 812.96 1546.44 Q809.488 1549.52 803.168 1549.52 Q800.992 1549.52 798.724 1549.15 Q796.479 1548.78 794.071 1548.04 L794.071 1543.34 Q796.154 1544.47 798.377 1545.03 Q800.599 1545.58 803.076 1545.58 Q807.08 1545.58 809.418 1543.48 Q811.756 1541.37 811.756 1537.76 Q811.756 1534.15 809.418 1532.04 Q807.08 1529.94 803.076 1529.94 Q801.201 1529.94 799.326 1530.35 Q797.474 1530.77 795.529 1531.65 L795.529 1514.29 Z\" fill=\"#000000\" fill-rule=\"evenodd\" fill-opacity=\"1\" /><path clip-path=\"url(#clip430)\" d=\"M1250.23 1517.37 Q1246.62 1517.37 1244.79 1520.93 Q1242.99 1524.47 1242.99 1531.6 Q1242.99 1538.71 1244.79 1542.27 Q1246.62 1545.82 1250.23 1545.82 Q1253.87 1545.82 1255.67 1542.27 Q1257.5 1538.71 1257.5 1531.6 Q1257.5 1524.47 1255.67 1520.93 Q1253.87 1517.37 1250.23 1517.37 M1250.23 1513.66 Q1256.04 1513.66 1259.1 1518.27 Q1262.18 1522.85 1262.18 1531.6 Q1262.18 1540.33 1259.1 1544.94 Q1256.04 1549.52 1250.23 1549.52 Q1244.42 1549.52 1241.34 1544.94 Q1238.29 1540.33 1238.29 1531.6 Q1238.29 1522.85 1241.34 1518.27 Q1244.42 1513.66 1250.23 1513.66 Z\" fill=\"#000000\" fill-rule=\"evenodd\" fill-opacity=\"1\" /><path clip-path=\"url(#clip430)\" d=\"M1270.39 1542.97 L1275.28 1542.97 L1275.28 1548.85 L1270.39 1548.85 L1270.39 1542.97 Z\" fill=\"#000000\" fill-rule=\"evenodd\" fill-opacity=\"1\" /><path clip-path=\"url(#clip430)\" d=\"M1295.46 1517.37 Q1291.85 1517.37 1290.02 1520.93 Q1288.22 1524.47 1288.22 1531.6 Q1288.22 1538.71 1290.02 1542.27 Q1291.85 1545.82 1295.46 1545.82 Q1299.1 1545.82 1300.9 1542.27 Q1302.73 1538.71 1302.73 1531.6 Q1302.73 1524.47 1300.9 1520.93 Q1299.1 1517.37 1295.46 1517.37 M1295.46 1513.66 Q1301.27 1513.66 1304.33 1518.27 Q1307.41 1522.85 1307.41 1531.6 Q1307.41 1540.33 1304.33 1544.94 Q1301.27 1549.52 1295.46 1549.52 Q1289.65 1549.52 1286.58 1544.94 Q1283.52 1540.33 1283.52 1531.6 Q1283.52 1522.85 1286.58 1518.27 Q1289.65 1513.66 1295.46 1513.66 Z\" fill=\"#000000\" fill-rule=\"evenodd\" fill-opacity=\"1\" /><path clip-path=\"url(#clip430)\" d=\"M1760.12 1517.37 Q1756.51 1517.37 1754.68 1520.93 Q1752.88 1524.47 1752.88 1531.6 Q1752.88 1538.71 1754.68 1542.27 Q1756.51 1545.82 1760.12 1545.82 Q1763.75 1545.82 1765.56 1542.27 Q1767.39 1538.71 1767.39 1531.6 Q1767.39 1524.47 1765.56 1520.93 Q1763.75 1517.37 1760.12 1517.37 M1760.12 1513.66 Q1765.93 1513.66 1768.99 1518.27 Q1772.07 1522.85 1772.07 1531.6 Q1772.07 1540.33 1768.99 1544.94 Q1765.93 1549.52 1760.12 1549.52 Q1754.31 1549.52 1751.23 1544.94 Q1748.18 1540.33 1748.18 1531.6 Q1748.18 1522.85 1751.23 1518.27 Q1754.31 1513.66 1760.12 1513.66 Z\" fill=\"#000000\" fill-rule=\"evenodd\" fill-opacity=\"1\" /><path clip-path=\"url(#clip430)\" d=\"M1780.28 1542.97 L1785.17 1542.97 L1785.17 1548.85 L1780.28 1548.85 L1780.28 1542.97 Z\" fill=\"#000000\" fill-rule=\"evenodd\" fill-opacity=\"1\" /><path clip-path=\"url(#clip430)\" d=\"M1795.4 1514.29 L1813.75 1514.29 L1813.75 1518.22 L1799.68 1518.22 L1799.68 1526.7 Q1800.7 1526.35 1801.72 1526.19 Q1802.74 1526 1803.75 1526 Q1809.54 1526 1812.92 1529.17 Q1816.3 1532.34 1816.3 1537.76 Q1816.3 1543.34 1812.83 1546.44 Q1809.36 1549.52 1803.04 1549.52 Q1800.86 1549.52 1798.59 1549.15 Q1796.35 1548.78 1793.94 1548.04 L1793.94 1543.34 Q1796.02 1544.47 1798.25 1545.03 Q1800.47 1545.58 1802.94 1545.58 Q1806.95 1545.58 1809.29 1543.48 Q1811.63 1541.37 1811.63 1537.76 Q1811.63 1534.15 1809.29 1532.04 Q1806.95 1529.94 1802.94 1529.94 Q1801.07 1529.94 1799.19 1530.35 Q1797.34 1530.77 1795.4 1531.65 L1795.4 1514.29 Z\" fill=\"#000000\" fill-rule=\"evenodd\" fill-opacity=\"1\" /><path clip-path=\"url(#clip430)\" d=\"M2258.78 1544.91 L2266.42 1544.91 L2266.42 1518.55 L2258.11 1520.21 L2258.11 1515.95 L2266.37 1514.29 L2271.05 1514.29 L2271.05 1544.91 L2278.69 1544.91 L2278.69 1548.85 L2258.78 1548.85 L2258.78 1544.91 Z\" fill=\"#000000\" fill-rule=\"evenodd\" fill-opacity=\"1\" /><path clip-path=\"url(#clip430)\" d=\"M2288.13 1542.97 L2293.02 1542.97 L2293.02 1548.85 L2288.13 1548.85 L2288.13 1542.97 Z\" fill=\"#000000\" fill-rule=\"evenodd\" fill-opacity=\"1\" /><path clip-path=\"url(#clip430)\" d=\"M2313.2 1517.37 Q2309.59 1517.37 2307.76 1520.93 Q2305.96 1524.47 2305.96 1531.6 Q2305.96 1538.71 2307.76 1542.27 Q2309.59 1545.82 2313.2 1545.82 Q2316.84 1545.82 2318.64 1542.27 Q2320.47 1538.71 2320.47 1531.6 Q2320.47 1524.47 2318.64 1520.93 Q2316.84 1517.37 2313.2 1517.37 M2313.2 1513.66 Q2319.01 1513.66 2322.07 1518.27 Q2325.15 1522.85 2325.15 1531.6 Q2325.15 1540.33 2322.07 1544.94 Q2319.01 1549.52 2313.2 1549.52 Q2307.39 1549.52 2304.31 1544.94 Q2301.26 1540.33 2301.26 1531.6 Q2301.26 1522.85 2304.31 1518.27 Q2307.39 1513.66 2313.2 1513.66 Z\" fill=\"#000000\" fill-rule=\"evenodd\" fill-opacity=\"1\" /><polyline clip-path=\"url(#clip432)\" style=\"stroke:#000000; stroke-linecap:round; stroke-linejoin:round; stroke-width:2; stroke-opacity:0.1; fill:none\" points=\"\n",
       "  192.941,1193.48 2352.76,1193.48 \n",
       "  \"/>\n",
       "<polyline clip-path=\"url(#clip432)\" style=\"stroke:#000000; stroke-linecap:round; stroke-linejoin:round; stroke-width:2; stroke-opacity:0.1; fill:none\" points=\"\n",
       "  192.941,824.138 2352.76,824.138 \n",
       "  \"/>\n",
       "<polyline clip-path=\"url(#clip432)\" style=\"stroke:#000000; stroke-linecap:round; stroke-linejoin:round; stroke-width:2; stroke-opacity:0.1; fill:none\" points=\"\n",
       "  192.941,454.799 2352.76,454.799 \n",
       "  \"/>\n",
       "<polyline clip-path=\"url(#clip432)\" style=\"stroke:#000000; stroke-linecap:round; stroke-linejoin:round; stroke-width:2; stroke-opacity:0.1; fill:none\" points=\"\n",
       "  192.941,85.4591 2352.76,85.4591 \n",
       "  \"/>\n",
       "<polyline clip-path=\"url(#clip430)\" style=\"stroke:#000000; stroke-linecap:round; stroke-linejoin:round; stroke-width:4; stroke-opacity:1; fill:none\" points=\"\n",
       "  192.941,1486.45 192.941,47.2441 \n",
       "  \"/>\n",
       "<polyline clip-path=\"url(#clip430)\" style=\"stroke:#000000; stroke-linecap:round; stroke-linejoin:round; stroke-width:4; stroke-opacity:1; fill:none\" points=\"\n",
       "  192.941,1193.48 211.838,1193.48 \n",
       "  \"/>\n",
       "<polyline clip-path=\"url(#clip430)\" style=\"stroke:#000000; stroke-linecap:round; stroke-linejoin:round; stroke-width:4; stroke-opacity:1; fill:none\" points=\"\n",
       "  192.941,824.138 211.838,824.138 \n",
       "  \"/>\n",
       "<polyline clip-path=\"url(#clip430)\" style=\"stroke:#000000; stroke-linecap:round; stroke-linejoin:round; stroke-width:4; stroke-opacity:1; fill:none\" points=\"\n",
       "  192.941,454.799 211.838,454.799 \n",
       "  \"/>\n",
       "<polyline clip-path=\"url(#clip430)\" style=\"stroke:#000000; stroke-linecap:round; stroke-linejoin:round; stroke-width:4; stroke-opacity:1; fill:none\" points=\"\n",
       "  192.941,85.4591 211.838,85.4591 \n",
       "  \"/>\n",
       "<path clip-path=\"url(#clip430)\" d=\"M50.9921 1193.93 L80.6679 1193.93 L80.6679 1197.86 L50.9921 1197.86 L50.9921 1193.93 Z\" fill=\"#000000\" fill-rule=\"evenodd\" fill-opacity=\"1\" /><path clip-path=\"url(#clip430)\" d=\"M100.76 1179.28 Q97.1493 1179.28 95.3206 1182.84 Q93.515 1186.38 93.515 1193.51 Q93.515 1200.62 95.3206 1204.18 Q97.1493 1207.73 100.76 1207.73 Q104.395 1207.73 106.2 1204.18 Q108.029 1200.62 108.029 1193.51 Q108.029 1186.38 106.2 1182.84 Q104.395 1179.28 100.76 1179.28 M100.76 1175.57 Q106.571 1175.57 109.626 1180.18 Q112.705 1184.76 112.705 1193.51 Q112.705 1202.24 109.626 1206.85 Q106.571 1211.43 100.76 1211.43 Q94.9502 1211.43 91.8715 1206.85 Q88.816 1202.24 88.816 1193.51 Q88.816 1184.76 91.8715 1180.18 Q94.9502 1175.57 100.76 1175.57 Z\" fill=\"#000000\" fill-rule=\"evenodd\" fill-opacity=\"1\" /><path clip-path=\"url(#clip430)\" d=\"M120.922 1204.88 L125.807 1204.88 L125.807 1210.76 L120.922 1210.76 L120.922 1204.88 Z\" fill=\"#000000\" fill-rule=\"evenodd\" fill-opacity=\"1\" /><path clip-path=\"url(#clip430)\" d=\"M136.038 1176.2 L154.394 1176.2 L154.394 1180.13 L140.32 1180.13 L140.32 1188.61 Q141.339 1188.26 142.357 1188.1 Q143.376 1187.91 144.394 1187.91 Q150.181 1187.91 153.561 1191.08 Q156.941 1194.25 156.941 1199.67 Q156.941 1205.25 153.468 1208.35 Q149.996 1211.43 143.677 1211.43 Q141.501 1211.43 139.232 1211.06 Q136.987 1210.69 134.58 1209.95 L134.58 1205.25 Q136.663 1206.38 138.885 1206.94 Q141.107 1207.49 143.584 1207.49 Q147.589 1207.49 149.927 1205.39 Q152.265 1203.28 152.265 1199.67 Q152.265 1196.06 149.927 1193.95 Q147.589 1191.85 143.584 1191.85 Q141.709 1191.85 139.834 1192.26 Q137.982 1192.68 136.038 1193.56 L136.038 1176.2 Z\" fill=\"#000000\" fill-rule=\"evenodd\" fill-opacity=\"1\" /><path clip-path=\"url(#clip430)\" d=\"M99.765 809.937 Q96.1539 809.937 94.3252 813.502 Q92.5197 817.044 92.5197 824.173 Q92.5197 831.28 94.3252 834.844 Q96.1539 838.386 99.765 838.386 Q103.399 838.386 105.205 834.844 Q107.033 831.28 107.033 824.173 Q107.033 817.044 105.205 813.502 Q103.399 809.937 99.765 809.937 M99.765 806.233 Q105.575 806.233 108.631 810.84 Q111.709 815.423 111.709 824.173 Q111.709 832.9 108.631 837.506 Q105.575 842.09 99.765 842.09 Q93.9549 842.09 90.8762 837.506 Q87.8206 832.9 87.8206 824.173 Q87.8206 815.423 90.8762 810.84 Q93.9549 806.233 99.765 806.233 Z\" fill=\"#000000\" fill-rule=\"evenodd\" fill-opacity=\"1\" /><path clip-path=\"url(#clip430)\" d=\"M119.927 835.539 L124.811 835.539 L124.811 841.418 L119.927 841.418 L119.927 835.539 Z\" fill=\"#000000\" fill-rule=\"evenodd\" fill-opacity=\"1\" /><path clip-path=\"url(#clip430)\" d=\"M144.996 809.937 Q141.385 809.937 139.556 813.502 Q137.751 817.044 137.751 824.173 Q137.751 831.28 139.556 834.844 Q141.385 838.386 144.996 838.386 Q148.63 838.386 150.436 834.844 Q152.265 831.28 152.265 824.173 Q152.265 817.044 150.436 813.502 Q148.63 809.937 144.996 809.937 M144.996 806.233 Q150.806 806.233 153.862 810.84 Q156.941 815.423 156.941 824.173 Q156.941 832.9 153.862 837.506 Q150.806 842.09 144.996 842.09 Q139.186 842.09 136.107 837.506 Q133.052 832.9 133.052 824.173 Q133.052 815.423 136.107 810.84 Q139.186 806.233 144.996 806.233 Z\" fill=\"#000000\" fill-rule=\"evenodd\" fill-opacity=\"1\" /><path clip-path=\"url(#clip430)\" d=\"M100.76 440.597 Q97.1493 440.597 95.3206 444.162 Q93.515 447.704 93.515 454.833 Q93.515 461.94 95.3206 465.505 Q97.1493 469.046 100.76 469.046 Q104.395 469.046 106.2 465.505 Q108.029 461.94 108.029 454.833 Q108.029 447.704 106.2 444.162 Q104.395 440.597 100.76 440.597 M100.76 436.894 Q106.571 436.894 109.626 441.5 Q112.705 446.084 112.705 454.833 Q112.705 463.56 109.626 468.167 Q106.571 472.75 100.76 472.75 Q94.9502 472.75 91.8715 468.167 Q88.816 463.56 88.816 454.833 Q88.816 446.084 91.8715 441.5 Q94.9502 436.894 100.76 436.894 Z\" fill=\"#000000\" fill-rule=\"evenodd\" fill-opacity=\"1\" /><path clip-path=\"url(#clip430)\" d=\"M120.922 466.199 L125.807 466.199 L125.807 472.079 L120.922 472.079 L120.922 466.199 Z\" fill=\"#000000\" fill-rule=\"evenodd\" fill-opacity=\"1\" /><path clip-path=\"url(#clip430)\" d=\"M136.038 437.519 L154.394 437.519 L154.394 441.454 L140.32 441.454 L140.32 449.926 Q141.339 449.579 142.357 449.417 Q143.376 449.232 144.394 449.232 Q150.181 449.232 153.561 452.403 Q156.941 455.574 156.941 460.991 Q156.941 466.57 153.468 469.671 Q149.996 472.75 143.677 472.75 Q141.501 472.75 139.232 472.38 Q136.987 472.009 134.58 471.269 L134.58 466.57 Q136.663 467.704 138.885 468.259 Q141.107 468.815 143.584 468.815 Q147.589 468.815 149.927 466.708 Q152.265 464.602 152.265 460.991 Q152.265 457.38 149.927 455.273 Q147.589 453.167 143.584 453.167 Q141.709 453.167 139.834 453.583 Q137.982 454 136.038 454.88 L136.038 437.519 Z\" fill=\"#000000\" fill-rule=\"evenodd\" fill-opacity=\"1\" /><path clip-path=\"url(#clip430)\" d=\"M90.5752 98.8039 L98.2141 98.8039 L98.2141 72.4383 L89.904 74.1049 L89.904 69.8457 L98.1678 68.1791 L102.844 68.1791 L102.844 98.8039 L110.483 98.8039 L110.483 102.739 L90.5752 102.739 L90.5752 98.8039 Z\" fill=\"#000000\" fill-rule=\"evenodd\" fill-opacity=\"1\" /><path clip-path=\"url(#clip430)\" d=\"M119.927 96.8595 L124.811 96.8595 L124.811 102.739 L119.927 102.739 L119.927 96.8595 Z\" fill=\"#000000\" fill-rule=\"evenodd\" fill-opacity=\"1\" /><path clip-path=\"url(#clip430)\" d=\"M144.996 71.2577 Q141.385 71.2577 139.556 74.8225 Q137.751 78.3642 137.751 85.4938 Q137.751 92.6002 139.556 96.165 Q141.385 99.7067 144.996 99.7067 Q148.63 99.7067 150.436 96.165 Q152.265 92.6002 152.265 85.4938 Q152.265 78.3642 150.436 74.8225 Q148.63 71.2577 144.996 71.2577 M144.996 67.5541 Q150.806 67.5541 153.862 72.1605 Q156.941 76.7438 156.941 85.4938 Q156.941 94.2206 153.862 98.827 Q150.806 103.41 144.996 103.41 Q139.186 103.41 136.107 98.827 Q133.052 94.2206 133.052 85.4938 Q133.052 76.7438 136.107 72.1605 Q139.186 67.5541 144.996 67.5541 Z\" fill=\"#000000\" fill-rule=\"evenodd\" fill-opacity=\"1\" /><polyline clip-path=\"url(#clip432)\" style=\"stroke:#009af9; stroke-linecap:round; stroke-linejoin:round; stroke-width:4; stroke-opacity:1; fill:none\" points=\"\n",
       "  2291.63,202.561 2277.73,208.062 2236.43,225.088 2168.84,255.057 2076.81,299.862 1962.85,361.225 1830.07,439.964 1682.09,535.33 1522.94,644.619 1356.98,763.208 \n",
       "  1188.72,885.069 1022.75,1003.66 863.609,1112.95 715.628,1208.31 582.847,1287.05 468.887,1348.41 376.857,1393.22 309.268,1423.19 267.962,1440.21 254.067,1445.72 \n",
       "  \n",
       "  \"/>\n",
       "<polyline clip-path=\"url(#clip432)\" style=\"stroke:#e26f46; stroke-linecap:round; stroke-linejoin:round; stroke-width:4; stroke-opacity:1; fill:none\" points=\"\n",
       "  2291.63,425.028 2277.73,416.588 2236.43,391.952 2168.84,353.188 2076.81,303.772 1962.85,248.501 1830.07,193.221 1682.09,144.258 1522.94,107.605 1356.98,87.9763 \n",
       "  1188.72,87.9763 1022.75,107.605 863.609,144.258 715.628,193.221 582.847,248.501 468.887,303.772 376.857,353.188 309.268,391.952 267.962,416.588 254.067,425.028 \n",
       "  \n",
       "  \"/>\n",
       "<polyline clip-path=\"url(#clip432)\" style=\"stroke:#3da44d; stroke-linecap:round; stroke-linejoin:round; stroke-width:4; stroke-opacity:1; fill:none\" points=\"\n",
       "  2291.63,301.099 2277.73,310.316 2236.43,338.323 2168.84,385.716 2076.81,452.034 1962.85,534.041 1830.07,624.336 1682.09,711.22 1522.94,780.51 1356.98,819.113 \n",
       "  1188.72,819.113 1022.75,780.51 863.609,711.22 715.628,624.336 582.847,534.041 468.887,452.034 376.857,385.716 309.268,338.323 267.962,310.316 254.067,301.099 \n",
       "  \n",
       "  \"/>\n",
       "<path clip-path=\"url(#clip430)\" d=\"\n",
       "M2011.77 302.578 L2280.76 302.578 L2280.76 95.2176 L2011.77 95.2176  Z\n",
       "  \" fill=\"#ffffff\" fill-rule=\"evenodd\" fill-opacity=\"1\"/>\n",
       "<polyline clip-path=\"url(#clip430)\" style=\"stroke:#000000; stroke-linecap:round; stroke-linejoin:round; stroke-width:4; stroke-opacity:1; fill:none\" points=\"\n",
       "  2011.77,302.578 2280.76,302.578 2280.76,95.2176 2011.77,95.2176 2011.77,302.578 \n",
       "  \"/>\n",
       "<polyline clip-path=\"url(#clip430)\" style=\"stroke:#009af9; stroke-linecap:round; stroke-linejoin:round; stroke-width:4; stroke-opacity:1; fill:none\" points=\"\n",
       "  2035.77,147.058 2179.76,147.058 \n",
       "  \"/>\n",
       "<path clip-path=\"url(#clip430)\" d=\"M2217.6 166.745 Q2215.79 171.375 2214.08 172.787 Q2212.37 174.199 2209.5 174.199 L2206.09 174.199 L2206.09 170.634 L2208.59 170.634 Q2210.35 170.634 2211.32 169.8 Q2212.3 168.967 2213.48 165.865 L2214.24 163.921 L2203.76 138.412 L2208.27 138.412 L2216.37 158.689 L2224.47 138.412 L2228.99 138.412 L2217.6 166.745 Z\" fill=\"#000000\" fill-rule=\"evenodd\" fill-opacity=\"1\" /><path clip-path=\"url(#clip430)\" d=\"M2236.28 160.402 L2243.92 160.402 L2243.92 134.037 L2235.61 135.703 L2235.61 131.444 L2243.87 129.778 L2248.55 129.778 L2248.55 160.402 L2256.19 160.402 L2256.19 164.338 L2236.28 164.338 L2236.28 160.402 Z\" fill=\"#000000\" fill-rule=\"evenodd\" fill-opacity=\"1\" /><polyline clip-path=\"url(#clip430)\" style=\"stroke:#e26f46; stroke-linecap:round; stroke-linejoin:round; stroke-width:4; stroke-opacity:1; fill:none\" points=\"\n",
       "  2035.77,198.898 2179.76,198.898 \n",
       "  \"/>\n",
       "<path clip-path=\"url(#clip430)\" d=\"M2217.6 218.585 Q2215.79 223.215 2214.08 224.627 Q2212.37 226.039 2209.5 226.039 L2206.09 226.039 L2206.09 222.474 L2208.59 222.474 Q2210.35 222.474 2211.32 221.64 Q2212.3 220.807 2213.48 217.705 L2214.24 215.761 L2203.76 190.252 L2208.27 190.252 L2216.37 210.529 L2224.47 190.252 L2228.99 190.252 L2217.6 218.585 Z\" fill=\"#000000\" fill-rule=\"evenodd\" fill-opacity=\"1\" /><path clip-path=\"url(#clip430)\" d=\"M2239.5 212.242 L2255.82 212.242 L2255.82 216.178 L2233.87 216.178 L2233.87 212.242 Q2236.53 209.488 2241.12 204.858 Q2245.72 200.205 2246.9 198.863 Q2249.15 196.34 2250.03 194.604 Q2250.93 192.844 2250.93 191.155 Q2250.93 188.4 2248.99 186.664 Q2247.07 184.928 2243.96 184.928 Q2241.76 184.928 2239.31 185.692 Q2236.88 186.455 2234.1 188.006 L2234.1 183.284 Q2236.93 182.15 2239.38 181.571 Q2241.83 180.993 2243.87 180.993 Q2249.24 180.993 2252.44 183.678 Q2255.63 186.363 2255.63 190.854 Q2255.63 192.983 2254.82 194.905 Q2254.03 196.803 2251.93 199.395 Q2251.35 200.067 2248.25 203.284 Q2245.14 206.479 2239.5 212.242 Z\" fill=\"#000000\" fill-rule=\"evenodd\" fill-opacity=\"1\" /><polyline clip-path=\"url(#clip430)\" style=\"stroke:#3da44d; stroke-linecap:round; stroke-linejoin:round; stroke-width:4; stroke-opacity:1; fill:none\" points=\"\n",
       "  2035.77,250.738 2179.76,250.738 \n",
       "  \"/>\n",
       "<path clip-path=\"url(#clip430)\" d=\"M2217.6 270.425 Q2215.79 275.055 2214.08 276.467 Q2212.37 277.879 2209.5 277.879 L2206.09 277.879 L2206.09 274.314 L2208.59 274.314 Q2210.35 274.314 2211.32 273.48 Q2212.3 272.647 2213.48 269.545 L2214.24 267.601 L2203.76 242.092 L2208.27 242.092 L2216.37 262.369 L2224.47 242.092 L2228.99 242.092 L2217.6 270.425 Z\" fill=\"#000000\" fill-rule=\"evenodd\" fill-opacity=\"1\" /><path clip-path=\"url(#clip430)\" d=\"M2249.63 249.383 Q2252.99 250.101 2254.87 252.369 Q2256.76 254.638 2256.76 257.971 Q2256.76 263.087 2253.25 265.888 Q2249.73 268.689 2243.25 268.689 Q2241.07 268.689 2238.75 268.249 Q2236.46 267.832 2234.01 266.976 L2234.01 262.462 Q2235.95 263.596 2238.27 264.175 Q2240.58 264.754 2243.11 264.754 Q2247.5 264.754 2249.8 263.018 Q2252.11 261.281 2252.11 257.971 Q2252.11 254.916 2249.96 253.203 Q2247.83 251.467 2244.01 251.467 L2239.98 251.467 L2239.98 247.624 L2244.19 247.624 Q2247.64 247.624 2249.47 246.258 Q2251.3 244.87 2251.3 242.277 Q2251.3 239.615 2249.4 238.203 Q2247.53 236.768 2244.01 236.768 Q2242.09 236.768 2239.89 237.184 Q2237.69 237.601 2235.05 238.481 L2235.05 234.314 Q2237.71 233.573 2240.03 233.203 Q2242.37 232.833 2244.43 232.833 Q2249.75 232.833 2252.85 235.263 Q2255.95 237.67 2255.95 241.791 Q2255.95 244.661 2254.31 246.652 Q2252.67 248.62 2249.63 249.383 Z\" fill=\"#000000\" fill-rule=\"evenodd\" fill-opacity=\"1\" /></svg>\n"
      ]
     },
     "execution_count": 12,
     "metadata": {},
     "output_type": "execute_result"
    }
   ],
   "source": [
    "plot(pts,sin_func)\n",
    "plot!(pts,cos_func)\n",
    "plot!(pts,sin_sqr_func)"
   ]
  },
  {
   "cell_type": "markdown",
   "id": "828674bb",
   "metadata": {},
   "source": [
    "# First test multiplication matrix"
   ]
  },
  {
   "cell_type": "code",
   "execution_count": 13,
   "id": "6373014e",
   "metadata": {},
   "outputs": [
    {
     "ename": "LoadError",
     "evalue": "syntax: incomplete: premature end of input",
     "output_type": "error",
     "traceback": [
      "syntax: incomplete: premature end of input",
      "",
      "Stacktrace:",
      " [1] top-level scope",
      "   @ In[13]:1",
      " [2] eval",
      "   @ ./boot.jl:360 [inlined]",
      " [3] include_string(mapexpr::typeof(REPL.softscope), mod::Module, code::String, filename::String)",
      "   @ Base ./loading.jl:1116"
     ]
    }
   ],
   "source": [
    "CH."
   ]
  },
  {
   "cell_type": "code",
   "execution_count": 14,
   "id": "1a349034",
   "metadata": {},
   "outputs": [],
   "source": [
    "M_multiply = CH.mat_C1_X(sin_spec);"
   ]
  },
  {
   "cell_type": "code",
   "execution_count": null,
   "id": "e93f9a41",
   "metadata": {},
   "outputs": [],
   "source": []
  },
  {
   "cell_type": "code",
   "execution_count": 15,
   "id": "4196a317",
   "metadata": {},
   "outputs": [
    {
     "data": {
      "text/plain": [
       "20-element Vector{Float64}:\n",
       " -5.551115123125783e-16\n",
       "  1.1102230246251565e-16\n",
       "  1.4432899320127035e-15\n",
       " -1.6653345369377348e-15\n",
       "  1.1102230246251565e-16\n",
       "  2.220446049250313e-16\n",
       " -7.216449660063518e-16\n",
       "  1.5265566588595902e-15\n",
       " -3.885780586188048e-16\n",
       "  3.2959746043559335e-17\n",
       "  2.194425197110661e-16\n",
       " -4.787836793695988e-16\n",
       " -2.220446049250313e-16\n",
       "  1.3877787807814457e-15\n",
       " -2.3314683517128287e-15\n",
       "  1.5543122344752192e-15\n",
       " -7.771561172376096e-16\n",
       " -1.3322676295501878e-15\n",
       " -8.881784197001252e-16\n",
       "  1.4432899320127035e-15"
      ]
     },
     "execution_count": 15,
     "metadata": {},
     "output_type": "execute_result"
    }
   ],
   "source": [
    "CH.to_real(M_multiply*sin_spec)-sin_sqr_func"
   ]
  },
  {
   "cell_type": "markdown",
   "id": "168f44b2",
   "metadata": {},
   "source": [
    "# Test derivative"
   ]
  },
  {
   "cell_type": "code",
   "execution_count": 16,
   "id": "f525c8c2",
   "metadata": {},
   "outputs": [],
   "source": [
    "D1 = CH.mat_C1_D1(T,nr);"
   ]
  },
  {
   "cell_type": "code",
   "execution_count": 17,
   "id": "fff404a7",
   "metadata": {},
   "outputs": [],
   "source": [
    "D2 = GE.compute_D(T,nr,2);"
   ]
  },
  {
   "cell_type": "code",
   "execution_count": 18,
   "id": "a71efe39",
   "metadata": {},
   "outputs": [],
   "source": [
    "S1 = GE.compute_S(T,nr,1);\n",
    "S0 = GE.compute_S(T,nr,0);"
   ]
  },
  {
   "cell_type": "code",
   "execution_count": 19,
   "id": "60e1543f",
   "metadata": {},
   "outputs": [
    {
     "data": {
      "text/plain": [
       "1.6844226906144652e-14"
      ]
     },
     "execution_count": 19,
     "metadata": {},
     "output_type": "execute_result"
    }
   ],
   "source": [
    "maximum(D2*cos_spec+S1*S0*cos_spec)"
   ]
  },
  {
   "cell_type": "code",
   "execution_count": null,
   "id": "47af878b",
   "metadata": {},
   "outputs": [],
   "source": []
  },
  {
   "cell_type": "code",
   "execution_count": null,
   "id": "656dd722",
   "metadata": {},
   "outputs": [],
   "source": []
  },
  {
   "cell_type": "code",
   "execution_count": 20,
   "id": "8800bf52",
   "metadata": {},
   "outputs": [
    {
     "data": {
      "text/plain": [
       "20-element Vector{Float64}:\n",
       " -1.099120794378905e-14\n",
       " -3.9745984281580604e-14\n",
       "  1.176836406102666e-14\n",
       "  1.9206858326015208e-14\n",
       " -2.6867397195928788e-14\n",
       "  2.1538326677728037e-14\n",
       " -1.84297022087776e-14\n",
       "  3.219646771412954e-15\n",
       "  1.1324274851176597e-14\n",
       " -9.880984919163893e-15\n",
       "  1.2989609388114332e-14\n",
       " -2.6756374893466273e-14\n",
       "  3.4083846855992306e-14\n",
       " -2.7755575615628914e-14\n",
       "  8.770761894538737e-15\n",
       "  1.3100631690576847e-14\n",
       " -2.6756374893466273e-14\n",
       "  4.773959005888173e-15\n",
       "  3.7969627442180354e-14\n",
       "  7.661116740997898e-9"
      ]
     },
     "execution_count": 20,
     "metadata": {},
     "output_type": "execute_result"
    }
   ],
   "source": [
    "CH.C1_to_real(D1*sin_spec)-cos_func"
   ]
  },
  {
   "cell_type": "code",
   "execution_count": 21,
   "id": "15ad6bd6",
   "metadata": {},
   "outputs": [
    {
     "data": {
      "text/plain": [
       "20-element Vector{Float64}:\n",
       " -8.859579736508749e-14\n",
       "  2.7977620220553945e-14\n",
       " -4.6629367034256575e-15\n",
       " -2.9753977059954195e-14\n",
       "  3.397282455352979e-14\n",
       " -2.19824158875781e-14\n",
       "  1.532107773982716e-14\n",
       " -2.6645352591003757e-15\n",
       " -8.992806499463768e-15\n",
       "  4.912736883966318e-15\n",
       " -6.161737786669619e-15\n",
       "  1.8762769116165146e-14\n",
       " -2.55351295663786e-14\n",
       "  1.9095836023552692e-14\n",
       " -8.881784197001252e-16\n",
       " -1.3322676295501878e-14\n",
       "  1.9539925233402755e-14\n",
       " -1.7541523789077473e-14\n",
       "  1.3766765505351941e-14\n",
       " -3.5704772471945034e-13"
      ]
     },
     "execution_count": 21,
     "metadata": {},
     "output_type": "execute_result"
    }
   ],
   "source": [
    "CH.C1_to_real(D1*sqr_spec)-2*pts"
   ]
  },
  {
   "cell_type": "code",
   "execution_count": 22,
   "id": "d30ae01c",
   "metadata": {},
   "outputs": [
    {
     "data": {
      "text/plain": [
       "20-element Vector{Float64}:\n",
       "  9.636735853746359e-14\n",
       " -3.197442310920451e-14\n",
       "  5.773159728050814e-15\n",
       "  2.7977620220553945e-14\n",
       " -3.6415315207705135e-14\n",
       "  2.55351295663786e-14\n",
       " -2.2537527399890678e-14\n",
       "  9.270362255620057e-15\n",
       "  7.105427357601002e-15\n",
       " -6.7931771319251766e-15\n",
       "  8.93729534823251e-15\n",
       " -1.9068080447937064e-14\n",
       "  2.892130979148533e-14\n",
       " -2.8199664825478976e-14\n",
       "  9.547918011776346e-15\n",
       "  9.103828801926284e-15\n",
       " -1.3322676295501878e-14\n",
       "  7.993605777301127e-15\n",
       "  8.43769498715119e-15\n",
       "  5.981881656680343e-13"
      ]
     },
     "execution_count": 22,
     "metadata": {},
     "output_type": "execute_result"
    }
   ],
   "source": [
    "CH.C1_to_real(D1*cube_spec)-3*sqr_func"
   ]
  },
  {
   "cell_type": "code",
   "execution_count": 23,
   "id": "5d70c506",
   "metadata": {},
   "outputs": [
    {
     "data": {
      "image/svg+xml": [
       "<?xml version=\"1.0\" encoding=\"utf-8\"?>\n",
       "<svg xmlns=\"http://www.w3.org/2000/svg\" xmlns:xlink=\"http://www.w3.org/1999/xlink\" width=\"600\" height=\"400\" viewBox=\"0 0 2400 1600\">\n",
       "<defs>\n",
       "  <clipPath id=\"clip470\">\n",
       "    <rect x=\"0\" y=\"0\" width=\"2400\" height=\"1600\"/>\n",
       "  </clipPath>\n",
       "</defs>\n",
       "<path clip-path=\"url(#clip470)\" d=\"\n",
       "M0 1600 L2400 1600 L2400 0 L0 0  Z\n",
       "  \" fill=\"#ffffff\" fill-rule=\"evenodd\" fill-opacity=\"1\"/>\n",
       "<defs>\n",
       "  <clipPath id=\"clip471\">\n",
       "    <rect x=\"480\" y=\"0\" width=\"1681\" height=\"1600\"/>\n",
       "  </clipPath>\n",
       "</defs>\n",
       "<path clip-path=\"url(#clip470)\" d=\"\n",
       "M147.478 1486.45 L2352.76 1486.45 L2352.76 47.2441 L147.478 47.2441  Z\n",
       "  \" fill=\"#ffffff\" fill-rule=\"evenodd\" fill-opacity=\"1\"/>\n",
       "<defs>\n",
       "  <clipPath id=\"clip472\">\n",
       "    <rect x=\"147\" y=\"47\" width=\"2206\" height=\"1440\"/>\n",
       "  </clipPath>\n",
       "</defs>\n",
       "<polyline clip-path=\"url(#clip472)\" style=\"stroke:#000000; stroke-linecap:round; stroke-linejoin:round; stroke-width:2; stroke-opacity:0.1; fill:none\" points=\"\n",
       "  209.891,1486.45 209.891,47.2441 \n",
       "  \"/>\n",
       "<polyline clip-path=\"url(#clip472)\" style=\"stroke:#000000; stroke-linecap:round; stroke-linejoin:round; stroke-width:2; stroke-opacity:0.1; fill:none\" points=\"\n",
       "  730.004,1486.45 730.004,47.2441 \n",
       "  \"/>\n",
       "<polyline clip-path=\"url(#clip472)\" style=\"stroke:#000000; stroke-linecap:round; stroke-linejoin:round; stroke-width:2; stroke-opacity:0.1; fill:none\" points=\"\n",
       "  1250.12,1486.45 1250.12,47.2441 \n",
       "  \"/>\n",
       "<polyline clip-path=\"url(#clip472)\" style=\"stroke:#000000; stroke-linecap:round; stroke-linejoin:round; stroke-width:2; stroke-opacity:0.1; fill:none\" points=\"\n",
       "  1770.23,1486.45 1770.23,47.2441 \n",
       "  \"/>\n",
       "<polyline clip-path=\"url(#clip472)\" style=\"stroke:#000000; stroke-linecap:round; stroke-linejoin:round; stroke-width:2; stroke-opacity:0.1; fill:none\" points=\"\n",
       "  2290.34,1486.45 2290.34,47.2441 \n",
       "  \"/>\n",
       "<polyline clip-path=\"url(#clip470)\" style=\"stroke:#000000; stroke-linecap:round; stroke-linejoin:round; stroke-width:4; stroke-opacity:1; fill:none\" points=\"\n",
       "  147.478,1486.45 2352.76,1486.45 \n",
       "  \"/>\n",
       "<polyline clip-path=\"url(#clip470)\" style=\"stroke:#000000; stroke-linecap:round; stroke-linejoin:round; stroke-width:4; stroke-opacity:1; fill:none\" points=\"\n",
       "  209.891,1486.45 209.891,1467.55 \n",
       "  \"/>\n",
       "<polyline clip-path=\"url(#clip470)\" style=\"stroke:#000000; stroke-linecap:round; stroke-linejoin:round; stroke-width:4; stroke-opacity:1; fill:none\" points=\"\n",
       "  730.004,1486.45 730.004,1467.55 \n",
       "  \"/>\n",
       "<polyline clip-path=\"url(#clip470)\" style=\"stroke:#000000; stroke-linecap:round; stroke-linejoin:round; stroke-width:4; stroke-opacity:1; fill:none\" points=\"\n",
       "  1250.12,1486.45 1250.12,1467.55 \n",
       "  \"/>\n",
       "<polyline clip-path=\"url(#clip470)\" style=\"stroke:#000000; stroke-linecap:round; stroke-linejoin:round; stroke-width:4; stroke-opacity:1; fill:none\" points=\"\n",
       "  1770.23,1486.45 1770.23,1467.55 \n",
       "  \"/>\n",
       "<polyline clip-path=\"url(#clip470)\" style=\"stroke:#000000; stroke-linecap:round; stroke-linejoin:round; stroke-width:4; stroke-opacity:1; fill:none\" points=\"\n",
       "  2290.34,1486.45 2290.34,1467.55 \n",
       "  \"/>\n",
       "<path clip-path=\"url(#clip470)\" d=\"M156.42 1532.02 L186.095 1532.02 L186.095 1535.95 L156.42 1535.95 L156.42 1532.02 Z\" fill=\"#000000\" fill-rule=\"evenodd\" fill-opacity=\"1\" /><path clip-path=\"url(#clip470)\" d=\"M196.998 1544.91 L204.637 1544.91 L204.637 1518.55 L196.327 1520.21 L196.327 1515.95 L204.591 1514.29 L209.266 1514.29 L209.266 1544.91 L216.905 1544.91 L216.905 1548.85 L196.998 1548.85 L196.998 1544.91 Z\" fill=\"#000000\" fill-rule=\"evenodd\" fill-opacity=\"1\" /><path clip-path=\"url(#clip470)\" d=\"M226.35 1542.97 L231.234 1542.97 L231.234 1548.85 L226.35 1548.85 L226.35 1542.97 Z\" fill=\"#000000\" fill-rule=\"evenodd\" fill-opacity=\"1\" /><path clip-path=\"url(#clip470)\" d=\"M251.419 1517.37 Q247.808 1517.37 245.979 1520.93 Q244.174 1524.47 244.174 1531.6 Q244.174 1538.71 245.979 1542.27 Q247.808 1545.82 251.419 1545.82 Q255.053 1545.82 256.859 1542.27 Q258.687 1538.71 258.687 1531.6 Q258.687 1524.47 256.859 1520.93 Q255.053 1517.37 251.419 1517.37 M251.419 1513.66 Q257.229 1513.66 260.285 1518.27 Q263.363 1522.85 263.363 1531.6 Q263.363 1540.33 260.285 1544.94 Q257.229 1549.52 251.419 1549.52 Q245.609 1549.52 242.53 1544.94 Q239.475 1540.33 239.475 1531.6 Q239.475 1522.85 242.53 1518.27 Q245.609 1513.66 251.419 1513.66 Z\" fill=\"#000000\" fill-rule=\"evenodd\" fill-opacity=\"1\" /><path clip-path=\"url(#clip470)\" d=\"M677.03 1532.02 L706.706 1532.02 L706.706 1535.95 L677.03 1535.95 L677.03 1532.02 Z\" fill=\"#000000\" fill-rule=\"evenodd\" fill-opacity=\"1\" /><path clip-path=\"url(#clip470)\" d=\"M726.798 1517.37 Q723.187 1517.37 721.358 1520.93 Q719.553 1524.47 719.553 1531.6 Q719.553 1538.71 721.358 1542.27 Q723.187 1545.82 726.798 1545.82 Q730.432 1545.82 732.238 1542.27 Q734.067 1538.71 734.067 1531.6 Q734.067 1524.47 732.238 1520.93 Q730.432 1517.37 726.798 1517.37 M726.798 1513.66 Q732.608 1513.66 735.664 1518.27 Q738.743 1522.85 738.743 1531.6 Q738.743 1540.33 735.664 1544.94 Q732.608 1549.52 726.798 1549.52 Q720.988 1549.52 717.909 1544.94 Q714.854 1540.33 714.854 1531.6 Q714.854 1522.85 717.909 1518.27 Q720.988 1513.66 726.798 1513.66 Z\" fill=\"#000000\" fill-rule=\"evenodd\" fill-opacity=\"1\" /><path clip-path=\"url(#clip470)\" d=\"M746.96 1542.97 L751.844 1542.97 L751.844 1548.85 L746.96 1548.85 L746.96 1542.97 Z\" fill=\"#000000\" fill-rule=\"evenodd\" fill-opacity=\"1\" /><path clip-path=\"url(#clip470)\" d=\"M762.076 1514.29 L780.432 1514.29 L780.432 1518.22 L766.358 1518.22 L766.358 1526.7 Q767.377 1526.35 768.395 1526.19 Q769.414 1526 770.432 1526 Q776.219 1526 779.599 1529.17 Q782.978 1532.34 782.978 1537.76 Q782.978 1543.34 779.506 1546.44 Q776.034 1549.52 769.715 1549.52 Q767.539 1549.52 765.27 1549.15 Q763.025 1548.78 760.617 1548.04 L760.617 1543.34 Q762.701 1544.47 764.923 1545.03 Q767.145 1545.58 769.622 1545.58 Q773.627 1545.58 775.965 1543.48 Q778.303 1541.37 778.303 1537.76 Q778.303 1534.15 775.965 1532.04 Q773.627 1529.94 769.622 1529.94 Q767.747 1529.94 765.872 1530.35 Q764.02 1530.77 762.076 1531.65 L762.076 1514.29 Z\" fill=\"#000000\" fill-rule=\"evenodd\" fill-opacity=\"1\" /><path clip-path=\"url(#clip470)\" d=\"M1227.5 1517.37 Q1223.89 1517.37 1222.06 1520.93 Q1220.26 1524.47 1220.26 1531.6 Q1220.26 1538.71 1222.06 1542.27 Q1223.89 1545.82 1227.5 1545.82 Q1231.14 1545.82 1232.94 1542.27 Q1234.77 1538.71 1234.77 1531.6 Q1234.77 1524.47 1232.94 1520.93 Q1231.14 1517.37 1227.5 1517.37 M1227.5 1513.66 Q1233.31 1513.66 1236.37 1518.27 Q1239.45 1522.85 1239.45 1531.6 Q1239.45 1540.33 1236.37 1544.94 Q1233.31 1549.52 1227.5 1549.52 Q1221.69 1549.52 1218.61 1544.94 Q1215.56 1540.33 1215.56 1531.6 Q1215.56 1522.85 1218.61 1518.27 Q1221.69 1513.66 1227.5 1513.66 Z\" fill=\"#000000\" fill-rule=\"evenodd\" fill-opacity=\"1\" /><path clip-path=\"url(#clip470)\" d=\"M1247.66 1542.97 L1252.55 1542.97 L1252.55 1548.85 L1247.66 1548.85 L1247.66 1542.97 Z\" fill=\"#000000\" fill-rule=\"evenodd\" fill-opacity=\"1\" /><path clip-path=\"url(#clip470)\" d=\"M1272.73 1517.37 Q1269.12 1517.37 1267.29 1520.93 Q1265.49 1524.47 1265.49 1531.6 Q1265.49 1538.71 1267.29 1542.27 Q1269.12 1545.82 1272.73 1545.82 Q1276.37 1545.82 1278.17 1542.27 Q1280 1538.71 1280 1531.6 Q1280 1524.47 1278.17 1520.93 Q1276.37 1517.37 1272.73 1517.37 M1272.73 1513.66 Q1278.54 1513.66 1281.6 1518.27 Q1284.68 1522.85 1284.68 1531.6 Q1284.68 1540.33 1281.6 1544.94 Q1278.54 1549.52 1272.73 1549.52 Q1266.92 1549.52 1263.84 1544.94 Q1260.79 1540.33 1260.79 1531.6 Q1260.79 1522.85 1263.84 1518.27 Q1266.92 1513.66 1272.73 1513.66 Z\" fill=\"#000000\" fill-rule=\"evenodd\" fill-opacity=\"1\" /><path clip-path=\"url(#clip470)\" d=\"M1748.11 1517.37 Q1744.5 1517.37 1742.67 1520.93 Q1740.87 1524.47 1740.87 1531.6 Q1740.87 1538.71 1742.67 1542.27 Q1744.5 1545.82 1748.11 1545.82 Q1751.75 1545.82 1753.55 1542.27 Q1755.38 1538.71 1755.38 1531.6 Q1755.38 1524.47 1753.55 1520.93 Q1751.75 1517.37 1748.11 1517.37 M1748.11 1513.66 Q1753.92 1513.66 1756.98 1518.27 Q1760.06 1522.85 1760.06 1531.6 Q1760.06 1540.33 1756.98 1544.94 Q1753.92 1549.52 1748.11 1549.52 Q1742.3 1549.52 1739.22 1544.94 Q1736.17 1540.33 1736.17 1531.6 Q1736.17 1522.85 1739.22 1518.27 Q1742.3 1513.66 1748.11 1513.66 Z\" fill=\"#000000\" fill-rule=\"evenodd\" fill-opacity=\"1\" /><path clip-path=\"url(#clip470)\" d=\"M1768.27 1542.97 L1773.16 1542.97 L1773.16 1548.85 L1768.27 1548.85 L1768.27 1542.97 Z\" fill=\"#000000\" fill-rule=\"evenodd\" fill-opacity=\"1\" /><path clip-path=\"url(#clip470)\" d=\"M1783.39 1514.29 L1801.75 1514.29 L1801.75 1518.22 L1787.67 1518.22 L1787.67 1526.7 Q1788.69 1526.35 1789.71 1526.19 Q1790.73 1526 1791.75 1526 Q1797.53 1526 1800.91 1529.17 Q1804.29 1532.34 1804.29 1537.76 Q1804.29 1543.34 1800.82 1546.44 Q1797.35 1549.52 1791.03 1549.52 Q1788.85 1549.52 1786.58 1549.15 Q1784.34 1548.78 1781.93 1548.04 L1781.93 1543.34 Q1784.01 1544.47 1786.24 1545.03 Q1788.46 1545.58 1790.94 1545.58 Q1794.94 1545.58 1797.28 1543.48 Q1799.62 1541.37 1799.62 1537.76 Q1799.62 1534.15 1797.28 1532.04 Q1794.94 1529.94 1790.94 1529.94 Q1789.06 1529.94 1787.19 1530.35 Q1785.33 1530.77 1783.39 1531.65 L1783.39 1514.29 Z\" fill=\"#000000\" fill-rule=\"evenodd\" fill-opacity=\"1\" /><path clip-path=\"url(#clip470)\" d=\"M2257.5 1544.91 L2265.13 1544.91 L2265.13 1518.55 L2256.82 1520.21 L2256.82 1515.95 L2265.09 1514.29 L2269.76 1514.29 L2269.76 1544.91 L2277.4 1544.91 L2277.4 1548.85 L2257.5 1548.85 L2257.5 1544.91 Z\" fill=\"#000000\" fill-rule=\"evenodd\" fill-opacity=\"1\" /><path clip-path=\"url(#clip470)\" d=\"M2286.85 1542.97 L2291.73 1542.97 L2291.73 1548.85 L2286.85 1548.85 L2286.85 1542.97 Z\" fill=\"#000000\" fill-rule=\"evenodd\" fill-opacity=\"1\" /><path clip-path=\"url(#clip470)\" d=\"M2311.92 1517.37 Q2308.31 1517.37 2306.48 1520.93 Q2304.67 1524.47 2304.67 1531.6 Q2304.67 1538.71 2306.48 1542.27 Q2308.31 1545.82 2311.92 1545.82 Q2315.55 1545.82 2317.36 1542.27 Q2319.18 1538.71 2319.18 1531.6 Q2319.18 1524.47 2317.36 1520.93 Q2315.55 1517.37 2311.92 1517.37 M2311.92 1513.66 Q2317.73 1513.66 2320.78 1518.27 Q2323.86 1522.85 2323.86 1531.6 Q2323.86 1540.33 2320.78 1544.94 Q2317.73 1549.52 2311.92 1549.52 Q2306.11 1549.52 2303.03 1544.94 Q2299.97 1540.33 2299.97 1531.6 Q2299.97 1522.85 2303.03 1518.27 Q2306.11 1513.66 2311.92 1513.66 Z\" fill=\"#000000\" fill-rule=\"evenodd\" fill-opacity=\"1\" /><polyline clip-path=\"url(#clip472)\" style=\"stroke:#000000; stroke-linecap:round; stroke-linejoin:round; stroke-width:2; stroke-opacity:0.1; fill:none\" points=\"\n",
       "  147.478,1445.72 2352.76,1445.72 \n",
       "  \"/>\n",
       "<polyline clip-path=\"url(#clip472)\" style=\"stroke:#000000; stroke-linecap:round; stroke-linejoin:round; stroke-width:2; stroke-opacity:0.1; fill:none\" points=\"\n",
       "  147.478,1174.17 2352.76,1174.17 \n",
       "  \"/>\n",
       "<polyline clip-path=\"url(#clip472)\" style=\"stroke:#000000; stroke-linecap:round; stroke-linejoin:round; stroke-width:2; stroke-opacity:0.1; fill:none\" points=\"\n",
       "  147.478,902.62 2352.76,902.62 \n",
       "  \"/>\n",
       "<polyline clip-path=\"url(#clip472)\" style=\"stroke:#000000; stroke-linecap:round; stroke-linejoin:round; stroke-width:2; stroke-opacity:0.1; fill:none\" points=\"\n",
       "  147.478,631.072 2352.76,631.072 \n",
       "  \"/>\n",
       "<polyline clip-path=\"url(#clip472)\" style=\"stroke:#000000; stroke-linecap:round; stroke-linejoin:round; stroke-width:2; stroke-opacity:0.1; fill:none\" points=\"\n",
       "  147.478,359.524 2352.76,359.524 \n",
       "  \"/>\n",
       "<polyline clip-path=\"url(#clip472)\" style=\"stroke:#000000; stroke-linecap:round; stroke-linejoin:round; stroke-width:2; stroke-opacity:0.1; fill:none\" points=\"\n",
       "  147.478,87.9763 2352.76,87.9763 \n",
       "  \"/>\n",
       "<polyline clip-path=\"url(#clip470)\" style=\"stroke:#000000; stroke-linecap:round; stroke-linejoin:round; stroke-width:4; stroke-opacity:1; fill:none\" points=\"\n",
       "  147.478,1486.45 147.478,47.2441 \n",
       "  \"/>\n",
       "<polyline clip-path=\"url(#clip470)\" style=\"stroke:#000000; stroke-linecap:round; stroke-linejoin:round; stroke-width:4; stroke-opacity:1; fill:none\" points=\"\n",
       "  147.478,1445.72 166.376,1445.72 \n",
       "  \"/>\n",
       "<polyline clip-path=\"url(#clip470)\" style=\"stroke:#000000; stroke-linecap:round; stroke-linejoin:round; stroke-width:4; stroke-opacity:1; fill:none\" points=\"\n",
       "  147.478,1174.17 166.376,1174.17 \n",
       "  \"/>\n",
       "<polyline clip-path=\"url(#clip470)\" style=\"stroke:#000000; stroke-linecap:round; stroke-linejoin:round; stroke-width:4; stroke-opacity:1; fill:none\" points=\"\n",
       "  147.478,902.62 166.376,902.62 \n",
       "  \"/>\n",
       "<polyline clip-path=\"url(#clip470)\" style=\"stroke:#000000; stroke-linecap:round; stroke-linejoin:round; stroke-width:4; stroke-opacity:1; fill:none\" points=\"\n",
       "  147.478,631.072 166.376,631.072 \n",
       "  \"/>\n",
       "<polyline clip-path=\"url(#clip470)\" style=\"stroke:#000000; stroke-linecap:round; stroke-linejoin:round; stroke-width:4; stroke-opacity:1; fill:none\" points=\"\n",
       "  147.478,359.524 166.376,359.524 \n",
       "  \"/>\n",
       "<polyline clip-path=\"url(#clip470)\" style=\"stroke:#000000; stroke-linecap:round; stroke-linejoin:round; stroke-width:4; stroke-opacity:1; fill:none\" points=\"\n",
       "  147.478,87.9763 166.376,87.9763 \n",
       "  \"/>\n",
       "<path clip-path=\"url(#clip470)\" d=\"M51.3625 1446.17 L81.0383 1446.17 L81.0383 1450.1 L51.3625 1450.1 L51.3625 1446.17 Z\" fill=\"#000000\" fill-rule=\"evenodd\" fill-opacity=\"1\" /><path clip-path=\"url(#clip470)\" d=\"M95.1586 1459.06 L111.478 1459.06 L111.478 1463 L89.5336 1463 L89.5336 1459.06 Q92.1956 1456.31 96.7789 1451.68 Q101.385 1447.02 102.566 1445.68 Q104.811 1443.16 105.691 1441.42 Q106.594 1439.66 106.594 1437.97 Q106.594 1435.22 104.649 1433.48 Q102.728 1431.75 99.6261 1431.75 Q97.4271 1431.75 94.9734 1432.51 Q92.5428 1433.27 89.7651 1434.82 L89.7651 1430.1 Q92.5891 1428.97 95.0428 1428.39 Q97.4965 1427.81 99.5335 1427.81 Q104.904 1427.81 108.098 1430.5 Q111.293 1433.18 111.293 1437.67 Q111.293 1439.8 110.483 1441.72 Q109.696 1443.62 107.589 1446.21 Q107.01 1446.88 103.909 1450.1 Q100.807 1453.3 95.1586 1459.06 Z\" fill=\"#000000\" fill-rule=\"evenodd\" fill-opacity=\"1\" /><path clip-path=\"url(#clip470)\" d=\"M50.9921 1174.62 L80.6679 1174.62 L80.6679 1178.55 L50.9921 1178.55 L50.9921 1174.62 Z\" fill=\"#000000\" fill-rule=\"evenodd\" fill-opacity=\"1\" /><path clip-path=\"url(#clip470)\" d=\"M91.5706 1187.51 L99.2095 1187.51 L99.2095 1161.15 L90.8993 1162.81 L90.8993 1158.55 L99.1632 1156.89 L103.839 1156.89 L103.839 1187.51 L111.478 1187.51 L111.478 1191.45 L91.5706 1191.45 L91.5706 1187.51 Z\" fill=\"#000000\" fill-rule=\"evenodd\" fill-opacity=\"1\" /><path clip-path=\"url(#clip470)\" d=\"M99.5335 888.419 Q95.9224 888.419 94.0937 891.983 Q92.2882 895.525 92.2882 902.655 Q92.2882 909.761 94.0937 913.326 Q95.9224 916.868 99.5335 916.868 Q103.168 916.868 104.973 913.326 Q106.802 909.761 106.802 902.655 Q106.802 895.525 104.973 891.983 Q103.168 888.419 99.5335 888.419 M99.5335 884.715 Q105.344 884.715 108.399 889.321 Q111.478 893.905 111.478 902.655 Q111.478 911.381 108.399 915.988 Q105.344 920.571 99.5335 920.571 Q93.7234 920.571 90.6447 915.988 Q87.5892 911.381 87.5892 902.655 Q87.5892 893.905 90.6447 889.321 Q93.7234 884.715 99.5335 884.715 Z\" fill=\"#000000\" fill-rule=\"evenodd\" fill-opacity=\"1\" /><path clip-path=\"url(#clip470)\" d=\"M91.5706 644.417 L99.2095 644.417 L99.2095 618.051 L90.8993 619.718 L90.8993 615.459 L99.1632 613.792 L103.839 613.792 L103.839 644.417 L111.478 644.417 L111.478 648.352 L91.5706 648.352 L91.5706 644.417 Z\" fill=\"#000000\" fill-rule=\"evenodd\" fill-opacity=\"1\" /><path clip-path=\"url(#clip470)\" d=\"M95.1586 372.869 L111.478 372.869 L111.478 376.804 L89.5336 376.804 L89.5336 372.869 Q92.1956 370.114 96.7789 365.485 Q101.385 360.832 102.566 359.489 Q104.811 356.966 105.691 355.23 Q106.594 353.471 106.594 351.781 Q106.594 349.027 104.649 347.29 Q102.728 345.554 99.6261 345.554 Q97.4271 345.554 94.9734 346.318 Q92.5428 347.082 89.7651 348.633 L89.7651 343.911 Q92.5891 342.777 95.0428 342.198 Q97.4965 341.619 99.5335 341.619 Q104.904 341.619 108.098 344.304 Q111.293 346.99 111.293 351.48 Q111.293 353.61 110.483 355.531 Q109.696 357.429 107.589 360.022 Q107.01 360.693 103.909 363.911 Q100.807 367.105 95.1586 372.869 Z\" fill=\"#000000\" fill-rule=\"evenodd\" fill-opacity=\"1\" /><path clip-path=\"url(#clip470)\" d=\"M104.348 86.6221 Q107.705 87.3397 109.58 89.6082 Q111.478 91.8767 111.478 95.21 Q111.478 100.326 107.959 103.127 Q104.441 105.928 97.9595 105.928 Q95.7836 105.928 93.4688 105.488 Q91.1771 105.071 88.7234 104.215 L88.7234 99.7008 Q90.6678 100.835 92.9826 101.414 Q95.2974 101.992 97.8206 101.992 Q102.219 101.992 104.51 100.256 Q106.825 98.5202 106.825 95.21 Q106.825 92.1545 104.672 90.4415 Q102.543 88.7054 98.7234 88.7054 L94.6956 88.7054 L94.6956 84.8629 L98.9085 84.8629 Q102.358 84.8629 104.186 83.4971 Q106.015 82.1083 106.015 79.5157 Q106.015 76.8537 104.117 75.4416 Q102.242 74.0064 98.7234 74.0064 Q96.8021 74.0064 94.603 74.4231 Q92.4039 74.8398 89.7651 75.7194 L89.7651 71.5528 Q92.4271 70.812 94.7419 70.4416 Q97.0798 70.0713 99.14 70.0713 Q104.464 70.0713 107.566 72.5018 Q110.668 74.9092 110.668 79.0296 Q110.668 81.8999 109.024 83.8907 Q107.381 85.8582 104.348 86.6221 Z\" fill=\"#000000\" fill-rule=\"evenodd\" fill-opacity=\"1\" /><polyline clip-path=\"url(#clip472)\" style=\"stroke:#009af9; stroke-linecap:round; stroke-linejoin:round; stroke-width:4; stroke-opacity:1; fill:none\" points=\"\n",
       "  2290.34,359.524 2276.16,366.931 2233.98,388.951 2164.97,424.981 2071,474.041 1954.64,534.791 1819.07,605.575 1667.97,684.461 1505.48,769.298 1336.02,857.771 \n",
       "  1164.22,947.468 994.757,1035.94 832.263,1120.78 681.168,1199.67 545.591,1270.45 429.233,1331.2 335.266,1380.26 266.254,1416.29 224.079,1438.31 209.891,1445.72 \n",
       "  \n",
       "  \"/>\n",
       "<polyline clip-path=\"url(#clip472)\" style=\"stroke:#e26f46; stroke-linecap:round; stroke-linejoin:round; stroke-width:4; stroke-opacity:1; fill:none\" points=\"\n",
       "  2290.34,87.9763 2276.16,110.046 2233.98,173.864 2164.97,272.514 2071,395.307 1954.64,528.934 1819.07,658.917 1667.97,771.17 1505.48,853.527 1336.02,897.065 \n",
       "  1164.22,897.065 994.757,853.527 832.263,771.17 681.168,658.917 545.591,528.934 429.233,395.307 335.266,272.514 266.254,173.864 224.079,110.046 209.891,87.9763 \n",
       "  \n",
       "  \"/>\n",
       "<path clip-path=\"url(#clip470)\" d=\"\n",
       "M2006.29 250.738 L2279.25 250.738 L2279.25 95.2176 L2006.29 95.2176  Z\n",
       "  \" fill=\"#ffffff\" fill-rule=\"evenodd\" fill-opacity=\"1\"/>\n",
       "<polyline clip-path=\"url(#clip470)\" style=\"stroke:#000000; stroke-linecap:round; stroke-linejoin:round; stroke-width:4; stroke-opacity:1; fill:none\" points=\"\n",
       "  2006.29,250.738 2279.25,250.738 2279.25,95.2176 2006.29,95.2176 2006.29,250.738 \n",
       "  \"/>\n",
       "<polyline clip-path=\"url(#clip470)\" style=\"stroke:#009af9; stroke-linecap:round; stroke-linejoin:round; stroke-width:4; stroke-opacity:1; fill:none\" points=\"\n",
       "  2030.79,147.058 2177.81,147.058 \n",
       "  \"/>\n",
       "<path clip-path=\"url(#clip470)\" d=\"M2216.16 166.745 Q2214.35 171.375 2212.64 172.787 Q2210.92 174.199 2208.05 174.199 L2204.65 174.199 L2204.65 170.634 L2207.15 170.634 Q2208.91 170.634 2209.88 169.8 Q2210.85 168.967 2212.04 165.865 L2212.8 163.921 L2202.31 138.412 L2206.83 138.412 L2214.93 158.689 L2223.03 138.412 L2227.54 138.412 L2216.16 166.745 Z\" fill=\"#000000\" fill-rule=\"evenodd\" fill-opacity=\"1\" /><path clip-path=\"url(#clip470)\" d=\"M2234.84 160.402 L2242.48 160.402 L2242.48 134.037 L2234.16 135.703 L2234.16 131.444 L2242.43 129.778 L2247.1 129.778 L2247.1 160.402 L2254.74 160.402 L2254.74 164.338 L2234.84 164.338 L2234.84 160.402 Z\" fill=\"#000000\" fill-rule=\"evenodd\" fill-opacity=\"1\" /><polyline clip-path=\"url(#clip470)\" style=\"stroke:#e26f46; stroke-linecap:round; stroke-linejoin:round; stroke-width:4; stroke-opacity:1; fill:none\" points=\"\n",
       "  2030.79,198.898 2177.81,198.898 \n",
       "  \"/>\n",
       "<path clip-path=\"url(#clip470)\" d=\"M2216.16 218.585 Q2214.35 223.215 2212.64 224.627 Q2210.92 226.039 2208.05 226.039 L2204.65 226.039 L2204.65 222.474 L2207.15 222.474 Q2208.91 222.474 2209.88 221.64 Q2210.85 220.807 2212.04 217.705 L2212.8 215.761 L2202.31 190.252 L2206.83 190.252 L2214.93 210.529 L2223.03 190.252 L2227.54 190.252 L2216.16 218.585 Z\" fill=\"#000000\" fill-rule=\"evenodd\" fill-opacity=\"1\" /><path clip-path=\"url(#clip470)\" d=\"M2238.05 212.242 L2254.37 212.242 L2254.37 216.178 L2232.43 216.178 L2232.43 212.242 Q2235.09 209.488 2239.67 204.858 Q2244.28 200.205 2245.46 198.863 Q2247.71 196.34 2248.59 194.604 Q2249.49 192.844 2249.49 191.155 Q2249.49 188.4 2247.54 186.664 Q2245.62 184.928 2242.52 184.928 Q2240.32 184.928 2237.87 185.692 Q2235.44 186.455 2232.66 188.006 L2232.66 183.284 Q2235.48 182.15 2237.94 181.571 Q2240.39 180.993 2242.43 180.993 Q2247.8 180.993 2250.99 183.678 Q2254.19 186.363 2254.19 190.854 Q2254.19 192.983 2253.38 194.905 Q2252.59 196.803 2250.48 199.395 Q2249.91 200.067 2246.8 203.284 Q2243.7 206.479 2238.05 212.242 Z\" fill=\"#000000\" fill-rule=\"evenodd\" fill-opacity=\"1\" /></svg>\n"
      ]
     },
     "execution_count": 23,
     "metadata": {},
     "output_type": "execute_result"
    }
   ],
   "source": [
    "plot(pts,CH.C1_to_real(D1*sqr_spec))\n",
    "plot!(pts,CH.C1_to_real(D1*cube_spec))\n"
   ]
  },
  {
   "cell_type": "markdown",
   "id": "f282d465",
   "metadata": {},
   "source": [
    "# Teukolsky Radial ODE"
   ]
  },
  {
   "cell_type": "code",
   "execution_count": 45,
   "id": "aceccb23",
   "metadata": {},
   "outputs": [
    {
     "data": {
      "text/plain": [
       "1.0"
      ]
     },
     "execution_count": 45,
     "metadata": {},
     "output_type": "execute_result"
    }
   ],
   "source": [
    "T=Float64\n",
    "\n",
    "nr=28  # number of radial points\n",
    "nl=3  # number of angular points\n",
    "s=-2   # field spin\n",
    "m=2    # m angular value\n",
    "l=2    # l angular value\n",
    "a=T(0.0)  # dimensionless black hole spin \n",
    "## QNM value near n=0,l=2,m=2, s=-2 for dimensionless spin a=0.7\n",
    "\n",
    "omega_0= T(0.30105345461250427)-T(0.47827698322307044)*im\n",
    "gamma = T(4)-T(0)*im\n",
    "bhm = T(1)\n",
    "rmin = T(0)\n",
    "rmax = T(bhm)"
   ]
  },
  {
   "cell_type": "code",
   "execution_count": 95,
   "id": "dac473b2",
   "metadata": {},
   "outputs": [],
   "source": [
    "S1 = GE.compute_S(T,nr,1);\n",
    "S0 = GE.compute_S(T,nr,0);"
   ]
  },
  {
   "cell_type": "code",
   "execution_count": 96,
   "id": "2d433712",
   "metadata": {},
   "outputs": [],
   "source": [
    "radial_mat = Matrix(RODE.radial_discretized_eqn_c(nr,s,m,a,bhm,omega_0,gamma,rmin,rmax));"
   ]
  },
  {
   "cell_type": "code",
   "execution_count": 116,
   "id": "279e5212",
   "metadata": {},
   "outputs": [
    {
     "data": {
      "text/plain": [
       "28×28 SparseMatrixCSC{Float64, Int64} with 210 stored entries:\n",
       "⠑⢕⢕⢕⢕⢕⢕⢕⢕⢕⢕⢕⢕⢕\n",
       "⠀⠀⠑⢕⢕⢕⢕⢕⢕⢕⢕⢕⢕⢕\n",
       "⠀⠀⠀⠀⠑⢕⢕⢕⢕⢕⢕⢕⢕⢕\n",
       "⠀⠀⠀⠀⠀⠀⠑⢕⢕⢕⢕⢕⢕⢕\n",
       "⠀⠀⠀⠀⠀⠀⠀⠀⠑⢕⢕⢕⢕⢕\n",
       "⠀⠀⠀⠀⠀⠀⠀⠀⠀⠀⠑⢕⢕⢕\n",
       "⠀⠀⠀⠀⠀⠀⠀⠀⠀⠀⠀⠀⠑⢕"
      ]
     },
     "execution_count": 116,
     "metadata": {},
     "output_type": "execute_result"
    }
   ],
   "source": [
    "S1_inv = sparse(inv(Matrix(S1)));\n",
    "S0_inv = sparse(inv(Matrix(S0)))"
   ]
  },
  {
   "cell_type": "code",
   "execution_count": null,
   "id": "80520b7a",
   "metadata": {},
   "outputs": [],
   "source": []
  },
  {
   "cell_type": "markdown",
   "id": "cdd584ac",
   "metadata": {},
   "source": [
    "the matrix is nonsingular"
   ]
  },
  {
   "cell_type": "code",
   "execution_count": 92,
   "id": "1b7b24a5",
   "metadata": {},
   "outputs": [
    {
     "data": {
      "text/plain": [
       "28-element Vector{ComplexF64}:\n",
       "     4.11770450510056e-8 + 2.8439875783689076e-8im\n",
       "     7.33956295920753e-8 - 8.777365881089719e-8im\n",
       "   1.8316700448530963e-8 + 1.0486404732196265e-8im\n",
       "  -7.898344388347851e-10 - 3.0409747073197592e-9im\n",
       "   1.0390021799691032e-9 + 7.576044218414939e-10im\n",
       "  -2.702795088957652e-10 - 3.181310688707583e-10im\n",
       "  1.1280022505884915e-10 + 6.30499177103444e-11im\n",
       " -4.2393809780490245e-11 - 2.6282058522635366e-11im\n",
       "  1.2340735722170687e-11 + 5.213964612400397e-12im\n",
       "  -5.119277955404271e-12 - 1.2619646204604011e-12im\n",
       "   1.315439479553239e-12 + 4.830887781258525e-13im\n",
       "  -4.114906371376027e-13 + 3.503024925405605e-14im\n",
       "  1.4500069436792892e-13 + 3.1654184581673026e-14im\n",
       "                         ⋮\n",
       "  -2.194506063032423e-15 - 9.929865401682974e-17im\n",
       "  -6.622162549794205e-16 - 1.2819054148397772e-17im\n",
       " -2.5640723977235546e-16 + 6.729867506710327e-16im\n",
       "  2.2398612673413984e-16 + 1.582676662147322e-16im\n",
       "   1.474621034252335e-16 + 3.3311588395538655e-17im\n",
       "  5.2184984909949895e-17 - 7.978907400926399e-17im\n",
       "  -1.423545262192372e-17 - 5.1902443045753635e-17im\n",
       " -2.1636157335781023e-17 - 7.548467060801798e-18im\n",
       " -1.2296226554277137e-17 + 1.4742909166660125e-17im\n",
       "  2.9157652557715667e-18 + 1.0632328447945384e-17im\n",
       "   8.229325121257532e-18 + 1.894815800240286e-18im\n",
       "   7.149969231591682e-18 - 1.567018680671504e-18im"
      ]
     },
     "execution_count": 92,
     "metadata": {},
     "output_type": "execute_result"
    }
   ],
   "source": [
    "radial_mat\\(1e-16*ones(ComplexF64,nr))"
   ]
  },
  {
   "cell_type": "code",
   "execution_count": null,
   "id": "65505821",
   "metadata": {},
   "outputs": [],
   "source": []
  },
  {
   "cell_type": "code",
   "execution_count": null,
   "id": "7ab772ed",
   "metadata": {},
   "outputs": [],
   "source": []
  },
  {
   "cell_type": "code",
   "execution_count": null,
   "id": "51293478",
   "metadata": {},
   "outputs": [],
   "source": []
  },
  {
   "cell_type": "code",
   "execution_count": 83,
   "id": "f4ef2658",
   "metadata": {},
   "outputs": [
    {
     "data": {
      "text/plain": [
       "28×28 Matrix{ComplexF64}:\n",
       " 1.0+0.0im  0.0+0.0im  0.0+0.0im  …  0.0+0.0im  0.0+0.0im  0.0+0.0im\n",
       " 0.0+0.0im  1.0+0.0im  0.0+0.0im     0.0+0.0im  0.0+0.0im  0.0+0.0im\n",
       " 0.0+0.0im  0.0+0.0im  1.0+0.0im     0.0+0.0im  0.0+0.0im  0.0+0.0im\n",
       " 0.0+0.0im  0.0+0.0im  0.0+0.0im     0.0+0.0im  0.0+0.0im  0.0+0.0im\n",
       " 0.0+0.0im  0.0+0.0im  0.0+0.0im     0.0+0.0im  0.0+0.0im  0.0+0.0im\n",
       " 0.0+0.0im  0.0+0.0im  0.0+0.0im  …  0.0+0.0im  0.0+0.0im  0.0+0.0im\n",
       " 0.0+0.0im  0.0+0.0im  0.0+0.0im     0.0+0.0im  0.0+0.0im  0.0+0.0im\n",
       " 0.0+0.0im  0.0+0.0im  0.0+0.0im     0.0+0.0im  0.0+0.0im  0.0+0.0im\n",
       " 0.0+0.0im  0.0+0.0im  0.0+0.0im     0.0+0.0im  0.0+0.0im  0.0+0.0im\n",
       " 0.0+0.0im  0.0+0.0im  0.0+0.0im     0.0+0.0im  0.0+0.0im  0.0+0.0im\n",
       " 0.0+0.0im  0.0+0.0im  0.0+0.0im  …  0.0+0.0im  0.0+0.0im  0.0+0.0im\n",
       " 0.0+0.0im  0.0+0.0im  0.0+0.0im     0.0+0.0im  0.0+0.0im  0.0+0.0im\n",
       " 0.0+0.0im  0.0+0.0im  0.0+0.0im     0.0+0.0im  0.0+0.0im  0.0+0.0im\n",
       "    ⋮                             ⋱     ⋮                  \n",
       " 0.0+0.0im  0.0+0.0im  0.0+0.0im     0.0+0.0im  0.0+0.0im  0.0+0.0im\n",
       " 0.0+0.0im  0.0+0.0im  0.0+0.0im     0.0+0.0im  0.0+0.0im  0.0+0.0im\n",
       " 0.0+0.0im  0.0+0.0im  0.0+0.0im     0.0+0.0im  0.0+0.0im  0.0+0.0im\n",
       " 0.0+0.0im  0.0+0.0im  0.0+0.0im     0.0+0.0im  0.0+0.0im  0.0+0.0im\n",
       " 0.0+0.0im  0.0+0.0im  0.0+0.0im  …  0.0+0.0im  0.0+0.0im  0.0+0.0im\n",
       " 0.0+0.0im  0.0+0.0im  0.0+0.0im     0.0+0.0im  0.0+0.0im  0.0+0.0im\n",
       " 0.0+0.0im  0.0+0.0im  0.0+0.0im     0.0+0.0im  0.0+0.0im  0.0+0.0im\n",
       " 0.0+0.0im  0.0+0.0im  0.0+0.0im     0.0+0.0im  0.0+0.0im  0.0+0.0im\n",
       " 0.0+0.0im  0.0+0.0im  0.0+0.0im     0.0+0.0im  0.0+0.0im  0.0+0.0im\n",
       " 0.0+0.0im  0.0+0.0im  0.0+0.0im  …  1.0+0.0im  0.0+0.0im  0.0+0.0im\n",
       " 0.0+0.0im  0.0+0.0im  0.0+0.0im     0.0+0.0im  1.0+0.0im  0.0+0.0im\n",
       " 0.0+0.0im  0.0+0.0im  0.0+0.0im     0.0+0.0im  0.0+0.0im  1.0+0.0im"
      ]
     },
     "execution_count": 83,
     "metadata": {},
     "output_type": "execute_result"
    }
   ],
   "source": [
    "Id = sparse(I, nr, nr)\n",
    "Id +=D1"
   ]
  },
  {
   "cell_type": "code",
   "execution_count": 84,
   "id": "9cf7b5b8",
   "metadata": {},
   "outputs": [
    {
     "data": {
      "text/plain": [
       "28-element Vector{ComplexF64}:\n",
       " 1.0 - 0.0im\n",
       " 1.0 - 0.0im\n",
       " 1.0 - 0.0im\n",
       " 1.0 - 0.0im\n",
       " 1.0 - 0.0im\n",
       " 1.0 - 0.0im\n",
       " 1.0 - 0.0im\n",
       " 1.0 - 0.0im\n",
       " 1.0 - 0.0im\n",
       " 1.0 - 0.0im\n",
       " 1.0 - 0.0im\n",
       " 1.0 - 0.0im\n",
       " 1.0 - 0.0im\n",
       "     ⋮\n",
       " 1.0 - 0.0im\n",
       " 1.0 - 0.0im\n",
       " 1.0 - 0.0im\n",
       " 1.0 - 0.0im\n",
       " 1.0 - 0.0im\n",
       " 1.0 - 0.0im\n",
       " 1.0 - 0.0im\n",
       " 1.0 - 0.0im\n",
       " 1.0 - 0.0im\n",
       " 1.0 - 0.0im\n",
       " 1.0 - 0.0im\n",
       " 1.0 - 0.0im"
      ]
     },
     "execution_count": 84,
     "metadata": {},
     "output_type": "execute_result"
    }
   ],
   "source": [
    "Id\\ones(ComplexF64,nr)"
   ]
  },
  {
   "cell_type": "code",
   "execution_count": 60,
   "id": "9e0b9d43",
   "metadata": {},
   "outputs": [
    {
     "data": {
      "text/plain": [
       "28-element SparseArrays.SparseVector{ComplexF64, Integer} with 2 stored entries:\n",
       "  [1 ]  =  -4.40651+6.80674im\n",
       "  [2 ]  =  0.302463+1.1519im"
      ]
     },
     "execution_count": 60,
     "metadata": {},
     "output_type": "execute_result"
    }
   ],
   "source": [
    "radial_mat[:,1]"
   ]
  },
  {
   "cell_type": "code",
   "execution_count": 54,
   "id": "5f9d510e",
   "metadata": {},
   "outputs": [
    {
     "data": {
      "text/plain": [
       "14-element Vector{ComplexF64}:\n",
       " 0.0 + 0.0im\n",
       " 0.0 + 0.0im\n",
       " 0.0 + 0.0im\n",
       " 0.0 + 0.0im\n",
       " 0.0 + 0.0im\n",
       " 0.0 + 0.0im\n",
       " 0.0 + 0.0im\n",
       " 0.0 + 0.0im\n",
       " 0.0 + 0.0im\n",
       " 0.0 + 0.0im\n",
       " 0.0 + 0.0im\n",
       " 0.0 + 0.0im\n",
       " 0.0 + 0.0im\n",
       " 0.0 + 0.0im"
      ]
     },
     "execution_count": 54,
     "metadata": {},
     "output_type": "execute_result"
    }
   ],
   "source": [
    "rhs = zeros(ComplexF64, 14)"
   ]
  },
  {
   "cell_type": "code",
   "execution_count": 56,
   "id": "89e6199f",
   "metadata": {},
   "outputs": [
    {
     "ename": "LoadError",
     "evalue": "ArgumentError: matrix type SparseArrays.SparseMatrixCSC{ComplexF64, Integer}not supported. Try lu(convert(SparseMatrixCSC{Float64/ComplexF64,Int}, A)) for sparse floating point LU using UMFPACK or lu(Array(A)) for generic dense LU.",
     "output_type": "error",
     "traceback": [
      "ArgumentError: matrix type SparseArrays.SparseMatrixCSC{ComplexF64, Integer}not supported. Try lu(convert(SparseMatrixCSC{Float64/ComplexF64,Int}, A)) for sparse floating point LU using UMFPACK or lu(Array(A)) for generic dense LU.",
      "",
      "Stacktrace:",
      " [1] lu(A::SparseArrays.SparseMatrixCSC{ComplexF64, Integer}; check::Bool)",
      "   @ SuiteSparse.UMFPACK /Users/julia/buildbot/worker/package_macos64/build/usr/share/julia/stdlib/v1.6/SuiteSparse/src/umfpack.jl:172",
      " [2] lu(A::SparseArrays.SparseMatrixCSC{ComplexF64, Integer})",
      "   @ SuiteSparse.UMFPACK /Users/julia/buildbot/worker/package_macos64/build/usr/share/julia/stdlib/v1.6/SuiteSparse/src/umfpack.jl:172",
      " [3] \\(A::SparseArrays.SparseMatrixCSC{ComplexF64, Integer}, B::Vector{ComplexF64})",
      "   @ SparseArrays /Users/julia/buildbot/worker/package_macos64/build/usr/share/julia/stdlib/v1.6/SparseArrays/src/linalg.jl:1567",
      " [4] top-level scope",
      "   @ In[56]:1",
      " [5] eval",
      "   @ ./boot.jl:360 [inlined]",
      " [6] include_string(mapexpr::typeof(REPL.softscope), mod::Module, code::String, filename::String)",
      "   @ Base ./loading.jl:1116"
     ]
    }
   ],
   "source": [
    "radial_mat \\ rhs"
   ]
  },
  {
   "cell_type": "code",
   "execution_count": 49,
   "id": "02575c44",
   "metadata": {},
   "outputs": [
    {
     "data": {
      "text/plain": [
       "784"
      ]
     },
     "execution_count": 49,
     "metadata": {},
     "output_type": "execute_result"
    }
   ],
   "source": [
    "28*28"
   ]
  },
  {
   "cell_type": "markdown",
   "id": "becff8dd",
   "metadata": {},
   "source": [
    "# An easy application"
   ]
  },
  {
   "cell_type": "code",
   "execution_count": null,
   "id": "4965eca6",
   "metadata": {},
   "outputs": [],
   "source": [
    "heatmap(I, color=:grays, aspect_ratio=1)"
   ]
  },
  {
   "cell_type": "code",
   "execution_count": null,
   "id": "a88afef6",
   "metadata": {},
   "outputs": [],
   "source": []
  }
 ],
 "metadata": {
  "kernelspec": {
   "display_name": "Julia 1.6.3",
   "language": "julia",
   "name": "julia-1.6"
  },
  "language_info": {
   "file_extension": ".jl",
   "mimetype": "application/julia",
   "name": "julia",
   "version": "1.6.3"
  }
 },
 "nbformat": 4,
 "nbformat_minor": 5
}

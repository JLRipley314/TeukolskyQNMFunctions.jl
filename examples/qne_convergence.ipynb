{
 "cells": [
  {
   "cell_type": "code",
   "execution_count": 1,
   "id": "518ff6ee",
   "metadata": {},
   "outputs": [
    {
     "ename": "LoadError",
     "evalue": "LoadError: PyError (PyImport_ImportModule) <class 'OSError'>\nOSError(\"Could not find/load shared object file: libllvmlite.so\\n Error was: /home/jripley/julia-1.8.0/bin/../lib/julia/libstdc++.so.6: version `GLIBCXX_3.4.30' not found (required by /home/jripley/miniconda3/lib/python3.10/site-packages/llvmlite/binding/../../../../libLLVM-11.so)\")\n  File \"/home/jripley/miniconda3/lib/python3.10/site-packages/qnm/__init__.py\", line 72, in <module>\n    from . import radial\n  File \"/home/jripley/miniconda3/lib/python3.10/site-packages/qnm/radial.py\", line 6, in <module>\n    from numba import njit\n  File \"/home/jripley/miniconda3/lib/python3.10/site-packages/numba/__init__.py\", line 19, in <module>\n    from numba.core import config\n  File \"/home/jripley/miniconda3/lib/python3.10/site-packages/numba/core/config.py\", line 16, in <module>\n    import llvmlite.binding as ll\n  File \"/home/jripley/miniconda3/lib/python3.10/site-packages/llvmlite/binding/__init__.py\", line 4, in <module>\n    from .dylib import *\n  File \"/home/jripley/miniconda3/lib/python3.10/site-packages/llvmlite/binding/dylib.py\", line 3, in <module>\n    from llvmlite.binding import ffi\n  File \"/home/jripley/miniconda3/lib/python3.10/site-packages/llvmlite/binding/ffi.py\", line 167, in <module>\n    raise OSError(msg)\n\nin expression starting at /home/jripley/TeukolskyQNMFunctions.jl/src/SpectralRadialODE.jl:1",
     "output_type": "error",
     "traceback": [
      "LoadError: PyError (PyImport_ImportModule) <class 'OSError'>\nOSError(\"Could not find/load shared object file: libllvmlite.so\\n Error was: /home/jripley/julia-1.8.0/bin/../lib/julia/libstdc++.so.6: version `GLIBCXX_3.4.30' not found (required by /home/jripley/miniconda3/lib/python3.10/site-packages/llvmlite/binding/../../../../libLLVM-11.so)\")\n  File \"/home/jripley/miniconda3/lib/python3.10/site-packages/qnm/__init__.py\", line 72, in <module>\n    from . import radial\n  File \"/home/jripley/miniconda3/lib/python3.10/site-packages/qnm/radial.py\", line 6, in <module>\n    from numba import njit\n  File \"/home/jripley/miniconda3/lib/python3.10/site-packages/numba/__init__.py\", line 19, in <module>\n    from numba.core import config\n  File \"/home/jripley/miniconda3/lib/python3.10/site-packages/numba/core/config.py\", line 16, in <module>\n    import llvmlite.binding as ll\n  File \"/home/jripley/miniconda3/lib/python3.10/site-packages/llvmlite/binding/__init__.py\", line 4, in <module>\n    from .dylib import *\n  File \"/home/jripley/miniconda3/lib/python3.10/site-packages/llvmlite/binding/dylib.py\", line 3, in <module>\n    from llvmlite.binding import ffi\n  File \"/home/jripley/miniconda3/lib/python3.10/site-packages/llvmlite/binding/ffi.py\", line 167, in <module>\n    raise OSError(msg)\n\nin expression starting at /home/jripley/TeukolskyQNMFunctions.jl/src/SpectralRadialODE.jl:1",
      "",
      "Stacktrace:",
      " [1] pyimport(name::String)",
      "   @ PyCall ~/.julia/packages/PyCall/twYvK/src/PyCall.jl:558",
      " [2] top-level scope",
      "   @ ~/TeukolskyQNMFunctions.jl/src/SpectralRadialODE.jl:15",
      " [3] include(fname::String)",
      "   @ Base.MainInclude ./client.jl:476",
      " [4] top-level scope",
      "   @ In[1]:10"
     ]
    }
   ],
   "source": [
    "using ApproxFun\n",
    "using SpecialFunctions\n",
    "\n",
    "using LinearAlgebra\n",
    "using SparseArrays\n",
    "\n",
    "include(\"../src/Cheb.jl\")\n",
    "import .Cheb as CH\n",
    "\n",
    "include(\"../src/SpectralRadialODE.jl\")\n",
    "import .SpectralRadialODE as RODE\n",
    "\n",
    "import Plots\n",
    "using Plots\n",
    "\n",
    "import HDF5\n",
    "\n",
    "using GenericLinearAlgebra # for svd of bigfloat matrix"
   ]
  },
  {
   "cell_type": "markdown",
   "id": "6edf7fa0",
   "metadata": {},
   "source": [
    "# First try n=0"
   ]
  },
  {
   "cell_type": "code",
   "execution_count": 2,
   "id": "f46c3aea",
   "metadata": {},
   "outputs": [],
   "source": [
    "# input params\n",
    "nr1 = 40;\n",
    "nr2 = 80;\n",
    "nr3 = 120;\n",
    "nr4 = 160;\n",
    "\n",
    "s = -2;\n",
    "l = 2;\n",
    "m = 2;\n",
    "n = 3;\n",
    "T= BigFloat;\n",
    "a = T(0.999);\n",
    "bhm = T(1);\n",
    "\n",
    "rmin = T(0); ## location of future null infinity (1/r = ∞)\n",
    "rmax = abs(a) > 0 ? (bhm / (a^2)) * (1 - sqrt(1 - ((a / bhm)^2))) : 0.5 / bhm;"
   ]
  },
  {
   "cell_type": "code",
   "execution_count": 3,
   "id": "c929f18c",
   "metadata": {},
   "outputs": [
    {
     "ename": "LoadError",
     "evalue": "UndefVarError: RODE not defined",
     "output_type": "error",
     "traceback": [
      "UndefVarError: RODE not defined",
      "",
      "Stacktrace:",
      " [1] top-level scope",
      "   @ In[3]:1"
     ]
    }
   ],
   "source": [
    "M4 = RODE.radial_operator(nr4,s,l,m,n,a,bhm,rmin,rmax);"
   ]
  },
  {
   "cell_type": "code",
   "execution_count": 4,
   "id": "81b52081",
   "metadata": {},
   "outputs": [
    {
     "ename": "LoadError",
     "evalue": "UndefVarError: M4 not defined",
     "output_type": "error",
     "traceback": [
      "UndefVarError: M4 not defined",
      "",
      "Stacktrace:",
      " [1] top-level scope",
      "   @ In[4]:1"
     ]
    }
   ],
   "source": [
    "M1 = M4[1:nr1,1:nr1];\n",
    "M2 = M4[1:nr2,1:nr2];\n",
    "M3 = M4[1:nr3,1:nr3];"
   ]
  },
  {
   "cell_type": "code",
   "execution_count": 5,
   "id": "90b56af6",
   "metadata": {},
   "outputs": [
    {
     "ename": "LoadError",
     "evalue": "UndefVarError: M1 not defined",
     "output_type": "error",
     "traceback": [
      "UndefVarError: M1 not defined",
      "",
      "Stacktrace:",
      " [1] top-level scope",
      "   @ In[5]:1"
     ]
    }
   ],
   "source": [
    "null1 = nullspace(Matrix(M1),rtol=1e-5);\n",
    "null2 = nullspace(Matrix(M2),rtol=1e-5);\n",
    "null3 = nullspace(Matrix(M3),rtol=1e-5);\n",
    "null4 = nullspace(Matrix(M4),rtol=1e-5);"
   ]
  },
  {
   "cell_type": "code",
   "execution_count": 6,
   "id": "5f041bce",
   "metadata": {},
   "outputs": [
    {
     "ename": "LoadError",
     "evalue": "UndefVarError: null1 not defined",
     "output_type": "error",
     "traceback": [
      "UndefVarError: null1 not defined",
      "",
      "Stacktrace:",
      " [1] top-level scope",
      "   @ In[6]:1"
     ]
    }
   ],
   "source": [
    "v1 = CH.to_real(null1[:,end]);\n",
    "v2 = CH.to_real(null2[:,end]);\n",
    "v3 = CH.to_real(null3[:,end]);\n",
    "v4 = CH.to_real(null4[:,end]);"
   ]
  },
  {
   "cell_type": "code",
   "execution_count": 7,
   "id": "a9f7a4ac",
   "metadata": {},
   "outputs": [],
   "source": [
    "rs1 = CH.cheb_pts(rmin,rmax,nr1);\n",
    "rs2 = CH.cheb_pts(rmin,rmax,nr2);\n",
    "rs3 = CH.cheb_pts(rmin,rmax,nr3);\n",
    "rs4 = CH.cheb_pts(rmin,rmax,nr4);"
   ]
  },
  {
   "cell_type": "code",
   "execution_count": 8,
   "id": "80c6a2f4",
   "metadata": {},
   "outputs": [
    {
     "ename": "LoadError",
     "evalue": "UndefVarError: v1 not defined",
     "output_type": "error",
     "traceback": [
      "UndefVarError: v1 not defined",
      "",
      "Stacktrace:",
      " [1] top-level scope",
      "   @ In[8]:1"
     ]
    }
   ],
   "source": [
    "v1_amp = [abs(v) for v in v1];\n",
    "v2_amp = [abs(v) for v in v2];\n",
    "v3_amp = [abs(v) for v in v3];\n",
    "v4_amp = [abs(v) for v in v4];"
   ]
  },
  {
   "cell_type": "code",
   "execution_count": 9,
   "id": "2bd1ca08",
   "metadata": {},
   "outputs": [
    {
     "ename": "LoadError",
     "evalue": "UndefVarError: v1_amp not defined",
     "output_type": "error",
     "traceback": [
      "UndefVarError: v1_amp not defined",
      "",
      "Stacktrace:",
      " [1] top-level scope",
      "   @ In[9]:1"
     ]
    }
   ],
   "source": [
    "Plots.plot( rs1,[v for v in v1_amp],label=\"nr =\"*string(nr1),yaxis=:log)\n",
    "Plots.plot!( rs2,[v for v in v2_amp],label=\"nr =\"*string(nr2))\n",
    "Plots.plot!( rs3,[v for v in v3_amp],label=\"nr =\"*string(nr3))\n",
    "Plots.plot!( rs4,[v for v in v4_amp],label=\"nr =\"*string(nr4))\n"
   ]
  },
  {
   "cell_type": "markdown",
   "id": "9f55e9ee",
   "metadata": {},
   "source": [
    "# Interpolate to highest resolution"
   ]
  },
  {
   "cell_type": "code",
   "execution_count": 10,
   "id": "5728fcd4",
   "metadata": {},
   "outputs": [
    {
     "ename": "LoadError",
     "evalue": "UndefVarError: null1 not defined",
     "output_type": "error",
     "traceback": [
      "UndefVarError: null1 not defined",
      "",
      "Stacktrace:",
      " [1] top-level scope",
      "   @ In[10]:2"
     ]
    }
   ],
   "source": [
    "null1_interp = zeros(Complex{T},nr4);\n",
    "null1_interp[1:nr1] = -null1[:,end];\n",
    "null2_interp = zeros(Complex{T},nr4);\n",
    "null2_interp[1:nr2] = null2[:,end];\n",
    "null3_interp = zeros(Complex{T},nr4);\n",
    "null3_interp[1:nr3] = -null3[:,end];"
   ]
  },
  {
   "cell_type": "code",
   "execution_count": 11,
   "id": "ad5ac616",
   "metadata": {},
   "outputs": [
    {
     "ename": "LoadError",
     "evalue": "UndefVarError: null2_interp not defined",
     "output_type": "error",
     "traceback": [
      "UndefVarError: null2_interp not defined",
      "",
      "Stacktrace:",
      " [1] top-level scope",
      "   @ In[11]:2"
     ]
    }
   ],
   "source": [
    "v1_interp = [abs(v) for v in CH.to_real(null1_interp)];\n",
    "v2_interp = [abs(v) for v in CH.to_real(null2_interp)];\n",
    "v3_interp = [abs(v) for v in CH.to_real(null3_interp)];"
   ]
  },
  {
   "cell_type": "code",
   "execution_count": 12,
   "id": "b057af8a",
   "metadata": {},
   "outputs": [
    {
     "ename": "LoadError",
     "evalue": "UndefVarError: v2_interp not defined",
     "output_type": "error",
     "traceback": [
      "UndefVarError: v2_interp not defined",
      "",
      "Stacktrace:",
      " [1] top-level scope",
      "   @ In[12]:1"
     ]
    }
   ],
   "source": [
    "Plots.plot( rs4,[abs(v) for v in v2_interp-v1_interp],label=\"nr =\"*string(nr2)*\"-\"*string(nr1),yaxis=:log)\n",
    "\n",
    "Plots.plot!( rs4,[abs(v) for v in v3_interp-v2_interp],label=\"nr =\"*string(nr3)*\"-\"*string(nr2))\n",
    "Plots.plot!( rs4,[abs(v) for v in v4_amp-v3_interp],label=\"nr =\"*string(nr4)*\"-\"*string(nr3))"
   ]
  },
  {
   "cell_type": "markdown",
   "id": "1f90ee39",
   "metadata": {},
   "source": [
    "It seems that big float is required to get convergence at large resolution!"
   ]
  },
  {
   "cell_type": "code",
   "execution_count": null,
   "id": "9ceaddcb",
   "metadata": {},
   "outputs": [],
   "source": []
  },
  {
   "cell_type": "code",
   "execution_count": null,
   "id": "128dabdf",
   "metadata": {},
   "outputs": [],
   "source": [
    "-"
   ]
  }
 ],
 "metadata": {
  "kernelspec": {
   "display_name": "Julia 1.8.0",
   "language": "julia",
   "name": "julia-1.8"
  },
  "language_info": {
   "file_extension": ".jl",
   "mimetype": "application/julia",
   "name": "julia",
   "version": "1.8.0"
  },
  "toc": {
   "base_numbering": 1,
   "nav_menu": {},
   "number_sections": true,
   "sideBar": true,
   "skip_h1_title": false,
   "title_cell": "Table of Contents",
   "title_sidebar": "Contents",
   "toc_cell": false,
   "toc_position": {},
   "toc_section_display": true,
   "toc_window_display": true
  }
 },
 "nbformat": 4,
 "nbformat_minor": 5
}

{
 "cells": [
  {
   "cell_type": "code",
   "execution_count": 1,
   "id": "a3c04521",
   "metadata": {},
   "outputs": [],
   "source": [
    "## include the source file (if you have not downloaded as a package)\n",
    "\n",
    "include(\"../src/TeukolskyQNMFunctions.jl\")\n",
    "import .TeukolskyQNMFunctions as QNM"
   ]
  },
  {
   "cell_type": "code",
   "execution_count": 2,
   "id": "0ef87605",
   "metadata": {},
   "outputs": [],
   "source": [
    "import Plots\n",
    "using LaTeXStrings\n",
    "using Plots\n",
    "using PyPlot\n"
   ]
  },
  {
   "cell_type": "code",
   "execution_count": 13,
   "id": "04443c85",
   "metadata": {},
   "outputs": [
    {
     "data": {
      "text/plain": [
       "0.30105345461250427 - 0.47827698322307044im"
      ]
     },
     "execution_count": 13,
     "metadata": {},
     "output_type": "execute_result"
    }
   ],
   "source": [
    "T=Float64\n",
    "\n",
    "nr=14  # number of radial points\n",
    "nl=3  # number of angular points\n",
    "s=-2   # field spin\n",
    "m=2    # m angular value\n",
    "l=2    # l angular value\n",
    "a=T(0.0)  # dimensionless black hole spin \n",
    "## QNM value near n=0,l=2,m=2, s=-2 for dimensionless spin a=0.7\n",
    "\n",
    "omega_0= T(0.30105345461250427)-T(0.47827698322307044)*im"
   ]
  },
  {
   "cell_type": "code",
   "execution_count": 14,
   "id": "ccd33c57",
   "metadata": {},
   "outputs": [],
   "source": [
    "N = 100;"
   ]
  },
  {
   "cell_type": "code",
   "execution_count": 15,
   "id": "8f90fc65",
   "metadata": {},
   "outputs": [],
   "source": [
    "F = zeros(T, N, N);\n",
    "omegas = complex(zeros(T, N, N));"
   ]
  },
  {
   "cell_type": "code",
   "execution_count": 16,
   "id": "f455cc0a",
   "metadata": {},
   "outputs": [],
   "source": [
    "omega_re_max = 0.4;\n",
    "omega_re_min = -0.4;\n",
    "omega_re_ext = omega_re_max-omega_re_min;\n",
    "\n",
    "omega_im_max = 0;\n",
    "omega_im_min = -0.8;\n",
    "omega_im_ext = omega_im_max-omega_im_min;"
   ]
  },
  {
   "cell_type": "code",
   "execution_count": 17,
   "id": "5eb5a2a3",
   "metadata": {},
   "outputs": [],
   "source": [
    "for i = 1:N\n",
    "        for j = 1:N\n",
    "            omegas[i,j] = T(omega_re_min+i*omega_re_ext/N)+T(omega_im_min+j*omega_im_ext/N)*im;\n",
    "        end\n",
    "    end\n",
    "\n",
    "#println(F)\n",
    "#println(lambda)"
   ]
  },
  {
   "cell_type": "code",
   "execution_count": 18,
   "id": "b30a59eb",
   "metadata": {},
   "outputs": [
    {
     "name": "stdout",
     "output_type": "stream",
     "text": [
      "1\n",
      "2\n",
      "3\n",
      "4\n",
      "5\n",
      "6\n",
      "7\n",
      "8\n",
      "9\n",
      "10\n",
      "11\n",
      "12\n",
      "13\n",
      "14\n",
      "15\n",
      "16\n",
      "17\n",
      "18\n",
      "19\n",
      "20\n",
      "21\n",
      "22\n",
      "23\n",
      "24\n",
      "25\n",
      "26\n",
      "27\n",
      "28\n",
      "29\n",
      "30\n",
      "31\n",
      "32\n",
      "33\n",
      "34\n",
      "35\n",
      "36\n",
      "37\n",
      "38\n",
      "39\n",
      "40\n",
      "41\n",
      "42\n",
      "43\n",
      "44\n",
      "45\n",
      "46\n",
      "47\n",
      "48\n",
      "49\n",
      "50\n",
      "51\n",
      "52\n",
      "53\n",
      "54\n",
      "55\n",
      "56\n",
      "57\n",
      "58\n",
      "59\n",
      "60\n",
      "61\n",
      "62\n",
      "63\n",
      "64\n",
      "65\n",
      "66\n",
      "67\n",
      "68\n",
      "69\n",
      "70\n",
      "71\n",
      "72\n",
      "73\n",
      "74\n",
      "75\n",
      "76\n",
      "77\n",
      "78\n",
      "79\n",
      "80\n",
      "81\n",
      "82\n",
      "83\n",
      "84\n",
      "85\n",
      "86\n",
      "87\n",
      "88\n",
      "89\n",
      "90\n",
      "91\n",
      "92\n",
      "93\n",
      "94\n",
      "95\n",
      "96\n",
      "97\n",
      "98\n",
      "99\n",
      "100\n"
     ]
    }
   ],
   "source": [
    "for i = 1:N\n",
    "        for j = 1:N\n",
    "            F[i,j] = QNM.F(nr, nl, s, l, m, a, omegas[i,j]);\n",
    "        end\n",
    "        println(i)\n",
    "    end\n",
    "\n",
    "#println(F)\n",
    "#println(lambda)"
   ]
  },
  {
   "cell_type": "code",
   "execution_count": 19,
   "id": "65daeb1c",
   "metadata": {},
   "outputs": [
    {
     "data": {
      "image/png": "[encoded data removed]",
      "text/plain": [
       "Figure(PyObject <Figure size 640x480 with 2 Axes>)"
      ]
     },
     "metadata": {},
     "output_type": "display_data"
    },
    {
     "data": {
      "text/plain": [
       "PyObject <matplotlib.colorbar.Colorbar object at 0x7fe9d3017340>"
      ]
     },
     "execution_count": 19,
     "metadata": {},
     "output_type": "execute_result"
    }
   ],
   "source": [
    "imshow(real(omegas))\n",
    "colorbar()"
   ]
  },
  {
   "cell_type": "code",
   "execution_count": 20,
   "id": "77ce2e87",
   "metadata": {},
   "outputs": [
    {
     "data": {
      "image/png": "[encoded data removed]",
      "text/plain": [
       "Figure(PyObject <Figure size 640x480 with 2 Axes>)"
      ]
     },
     "metadata": {},
     "output_type": "display_data"
    },
    {
     "data": {
      "text/plain": [
       "PyObject <matplotlib.colorbar.Colorbar object at 0x7fe9d2ee89d0>"
      ]
     },
     "execution_count": 20,
     "metadata": {},
     "output_type": "execute_result"
    }
   ],
   "source": [
    "imshow(imag(omegas))\n",
    "colorbar()"
   ]
  },
  {
   "cell_type": "code",
   "execution_count": 21,
   "id": "d87e8e8c",
   "metadata": {},
   "outputs": [
    {
     "data": {
      "image/png": "[encoded data removed]",
      "text/plain": [
       "Figure(PyObject <Figure size 500x500 with 2 Axes>)"
      ]
     },
     "metadata": {},
     "output_type": "display_data"
    },
    {
     "data": {
      "text/plain": [
       "PyObject <matplotlib.colorbar.Colorbar object at 0x7fe9d2e37e50>"
      ]
     },
     "execution_count": 21,
     "metadata": {},
     "output_type": "execute_result"
    }
   ],
   "source": [
    "figure(figsize=(5,5))\n",
    "imshow(F,extent=[omega_im_min,omega_im_max,omega_re_min,omega_re_max])\n",
    "colorbar()\n",
    "#savefig(\"./nr=20.png\")"
   ]
  },
  {
   "cell_type": "code",
   "execution_count": null,
   "id": "05b32b7f",
   "metadata": {},
   "outputs": [],
   "source": []
  },
  {
   "cell_type": "code",
   "execution_count": null,
   "id": "af8f97c1",
   "metadata": {},
   "outputs": [],
   "source": []
  },
  {
   "cell_type": "code",
   "execution_count": null,
   "id": "9042a36a",
   "metadata": {},
   "outputs": [],
   "source": []
  },
  {
   "cell_type": "code",
   "execution_count": null,
   "id": "6784cac7",
   "metadata": {},
   "outputs": [],
   "source": []
  },
  {
   "cell_type": "code",
   "execution_count": null,
   "id": "66a49549",
   "metadata": {},
   "outputs": [],
   "source": []
  },
  {
   "cell_type": "code",
   "execution_count": null,
   "id": "d6f3b28d",
   "metadata": {},
   "outputs": [],
   "source": []
  },
  {
   "cell_type": "code",
   "execution_count": null,
   "id": "ccbc9301",
   "metadata": {},
   "outputs": [],
   "source": []
  },
  {
   "cell_type": "code",
   "execution_count": null,
   "id": "15443f2e",
   "metadata": {},
   "outputs": [],
   "source": []
  },
  {
   "cell_type": "code",
   "execution_count": null,
   "id": "6a467955",
   "metadata": {},
   "outputs": [],
   "source": []
  }
 ],
 "metadata": {
  "kernelspec": {
   "display_name": "Julia 1.8.0",
   "language": "julia",
   "name": "julia-1.8"
  },
  "language_info": {
   "file_extension": ".jl",
   "mimetype": "application/julia",
   "name": "julia",
   "version": "1.8.0"
  }
 },
 "nbformat": 4,
 "nbformat_minor": 5
}
